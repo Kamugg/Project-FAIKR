{
 "cells": [
  {
   "cell_type": "markdown",
   "id": "02a0cca8",
   "metadata": {},
   "source": [
    "# Sentiment Analysis - The Twitter US Airlines Dataset\n",
    "\n",
    "This project revolves around a dataset of tweets redirected to all the major US airlines companies during February 2015. The idea is to try to develop a Bayesian Network around this dataset. The notebook will have 5 major sections:\n",
    "\n",
    "__Data Preprocessing:__ Modifying some columns of the data to make them more useful from our point of view. For example, we will map the time into Morning, Evening or Night.\n",
    "\n",
    "__Presentation of the Model:__ I will explain the structure of the network and why I made some choices.\n",
    "\n",
    "__Computation of the Probability Tables:__ Since we have a dataset, a lot of the probability tables can be computed on the dataset itself. This process cannot be applied on every node of the network since I couldn't find some data (for example, the probability of bad weather)\n",
    "\n",
    "__Creation of the model:__ Creation of the Bayesian network with the pgmpy library.\n",
    "\n",
    "__Queries:__ I'll perform some queries on the model."
   ]
  },
  {
   "cell_type": "markdown",
   "id": "7723fd40",
   "metadata": {},
   "source": [
    "# Table of Contents\n",
    "\n",
    "* [1. Data Preprocessing](#DP)\n",
    "    * [1.1. The Dataset and the columns we'll need](#DP-1)\n",
    "    * [1.2. The negativereason column](#DP-2)\n",
    "    * [1.3. The retweet column](#DP-3)\n",
    "    * [1.4. The tweet_created column](#DP-4)\n",
    "    * [1.5. The tweet_length column](#DP-5)\n",
    "    * [1.6. The frequency of some words](#DP-6)\n",
    "    * [1.7. The airline_sentiment_confidence column](#DP-7)\n",
    "* [2. Presentation of the Model](#PM)\n",
    "    * [2.1. The Bayesian Network](#PM-1)\n",
    "    * [2.2. Explanation of the nodes](#PM-2)\n",
    "    * [2.3. Justifications for the choices made](#PM-3)\n",
    "* [3. Computing Probabilities](#CP)"
   ]
  },
  {
   "cell_type": "markdown",
   "id": "2aca36bc",
   "metadata": {},
   "source": [
    "## 1. Data Preprocessing <a class=\"anchor\" id=\"DP\"></a>"
   ]
  },
  {
   "cell_type": "markdown",
   "id": "32ffface",
   "metadata": {},
   "source": [
    "### 1.1. The Dataset and the columns we'll need <a class=\"anchor\" id=\"DP-1\"></a>\n",
    "\n",
    "Let's import the required libraries and the dataset."
   ]
  },
  {
   "cell_type": "code",
   "execution_count": 1,
   "id": "7a6129cb",
   "metadata": {
    "scrolled": true
   },
   "outputs": [
    {
     "name": "stdout",
     "output_type": "stream",
     "text": [
      "The dataset contains 14640 rows and 15 columns\n"
     ]
    },
    {
     "data": {
      "text/html": [
       "<div>\n",
       "<style scoped>\n",
       "    .dataframe tbody tr th:only-of-type {\n",
       "        vertical-align: middle;\n",
       "    }\n",
       "\n",
       "    .dataframe tbody tr th {\n",
       "        vertical-align: top;\n",
       "    }\n",
       "\n",
       "    .dataframe thead th {\n",
       "        text-align: right;\n",
       "    }\n",
       "</style>\n",
       "<table border=\"1\" class=\"dataframe\">\n",
       "  <thead>\n",
       "    <tr style=\"text-align: right;\">\n",
       "      <th></th>\n",
       "      <th>tweet_id</th>\n",
       "      <th>airline_sentiment</th>\n",
       "      <th>airline_sentiment_confidence</th>\n",
       "      <th>negativereason</th>\n",
       "      <th>negativereason_confidence</th>\n",
       "      <th>airline</th>\n",
       "      <th>airline_sentiment_gold</th>\n",
       "      <th>name</th>\n",
       "      <th>negativereason_gold</th>\n",
       "      <th>retweet_count</th>\n",
       "      <th>text</th>\n",
       "      <th>tweet_coord</th>\n",
       "      <th>tweet_created</th>\n",
       "      <th>tweet_location</th>\n",
       "      <th>user_timezone</th>\n",
       "    </tr>\n",
       "  </thead>\n",
       "  <tbody>\n",
       "    <tr>\n",
       "      <th>0</th>\n",
       "      <td>570306133677760513</td>\n",
       "      <td>neutral</td>\n",
       "      <td>1.0000</td>\n",
       "      <td>NaN</td>\n",
       "      <td>NaN</td>\n",
       "      <td>Virgin America</td>\n",
       "      <td>NaN</td>\n",
       "      <td>cairdin</td>\n",
       "      <td>NaN</td>\n",
       "      <td>0</td>\n",
       "      <td>@VirginAmerica What @dhepburn said.</td>\n",
       "      <td>NaN</td>\n",
       "      <td>2015-02-24 11:35:52 -0800</td>\n",
       "      <td>NaN</td>\n",
       "      <td>Eastern Time (US &amp; Canada)</td>\n",
       "    </tr>\n",
       "    <tr>\n",
       "      <th>1</th>\n",
       "      <td>570301130888122368</td>\n",
       "      <td>positive</td>\n",
       "      <td>0.3486</td>\n",
       "      <td>NaN</td>\n",
       "      <td>0.0000</td>\n",
       "      <td>Virgin America</td>\n",
       "      <td>NaN</td>\n",
       "      <td>jnardino</td>\n",
       "      <td>NaN</td>\n",
       "      <td>0</td>\n",
       "      <td>@VirginAmerica plus you've added commercials t...</td>\n",
       "      <td>NaN</td>\n",
       "      <td>2015-02-24 11:15:59 -0800</td>\n",
       "      <td>NaN</td>\n",
       "      <td>Pacific Time (US &amp; Canada)</td>\n",
       "    </tr>\n",
       "    <tr>\n",
       "      <th>2</th>\n",
       "      <td>570301083672813571</td>\n",
       "      <td>neutral</td>\n",
       "      <td>0.6837</td>\n",
       "      <td>NaN</td>\n",
       "      <td>NaN</td>\n",
       "      <td>Virgin America</td>\n",
       "      <td>NaN</td>\n",
       "      <td>yvonnalynn</td>\n",
       "      <td>NaN</td>\n",
       "      <td>0</td>\n",
       "      <td>@VirginAmerica I didn't today... Must mean I n...</td>\n",
       "      <td>NaN</td>\n",
       "      <td>2015-02-24 11:15:48 -0800</td>\n",
       "      <td>Lets Play</td>\n",
       "      <td>Central Time (US &amp; Canada)</td>\n",
       "    </tr>\n",
       "    <tr>\n",
       "      <th>3</th>\n",
       "      <td>570301031407624196</td>\n",
       "      <td>negative</td>\n",
       "      <td>1.0000</td>\n",
       "      <td>Bad Flight</td>\n",
       "      <td>0.7033</td>\n",
       "      <td>Virgin America</td>\n",
       "      <td>NaN</td>\n",
       "      <td>jnardino</td>\n",
       "      <td>NaN</td>\n",
       "      <td>0</td>\n",
       "      <td>@VirginAmerica it's really aggressive to blast...</td>\n",
       "      <td>NaN</td>\n",
       "      <td>2015-02-24 11:15:36 -0800</td>\n",
       "      <td>NaN</td>\n",
       "      <td>Pacific Time (US &amp; Canada)</td>\n",
       "    </tr>\n",
       "    <tr>\n",
       "      <th>4</th>\n",
       "      <td>570300817074462722</td>\n",
       "      <td>negative</td>\n",
       "      <td>1.0000</td>\n",
       "      <td>Can't Tell</td>\n",
       "      <td>1.0000</td>\n",
       "      <td>Virgin America</td>\n",
       "      <td>NaN</td>\n",
       "      <td>jnardino</td>\n",
       "      <td>NaN</td>\n",
       "      <td>0</td>\n",
       "      <td>@VirginAmerica and it's a really big bad thing...</td>\n",
       "      <td>NaN</td>\n",
       "      <td>2015-02-24 11:14:45 -0800</td>\n",
       "      <td>NaN</td>\n",
       "      <td>Pacific Time (US &amp; Canada)</td>\n",
       "    </tr>\n",
       "  </tbody>\n",
       "</table>\n",
       "</div>"
      ],
      "text/plain": [
       "             tweet_id airline_sentiment  airline_sentiment_confidence  \\\n",
       "0  570306133677760513           neutral                        1.0000   \n",
       "1  570301130888122368          positive                        0.3486   \n",
       "2  570301083672813571           neutral                        0.6837   \n",
       "3  570301031407624196          negative                        1.0000   \n",
       "4  570300817074462722          negative                        1.0000   \n",
       "\n",
       "  negativereason  negativereason_confidence         airline  \\\n",
       "0            NaN                        NaN  Virgin America   \n",
       "1            NaN                     0.0000  Virgin America   \n",
       "2            NaN                        NaN  Virgin America   \n",
       "3     Bad Flight                     0.7033  Virgin America   \n",
       "4     Can't Tell                     1.0000  Virgin America   \n",
       "\n",
       "  airline_sentiment_gold        name negativereason_gold  retweet_count  \\\n",
       "0                    NaN     cairdin                 NaN              0   \n",
       "1                    NaN    jnardino                 NaN              0   \n",
       "2                    NaN  yvonnalynn                 NaN              0   \n",
       "3                    NaN    jnardino                 NaN              0   \n",
       "4                    NaN    jnardino                 NaN              0   \n",
       "\n",
       "                                                text tweet_coord  \\\n",
       "0                @VirginAmerica What @dhepburn said.         NaN   \n",
       "1  @VirginAmerica plus you've added commercials t...         NaN   \n",
       "2  @VirginAmerica I didn't today... Must mean I n...         NaN   \n",
       "3  @VirginAmerica it's really aggressive to blast...         NaN   \n",
       "4  @VirginAmerica and it's a really big bad thing...         NaN   \n",
       "\n",
       "               tweet_created tweet_location               user_timezone  \n",
       "0  2015-02-24 11:35:52 -0800            NaN  Eastern Time (US & Canada)  \n",
       "1  2015-02-24 11:15:59 -0800            NaN  Pacific Time (US & Canada)  \n",
       "2  2015-02-24 11:15:48 -0800      Lets Play  Central Time (US & Canada)  \n",
       "3  2015-02-24 11:15:36 -0800            NaN  Pacific Time (US & Canada)  \n",
       "4  2015-02-24 11:14:45 -0800            NaN  Pacific Time (US & Canada)  "
      ]
     },
     "execution_count": 1,
     "metadata": {},
     "output_type": "execute_result"
    }
   ],
   "source": [
    "import pandas as pd\n",
    "import numpy as np\n",
    "import matplotlib.pyplot as plt # To plot histograms\n",
    "%matplotlib inline\n",
    "\n",
    "tweet_df = pd.read_csv('Tweets.csv')\n",
    "print('The dataset contains {} rows and {} columns'.format(tweet_df.shape[0], tweet_df.shape[1]))\n",
    "tweet_df.head()"
   ]
  },
  {
   "cell_type": "markdown",
   "id": "ac37d991",
   "metadata": {},
   "source": [
    "As we can see, a lot of the columns are not really required, like tweet_id, name etcetera. Let's start by getting rid of them."
   ]
  },
  {
   "cell_type": "code",
   "execution_count": 2,
   "id": "d1822ca6",
   "metadata": {},
   "outputs": [
    {
     "data": {
      "text/html": [
       "<div>\n",
       "<style scoped>\n",
       "    .dataframe tbody tr th:only-of-type {\n",
       "        vertical-align: middle;\n",
       "    }\n",
       "\n",
       "    .dataframe tbody tr th {\n",
       "        vertical-align: top;\n",
       "    }\n",
       "\n",
       "    .dataframe thead th {\n",
       "        text-align: right;\n",
       "    }\n",
       "</style>\n",
       "<table border=\"1\" class=\"dataframe\">\n",
       "  <thead>\n",
       "    <tr style=\"text-align: right;\">\n",
       "      <th></th>\n",
       "      <th>airline_sentiment</th>\n",
       "      <th>airline_sentiment_confidence</th>\n",
       "      <th>negativereason</th>\n",
       "      <th>airline</th>\n",
       "      <th>retweet_count</th>\n",
       "      <th>text</th>\n",
       "      <th>tweet_created</th>\n",
       "    </tr>\n",
       "  </thead>\n",
       "  <tbody>\n",
       "    <tr>\n",
       "      <th>0</th>\n",
       "      <td>neutral</td>\n",
       "      <td>1.0000</td>\n",
       "      <td>NaN</td>\n",
       "      <td>Virgin America</td>\n",
       "      <td>0</td>\n",
       "      <td>@VirginAmerica What @dhepburn said.</td>\n",
       "      <td>2015-02-24 11:35:52 -0800</td>\n",
       "    </tr>\n",
       "    <tr>\n",
       "      <th>1</th>\n",
       "      <td>positive</td>\n",
       "      <td>0.3486</td>\n",
       "      <td>NaN</td>\n",
       "      <td>Virgin America</td>\n",
       "      <td>0</td>\n",
       "      <td>@VirginAmerica plus you've added commercials t...</td>\n",
       "      <td>2015-02-24 11:15:59 -0800</td>\n",
       "    </tr>\n",
       "    <tr>\n",
       "      <th>2</th>\n",
       "      <td>neutral</td>\n",
       "      <td>0.6837</td>\n",
       "      <td>NaN</td>\n",
       "      <td>Virgin America</td>\n",
       "      <td>0</td>\n",
       "      <td>@VirginAmerica I didn't today... Must mean I n...</td>\n",
       "      <td>2015-02-24 11:15:48 -0800</td>\n",
       "    </tr>\n",
       "    <tr>\n",
       "      <th>3</th>\n",
       "      <td>negative</td>\n",
       "      <td>1.0000</td>\n",
       "      <td>Bad Flight</td>\n",
       "      <td>Virgin America</td>\n",
       "      <td>0</td>\n",
       "      <td>@VirginAmerica it's really aggressive to blast...</td>\n",
       "      <td>2015-02-24 11:15:36 -0800</td>\n",
       "    </tr>\n",
       "    <tr>\n",
       "      <th>4</th>\n",
       "      <td>negative</td>\n",
       "      <td>1.0000</td>\n",
       "      <td>Can't Tell</td>\n",
       "      <td>Virgin America</td>\n",
       "      <td>0</td>\n",
       "      <td>@VirginAmerica and it's a really big bad thing...</td>\n",
       "      <td>2015-02-24 11:14:45 -0800</td>\n",
       "    </tr>\n",
       "  </tbody>\n",
       "</table>\n",
       "</div>"
      ],
      "text/plain": [
       "  airline_sentiment  airline_sentiment_confidence negativereason  \\\n",
       "0           neutral                        1.0000            NaN   \n",
       "1          positive                        0.3486            NaN   \n",
       "2           neutral                        0.6837            NaN   \n",
       "3          negative                        1.0000     Bad Flight   \n",
       "4          negative                        1.0000     Can't Tell   \n",
       "\n",
       "          airline  retweet_count  \\\n",
       "0  Virgin America              0   \n",
       "1  Virgin America              0   \n",
       "2  Virgin America              0   \n",
       "3  Virgin America              0   \n",
       "4  Virgin America              0   \n",
       "\n",
       "                                                text  \\\n",
       "0                @VirginAmerica What @dhepburn said.   \n",
       "1  @VirginAmerica plus you've added commercials t...   \n",
       "2  @VirginAmerica I didn't today... Must mean I n...   \n",
       "3  @VirginAmerica it's really aggressive to blast...   \n",
       "4  @VirginAmerica and it's a really big bad thing...   \n",
       "\n",
       "               tweet_created  \n",
       "0  2015-02-24 11:35:52 -0800  \n",
       "1  2015-02-24 11:15:59 -0800  \n",
       "2  2015-02-24 11:15:48 -0800  \n",
       "3  2015-02-24 11:15:36 -0800  \n",
       "4  2015-02-24 11:14:45 -0800  "
      ]
     },
     "execution_count": 2,
     "metadata": {},
     "output_type": "execute_result"
    }
   ],
   "source": [
    "useless_columns = ['tweet_id',\n",
    "                   'negativereason_confidence',\n",
    "                   'airline_sentiment_gold',\n",
    "                   'name',\n",
    "                   'negativereason_gold',\n",
    "                   'tweet_coord',\n",
    "                   'tweet_location',\n",
    "                   'user_timezone']\n",
    "tweet_df = tweet_df.drop(useless_columns, axis=1)\n",
    "tweet_df.head()"
   ]
  },
  {
   "cell_type": "markdown",
   "id": "3c166bee",
   "metadata": {},
   "source": [
    "### 1.2. The negativereason column <a class=\"anchor\" id=\"DP-2\"></a>\n",
    "\n",
    "Very well! In the next step we want to examine how many unique negativereasons there are (first we remove NaNs to avoid errors):"
   ]
  },
  {
   "cell_type": "code",
   "execution_count": 3,
   "id": "217129ab",
   "metadata": {},
   "outputs": [
    {
     "name": "stdout",
     "output_type": "stream",
     "text": [
      "All the negative reasons are:\n",
      "['Bad Flight' \"Can't Tell\" 'Cancelled Flight' 'Customer Service Issue'\n",
      " 'Damaged Luggage' 'Flight Attendant Complaints' 'Flight Booking Problems'\n",
      " 'Late Flight' 'Lost Luggage' 'longlines']\n"
     ]
    }
   ],
   "source": [
    "print('All the negative reasons are:\\n{}'.format(np.unique(tweet_df[~pd.isna(tweet_df['negativereason'])]['negativereason'])))"
   ]
  },
  {
   "cell_type": "markdown",
   "id": "bb2106e9",
   "metadata": {},
   "source": [
    "All right. To not make the netork too complex we want to apply this mapping to the negativereason column:\n",
    "\n",
    "- __Customer Service__ will contain __Customer Service Issue__, __Cancelled Flight__ and __Flight Booking Problem__\n",
    "- __Complaints__ will contain __Bad Flight__, __Damaged Luggage__, __Lost Luggage__ and __Flight Attendant Complaints__\n",
    "- __Delay__ will contain __longlines__ and __Late Flight__\n",
    "- __None__ will contain __NaN__ and __Can't Tell__\n",
    "\n",
    "Said that, let's build the mapping function."
   ]
  },
  {
   "cell_type": "code",
   "execution_count": 4,
   "id": "9f366e8a",
   "metadata": {},
   "outputs": [
    {
     "data": {
      "text/html": [
       "<div>\n",
       "<style scoped>\n",
       "    .dataframe tbody tr th:only-of-type {\n",
       "        vertical-align: middle;\n",
       "    }\n",
       "\n",
       "    .dataframe tbody tr th {\n",
       "        vertical-align: top;\n",
       "    }\n",
       "\n",
       "    .dataframe thead th {\n",
       "        text-align: right;\n",
       "    }\n",
       "</style>\n",
       "<table border=\"1\" class=\"dataframe\">\n",
       "  <thead>\n",
       "    <tr style=\"text-align: right;\">\n",
       "      <th></th>\n",
       "      <th>airline_sentiment</th>\n",
       "      <th>airline_sentiment_confidence</th>\n",
       "      <th>negativereason</th>\n",
       "      <th>airline</th>\n",
       "      <th>retweet_count</th>\n",
       "      <th>text</th>\n",
       "      <th>tweet_created</th>\n",
       "    </tr>\n",
       "  </thead>\n",
       "  <tbody>\n",
       "    <tr>\n",
       "      <th>0</th>\n",
       "      <td>neutral</td>\n",
       "      <td>1.0000</td>\n",
       "      <td>None</td>\n",
       "      <td>Virgin America</td>\n",
       "      <td>0</td>\n",
       "      <td>@VirginAmerica What @dhepburn said.</td>\n",
       "      <td>2015-02-24 11:35:52 -0800</td>\n",
       "    </tr>\n",
       "    <tr>\n",
       "      <th>1</th>\n",
       "      <td>positive</td>\n",
       "      <td>0.3486</td>\n",
       "      <td>None</td>\n",
       "      <td>Virgin America</td>\n",
       "      <td>0</td>\n",
       "      <td>@VirginAmerica plus you've added commercials t...</td>\n",
       "      <td>2015-02-24 11:15:59 -0800</td>\n",
       "    </tr>\n",
       "    <tr>\n",
       "      <th>2</th>\n",
       "      <td>neutral</td>\n",
       "      <td>0.6837</td>\n",
       "      <td>None</td>\n",
       "      <td>Virgin America</td>\n",
       "      <td>0</td>\n",
       "      <td>@VirginAmerica I didn't today... Must mean I n...</td>\n",
       "      <td>2015-02-24 11:15:48 -0800</td>\n",
       "    </tr>\n",
       "    <tr>\n",
       "      <th>3</th>\n",
       "      <td>negative</td>\n",
       "      <td>1.0000</td>\n",
       "      <td>Complaints</td>\n",
       "      <td>Virgin America</td>\n",
       "      <td>0</td>\n",
       "      <td>@VirginAmerica it's really aggressive to blast...</td>\n",
       "      <td>2015-02-24 11:15:36 -0800</td>\n",
       "    </tr>\n",
       "    <tr>\n",
       "      <th>4</th>\n",
       "      <td>negative</td>\n",
       "      <td>1.0000</td>\n",
       "      <td>None</td>\n",
       "      <td>Virgin America</td>\n",
       "      <td>0</td>\n",
       "      <td>@VirginAmerica and it's a really big bad thing...</td>\n",
       "      <td>2015-02-24 11:14:45 -0800</td>\n",
       "    </tr>\n",
       "  </tbody>\n",
       "</table>\n",
       "</div>"
      ],
      "text/plain": [
       "  airline_sentiment  airline_sentiment_confidence negativereason  \\\n",
       "0           neutral                        1.0000           None   \n",
       "1          positive                        0.3486           None   \n",
       "2           neutral                        0.6837           None   \n",
       "3          negative                        1.0000     Complaints   \n",
       "4          negative                        1.0000           None   \n",
       "\n",
       "          airline  retweet_count  \\\n",
       "0  Virgin America              0   \n",
       "1  Virgin America              0   \n",
       "2  Virgin America              0   \n",
       "3  Virgin America              0   \n",
       "4  Virgin America              0   \n",
       "\n",
       "                                                text  \\\n",
       "0                @VirginAmerica What @dhepburn said.   \n",
       "1  @VirginAmerica plus you've added commercials t...   \n",
       "2  @VirginAmerica I didn't today... Must mean I n...   \n",
       "3  @VirginAmerica it's really aggressive to blast...   \n",
       "4  @VirginAmerica and it's a really big bad thing...   \n",
       "\n",
       "               tweet_created  \n",
       "0  2015-02-24 11:35:52 -0800  \n",
       "1  2015-02-24 11:15:59 -0800  \n",
       "2  2015-02-24 11:15:48 -0800  \n",
       "3  2015-02-24 11:15:36 -0800  \n",
       "4  2015-02-24 11:14:45 -0800  "
      ]
     },
     "execution_count": 4,
     "metadata": {},
     "output_type": "execute_result"
    }
   ],
   "source": [
    "def mapnegreason(value):\n",
    "    if value in ['Customer Service Issue', 'Cancelled Flight', 'Flight Booking Problems']:\n",
    "        return 'Customer Service'\n",
    "    elif value in ['Bad Flight', 'Damaged Luggage', 'Lost Luggage', 'Flight Attendant Complaints']:\n",
    "        return 'Complaints'\n",
    "    elif value in ['longlines', 'Late Flight']:\n",
    "        return 'Delay'\n",
    "    elif pd.isna(value) or value==\"Can't Tell\":\n",
    "        return 'None'\n",
    "    print('Error: {} not found.'.format(value))\n",
    "tweet_df['negativereason'] = tweet_df['negativereason'].map(mapnegreason)\n",
    "tweet_df.head()"
   ]
  },
  {
   "cell_type": "markdown",
   "id": "34a2abce",
   "metadata": {},
   "source": [
    "### 1.3. The retweet column <a class=\"anchor\" id=\"DP-3\"></a>\n",
    "\n",
    "Perfect! I'm now curious to examine the retweet count. From the first rows we see all 0s. Let's see how the values are distributed:"
   ]
  },
  {
   "cell_type": "code",
   "execution_count": 5,
   "id": "418a79a7",
   "metadata": {},
   "outputs": [
    {
     "data": {
      "text/plain": [
       "{0: 13873,\n",
       " 1: 640,\n",
       " 2: 66,\n",
       " 3: 22,\n",
       " 4: 17,\n",
       " 5: 5,\n",
       " 7: 3,\n",
       " 22: 2,\n",
       " 6: 3,\n",
       " 18: 1,\n",
       " 15: 1,\n",
       " 31: 1,\n",
       " 11: 1,\n",
       " 8: 1,\n",
       " 9: 1,\n",
       " 28: 1,\n",
       " 32: 1,\n",
       " 44: 1}"
      ]
     },
     "execution_count": 5,
     "metadata": {},
     "output_type": "execute_result"
    }
   ],
   "source": [
    "retweets = {}\n",
    "for n in tweet_df['retweet_count']:\n",
    "    retweets[n] = retweets.get(n, 0) + 1\n",
    "retweets"
   ]
  },
  {
   "cell_type": "markdown",
   "id": "79b2bd22",
   "metadata": {},
   "source": [
    "As expected, there is a big amount of 0. I think that I can discretize the retweets in just 2 categories:\n",
    "\n",
    "__count = 0:__ False\n",
    "\n",
    "__count > 0:__ True\n",
    "\n",
    "Let's remap the column then!"
   ]
  },
  {
   "cell_type": "code",
   "execution_count": 6,
   "id": "169392cc",
   "metadata": {},
   "outputs": [
    {
     "data": {
      "text/html": [
       "<div>\n",
       "<style scoped>\n",
       "    .dataframe tbody tr th:only-of-type {\n",
       "        vertical-align: middle;\n",
       "    }\n",
       "\n",
       "    .dataframe tbody tr th {\n",
       "        vertical-align: top;\n",
       "    }\n",
       "\n",
       "    .dataframe thead th {\n",
       "        text-align: right;\n",
       "    }\n",
       "</style>\n",
       "<table border=\"1\" class=\"dataframe\">\n",
       "  <thead>\n",
       "    <tr style=\"text-align: right;\">\n",
       "      <th></th>\n",
       "      <th>airline_sentiment</th>\n",
       "      <th>airline_sentiment_confidence</th>\n",
       "      <th>negativereason</th>\n",
       "      <th>airline</th>\n",
       "      <th>retweet_count</th>\n",
       "      <th>text</th>\n",
       "      <th>tweet_created</th>\n",
       "    </tr>\n",
       "  </thead>\n",
       "  <tbody>\n",
       "    <tr>\n",
       "      <th>0</th>\n",
       "      <td>neutral</td>\n",
       "      <td>1.0000</td>\n",
       "      <td>None</td>\n",
       "      <td>Virgin America</td>\n",
       "      <td>False</td>\n",
       "      <td>@VirginAmerica What @dhepburn said.</td>\n",
       "      <td>2015-02-24 11:35:52 -0800</td>\n",
       "    </tr>\n",
       "    <tr>\n",
       "      <th>1</th>\n",
       "      <td>positive</td>\n",
       "      <td>0.3486</td>\n",
       "      <td>None</td>\n",
       "      <td>Virgin America</td>\n",
       "      <td>False</td>\n",
       "      <td>@VirginAmerica plus you've added commercials t...</td>\n",
       "      <td>2015-02-24 11:15:59 -0800</td>\n",
       "    </tr>\n",
       "    <tr>\n",
       "      <th>2</th>\n",
       "      <td>neutral</td>\n",
       "      <td>0.6837</td>\n",
       "      <td>None</td>\n",
       "      <td>Virgin America</td>\n",
       "      <td>False</td>\n",
       "      <td>@VirginAmerica I didn't today... Must mean I n...</td>\n",
       "      <td>2015-02-24 11:15:48 -0800</td>\n",
       "    </tr>\n",
       "    <tr>\n",
       "      <th>3</th>\n",
       "      <td>negative</td>\n",
       "      <td>1.0000</td>\n",
       "      <td>Complaints</td>\n",
       "      <td>Virgin America</td>\n",
       "      <td>False</td>\n",
       "      <td>@VirginAmerica it's really aggressive to blast...</td>\n",
       "      <td>2015-02-24 11:15:36 -0800</td>\n",
       "    </tr>\n",
       "    <tr>\n",
       "      <th>4</th>\n",
       "      <td>negative</td>\n",
       "      <td>1.0000</td>\n",
       "      <td>None</td>\n",
       "      <td>Virgin America</td>\n",
       "      <td>False</td>\n",
       "      <td>@VirginAmerica and it's a really big bad thing...</td>\n",
       "      <td>2015-02-24 11:14:45 -0800</td>\n",
       "    </tr>\n",
       "  </tbody>\n",
       "</table>\n",
       "</div>"
      ],
      "text/plain": [
       "  airline_sentiment  airline_sentiment_confidence negativereason  \\\n",
       "0           neutral                        1.0000           None   \n",
       "1          positive                        0.3486           None   \n",
       "2           neutral                        0.6837           None   \n",
       "3          negative                        1.0000     Complaints   \n",
       "4          negative                        1.0000           None   \n",
       "\n",
       "          airline retweet_count  \\\n",
       "0  Virgin America         False   \n",
       "1  Virgin America         False   \n",
       "2  Virgin America         False   \n",
       "3  Virgin America         False   \n",
       "4  Virgin America         False   \n",
       "\n",
       "                                                text  \\\n",
       "0                @VirginAmerica What @dhepburn said.   \n",
       "1  @VirginAmerica plus you've added commercials t...   \n",
       "2  @VirginAmerica I didn't today... Must mean I n...   \n",
       "3  @VirginAmerica it's really aggressive to blast...   \n",
       "4  @VirginAmerica and it's a really big bad thing...   \n",
       "\n",
       "               tweet_created  \n",
       "0  2015-02-24 11:35:52 -0800  \n",
       "1  2015-02-24 11:15:59 -0800  \n",
       "2  2015-02-24 11:15:48 -0800  \n",
       "3  2015-02-24 11:15:36 -0800  \n",
       "4  2015-02-24 11:14:45 -0800  "
      ]
     },
     "execution_count": 6,
     "metadata": {},
     "output_type": "execute_result"
    }
   ],
   "source": [
    "def retweetsmap(value):\n",
    "    if value == 0:\n",
    "        return 'False'\n",
    "    return 'True'\n",
    "\n",
    "tweet_df['retweet_count'] = tweet_df['retweet_count'].map(retweetsmap)\n",
    "tweet_df.head()"
   ]
  },
  {
   "cell_type": "markdown",
   "id": "eca798cd",
   "metadata": {},
   "source": [
    "### 1.4. The tweet_created column <a class=\"anchor\" id=\"DP-4\"></a>\n",
    "\n",
    "Another important step is remapping the tweet time in a discrete repreentation. In fact the teet time __could__ explain the number of retweets; for example a tweet sent during the night might receive low attention compared to one sent during the evening. The idea is to apply this mapping:\n",
    "\n",
    "__from 00.00 AM to 06.00 AM:__ Night\n",
    "\n",
    "__from 06.00 AM to 12.00 PM:__ Morning\n",
    "\n",
    "__from 12.00 AM to 18.00 PM:__ Noon\n",
    "\n",
    "__from 18.00 AM to 24.00 PM:__ Evening\n",
    "\n",
    "Let's try to perform the mapping!"
   ]
  },
  {
   "cell_type": "code",
   "execution_count": 7,
   "id": "713e3915",
   "metadata": {},
   "outputs": [
    {
     "data": {
      "text/html": [
       "<div>\n",
       "<style scoped>\n",
       "    .dataframe tbody tr th:only-of-type {\n",
       "        vertical-align: middle;\n",
       "    }\n",
       "\n",
       "    .dataframe tbody tr th {\n",
       "        vertical-align: top;\n",
       "    }\n",
       "\n",
       "    .dataframe thead th {\n",
       "        text-align: right;\n",
       "    }\n",
       "</style>\n",
       "<table border=\"1\" class=\"dataframe\">\n",
       "  <thead>\n",
       "    <tr style=\"text-align: right;\">\n",
       "      <th></th>\n",
       "      <th>airline_sentiment</th>\n",
       "      <th>airline_sentiment_confidence</th>\n",
       "      <th>negativereason</th>\n",
       "      <th>airline</th>\n",
       "      <th>retweet_count</th>\n",
       "      <th>text</th>\n",
       "      <th>tweet_created</th>\n",
       "    </tr>\n",
       "  </thead>\n",
       "  <tbody>\n",
       "    <tr>\n",
       "      <th>0</th>\n",
       "      <td>neutral</td>\n",
       "      <td>1.0000</td>\n",
       "      <td>None</td>\n",
       "      <td>Virgin America</td>\n",
       "      <td>False</td>\n",
       "      <td>@VirginAmerica What @dhepburn said.</td>\n",
       "      <td>Morning</td>\n",
       "    </tr>\n",
       "    <tr>\n",
       "      <th>1</th>\n",
       "      <td>positive</td>\n",
       "      <td>0.3486</td>\n",
       "      <td>None</td>\n",
       "      <td>Virgin America</td>\n",
       "      <td>False</td>\n",
       "      <td>@VirginAmerica plus you've added commercials t...</td>\n",
       "      <td>Morning</td>\n",
       "    </tr>\n",
       "    <tr>\n",
       "      <th>2</th>\n",
       "      <td>neutral</td>\n",
       "      <td>0.6837</td>\n",
       "      <td>None</td>\n",
       "      <td>Virgin America</td>\n",
       "      <td>False</td>\n",
       "      <td>@VirginAmerica I didn't today... Must mean I n...</td>\n",
       "      <td>Morning</td>\n",
       "    </tr>\n",
       "    <tr>\n",
       "      <th>3</th>\n",
       "      <td>negative</td>\n",
       "      <td>1.0000</td>\n",
       "      <td>Complaints</td>\n",
       "      <td>Virgin America</td>\n",
       "      <td>False</td>\n",
       "      <td>@VirginAmerica it's really aggressive to blast...</td>\n",
       "      <td>Morning</td>\n",
       "    </tr>\n",
       "    <tr>\n",
       "      <th>4</th>\n",
       "      <td>negative</td>\n",
       "      <td>1.0000</td>\n",
       "      <td>None</td>\n",
       "      <td>Virgin America</td>\n",
       "      <td>False</td>\n",
       "      <td>@VirginAmerica and it's a really big bad thing...</td>\n",
       "      <td>Morning</td>\n",
       "    </tr>\n",
       "  </tbody>\n",
       "</table>\n",
       "</div>"
      ],
      "text/plain": [
       "  airline_sentiment  airline_sentiment_confidence negativereason  \\\n",
       "0           neutral                        1.0000           None   \n",
       "1          positive                        0.3486           None   \n",
       "2           neutral                        0.6837           None   \n",
       "3          negative                        1.0000     Complaints   \n",
       "4          negative                        1.0000           None   \n",
       "\n",
       "          airline retweet_count  \\\n",
       "0  Virgin America         False   \n",
       "1  Virgin America         False   \n",
       "2  Virgin America         False   \n",
       "3  Virgin America         False   \n",
       "4  Virgin America         False   \n",
       "\n",
       "                                                text tweet_created  \n",
       "0                @VirginAmerica What @dhepburn said.       Morning  \n",
       "1  @VirginAmerica plus you've added commercials t...       Morning  \n",
       "2  @VirginAmerica I didn't today... Must mean I n...       Morning  \n",
       "3  @VirginAmerica it's really aggressive to blast...       Morning  \n",
       "4  @VirginAmerica and it's a really big bad thing...       Morning  "
      ]
     },
     "execution_count": 7,
     "metadata": {},
     "output_type": "execute_result"
    }
   ],
   "source": [
    "from datetime import datetime # To better manage dates\n",
    "\n",
    "def mapdate(datestring):\n",
    "    datestring=datestring[:-6]\n",
    "    date = datetime.fromisoformat(datestring)\n",
    "    if 0 <= date.hour < 6:\n",
    "        return 'Night'\n",
    "    elif 6 <= date.hour < 12:\n",
    "        return 'Morning'\n",
    "    elif 12 <= date.hour < 18:\n",
    "        return 'Noon'\n",
    "    return 'Evening'\n",
    "\n",
    "tweet_df['tweet_created'] = tweet_df['tweet_created'].map(mapdate)\n",
    "tweet_df.head()"
   ]
  },
  {
   "cell_type": "markdown",
   "id": "1dd5c190",
   "metadata": {},
   "source": [
    "### 1.5. The tweet_length column <a class=\"anchor\" id=\"DP-5\"></a>\n",
    "\n",
    "We now want to add a column that encodes the length of a tweet because it __could__ be related to its sentiment.\n",
    "The idea is to define __maxlen__ as the length of the longest tweet in the dataset. We then classify a tweet as:\n",
    "\n",
    "__Short:__ If its length is between 0 and 0.3\\*maxlen.\n",
    "\n",
    "__Medium:__ If its length is between 0.3\\*maxlen and 0.6\\*maxlen.\n",
    "\n",
    "__Long:__ If it doesn't fall in any of the previous categories.\n",
    "\n",
    "Let's add the column then."
   ]
  },
  {
   "cell_type": "code",
   "execution_count": 8,
   "id": "38c2b2b2",
   "metadata": {},
   "outputs": [
    {
     "data": {
      "text/html": [
       "<div>\n",
       "<style scoped>\n",
       "    .dataframe tbody tr th:only-of-type {\n",
       "        vertical-align: middle;\n",
       "    }\n",
       "\n",
       "    .dataframe tbody tr th {\n",
       "        vertical-align: top;\n",
       "    }\n",
       "\n",
       "    .dataframe thead th {\n",
       "        text-align: right;\n",
       "    }\n",
       "</style>\n",
       "<table border=\"1\" class=\"dataframe\">\n",
       "  <thead>\n",
       "    <tr style=\"text-align: right;\">\n",
       "      <th></th>\n",
       "      <th>airline_sentiment</th>\n",
       "      <th>airline_sentiment_confidence</th>\n",
       "      <th>negativereason</th>\n",
       "      <th>airline</th>\n",
       "      <th>retweet_count</th>\n",
       "      <th>text</th>\n",
       "      <th>tweet_created</th>\n",
       "      <th>tweet_length</th>\n",
       "    </tr>\n",
       "  </thead>\n",
       "  <tbody>\n",
       "    <tr>\n",
       "      <th>0</th>\n",
       "      <td>neutral</td>\n",
       "      <td>1.0000</td>\n",
       "      <td>None</td>\n",
       "      <td>Virgin America</td>\n",
       "      <td>False</td>\n",
       "      <td>@VirginAmerica What @dhepburn said.</td>\n",
       "      <td>Morning</td>\n",
       "      <td>Short</td>\n",
       "    </tr>\n",
       "    <tr>\n",
       "      <th>1</th>\n",
       "      <td>positive</td>\n",
       "      <td>0.3486</td>\n",
       "      <td>None</td>\n",
       "      <td>Virgin America</td>\n",
       "      <td>False</td>\n",
       "      <td>@VirginAmerica plus you've added commercials t...</td>\n",
       "      <td>Morning</td>\n",
       "      <td>Medium</td>\n",
       "    </tr>\n",
       "    <tr>\n",
       "      <th>2</th>\n",
       "      <td>neutral</td>\n",
       "      <td>0.6837</td>\n",
       "      <td>None</td>\n",
       "      <td>Virgin America</td>\n",
       "      <td>False</td>\n",
       "      <td>@VirginAmerica I didn't today... Must mean I n...</td>\n",
       "      <td>Morning</td>\n",
       "      <td>Medium</td>\n",
       "    </tr>\n",
       "    <tr>\n",
       "      <th>3</th>\n",
       "      <td>negative</td>\n",
       "      <td>1.0000</td>\n",
       "      <td>Complaints</td>\n",
       "      <td>Virgin America</td>\n",
       "      <td>False</td>\n",
       "      <td>@VirginAmerica it's really aggressive to blast...</td>\n",
       "      <td>Morning</td>\n",
       "      <td>Long</td>\n",
       "    </tr>\n",
       "    <tr>\n",
       "      <th>4</th>\n",
       "      <td>negative</td>\n",
       "      <td>1.0000</td>\n",
       "      <td>None</td>\n",
       "      <td>Virgin America</td>\n",
       "      <td>False</td>\n",
       "      <td>@VirginAmerica and it's a really big bad thing...</td>\n",
       "      <td>Morning</td>\n",
       "      <td>Medium</td>\n",
       "    </tr>\n",
       "  </tbody>\n",
       "</table>\n",
       "</div>"
      ],
      "text/plain": [
       "  airline_sentiment  airline_sentiment_confidence negativereason  \\\n",
       "0           neutral                        1.0000           None   \n",
       "1          positive                        0.3486           None   \n",
       "2           neutral                        0.6837           None   \n",
       "3          negative                        1.0000     Complaints   \n",
       "4          negative                        1.0000           None   \n",
       "\n",
       "          airline retweet_count  \\\n",
       "0  Virgin America         False   \n",
       "1  Virgin America         False   \n",
       "2  Virgin America         False   \n",
       "3  Virgin America         False   \n",
       "4  Virgin America         False   \n",
       "\n",
       "                                                text tweet_created  \\\n",
       "0                @VirginAmerica What @dhepburn said.       Morning   \n",
       "1  @VirginAmerica plus you've added commercials t...       Morning   \n",
       "2  @VirginAmerica I didn't today... Must mean I n...       Morning   \n",
       "3  @VirginAmerica it's really aggressive to blast...       Morning   \n",
       "4  @VirginAmerica and it's a really big bad thing...       Morning   \n",
       "\n",
       "  tweet_length  \n",
       "0        Short  \n",
       "1       Medium  \n",
       "2       Medium  \n",
       "3         Long  \n",
       "4       Medium  "
      ]
     },
     "execution_count": 8,
     "metadata": {},
     "output_type": "execute_result"
    }
   ],
   "source": [
    "maxlen = max(tweet_df['text'].map(lambda x: len(x)))\n",
    "\n",
    "def maplength(tweet):\n",
    "    if 0 <= len(tweet) < int(0.3*maxlen):\n",
    "        return 'Short'\n",
    "    elif int(0.3*maxlen) <= len(tweet) < int(0.6*maxlen):\n",
    "        return 'Medium'\n",
    "    return 'Long'\n",
    "\n",
    "tweet_df['tweet_length'] = tweet_df['text'].map(maplength)\n",
    "tweet_df.head()"
   ]
  },
  {
   "cell_type": "markdown",
   "id": "cd5b9860",
   "metadata": {},
   "source": [
    "### 1.6. The frequency of some words <a class=\"anchor\" id=\"DP-6\"></a>\n",
    "\n",
    "Now I want to analyze the occurence of the words in the tweets. The idea is to find words that could be related to a certain type of sentiment.\n",
    "The first thing we are going to do is extracting a dictionary of the type (word, number_occurences). We will only pick words of length 4 or more, to avoid non-words like \"the\", \"is\" etcetera..."
   ]
  },
  {
   "cell_type": "code",
   "execution_count": 9,
   "id": "c4e32eb5",
   "metadata": {},
   "outputs": [
    {
     "data": {
      "image/png": "[encoded data removed]",
      "text/plain": [
       "<Figure size 432x288 with 1 Axes>"
      ]
     },
     "metadata": {
      "needs_background": "light"
     },
     "output_type": "display_data"
    },
    {
     "data": {
      "image/png": "[encoded data removed]",
      "text/plain": [
       "<Figure size 432x288 with 1 Axes>"
      ]
     },
     "metadata": {
      "needs_background": "light"
     },
     "output_type": "display_data"
    },
    {
     "data": {
      "image/png": "[encoded data removed]",
      "text/plain": [
       "<Figure size 432x288 with 1 Axes>"
      ]
     },
     "metadata": {
      "needs_background": "light"
     },
     "output_type": "display_data"
    }
   ],
   "source": [
    "import re # Imported because its split() method is very useful\n",
    "selected = 20 # Number of the X most frequent words shown\n",
    "minlen = 4 # Minimum length for a word to be added in the dataset\n",
    "for sentiment in ['positive', 'neutral', 'negative']: # For each sentiment\n",
    "    word_dict = {} # Create a dict that will contain pairs (word, number_occurencies)\n",
    "    for tweet in tweet_df[tweet_df['airline_sentiment']==sentiment]['text']: # For each tweet of the current sentiment\n",
    "        for word in re.split(\"'| \", tweet): # Split the words in the tweet for each blankspace and each ' (to get rid of it's, that's etc)\n",
    "            if len(word) > minlen and word[0] != '@': # If a word is longer than minlen and is not a quote (doesn't start with @)\n",
    "                word_dict[word.lower()] = word_dict.get(word.lower(), 0) + 1 # Update frequency count\n",
    "    ordered_dict = dict(sorted(word_dict.items(), key=lambda x: x[1], reverse=True)[:selected]) # Sort the dict\n",
    "    fig, ax = plt.subplots() # Create plot\n",
    "    ax.bar(ordered_dict.keys(), ordered_dict.values()) # Create histogram\n",
    "    ax.set_title('First {} most common words for the {} sentiment'.format(selected, sentiment)) # Set title\n",
    "    plt.xticks(rotation=90) # Rotate xlabel\n",
    "    plt.show() # Show plot"
   ]
  },
  {
   "cell_type": "markdown",
   "id": "32add3b5",
   "metadata": {},
   "source": [
    "For what we can see, __flight__ is a good candidate because it's a word that appears in all the three sentiments, but it's more common in the negative sentiment.\n",
    "Also __thank__ seems to appear mostly in the neutral and positive sentiment, making it a good candidate.\n",
    "And lastly also __cancelled__ is a good candidate because it seems to appear somewhat frequently in both positive and negative tweets.\n",
    "Let's store this word in a variable. We will use them later."
   ]
  },
  {
   "cell_type": "code",
   "execution_count": 10,
   "id": "8d01a5d5",
   "metadata": {},
   "outputs": [],
   "source": [
    "interesting_words = ['flight', 'thank', 'cancelled']"
   ]
  },
  {
   "cell_type": "markdown",
   "id": "5cf69491",
   "metadata": {},
   "source": [
    "### 1.7. The airline_sentiment_confidence column <a class=\"anchor\" id=\"DP-7\"></a>\n",
    "\n",
    "This column seems to encode the confidence that the sentiment is actually correct: some tweets might be ambiguous therefore one can't be 100% sure of the correctness of a label. We are interested in this column because the presence of one of the words that we found earlier __could__ influence the confidence of a sentiment.\n",
    "As a first step, let's see what's the minimum, the maximum and how the values are distributed."
   ]
  },
  {
   "cell_type": "code",
   "execution_count": 11,
   "id": "2564e3de",
   "metadata": {},
   "outputs": [
    {
     "name": "stdout",
     "output_type": "stream",
     "text": [
      "Maximum: 1.0\n",
      "Minimum: 0.335\n"
     ]
    },
    {
     "data": {
      "image/png": "[encoded data removed]",
      "text/plain": [
       "<Figure size 432x288 with 1 Axes>"
      ]
     },
     "metadata": {
      "needs_background": "light"
     },
     "output_type": "display_data"
    }
   ],
   "source": [
    "print('Maximum: {}\\nMinimum: {}'.format(np.max(tweet_df['airline_sentiment_confidence']), np.min(tweet_df['airline_sentiment_confidence'])))\n",
    "tweet_df['airline_sentiment_confidence'].hist();"
   ]
  },
  {
   "cell_type": "markdown",
   "id": "f2e6a0b9",
   "metadata": {},
   "source": [
    "Good! We could apply this mapping:\n",
    "\n",
    "- Every value __below__ 0.8 is labeled as Low Confidence\n",
    "- Everything else is High Confidence\n",
    "\n",
    "Let's do it!"
   ]
  },
  {
   "cell_type": "code",
   "execution_count": 12,
   "id": "4bc613a5",
   "metadata": {},
   "outputs": [
    {
     "data": {
      "text/html": [
       "<div>\n",
       "<style scoped>\n",
       "    .dataframe tbody tr th:only-of-type {\n",
       "        vertical-align: middle;\n",
       "    }\n",
       "\n",
       "    .dataframe tbody tr th {\n",
       "        vertical-align: top;\n",
       "    }\n",
       "\n",
       "    .dataframe thead th {\n",
       "        text-align: right;\n",
       "    }\n",
       "</style>\n",
       "<table border=\"1\" class=\"dataframe\">\n",
       "  <thead>\n",
       "    <tr style=\"text-align: right;\">\n",
       "      <th></th>\n",
       "      <th>airline_sentiment</th>\n",
       "      <th>airline_sentiment_confidence</th>\n",
       "      <th>negativereason</th>\n",
       "      <th>airline</th>\n",
       "      <th>retweet_count</th>\n",
       "      <th>text</th>\n",
       "      <th>tweet_created</th>\n",
       "      <th>tweet_length</th>\n",
       "    </tr>\n",
       "  </thead>\n",
       "  <tbody>\n",
       "    <tr>\n",
       "      <th>0</th>\n",
       "      <td>neutral</td>\n",
       "      <td>High</td>\n",
       "      <td>None</td>\n",
       "      <td>Virgin America</td>\n",
       "      <td>False</td>\n",
       "      <td>@VirginAmerica What @dhepburn said.</td>\n",
       "      <td>Morning</td>\n",
       "      <td>Short</td>\n",
       "    </tr>\n",
       "    <tr>\n",
       "      <th>1</th>\n",
       "      <td>positive</td>\n",
       "      <td>Low</td>\n",
       "      <td>None</td>\n",
       "      <td>Virgin America</td>\n",
       "      <td>False</td>\n",
       "      <td>@VirginAmerica plus you've added commercials t...</td>\n",
       "      <td>Morning</td>\n",
       "      <td>Medium</td>\n",
       "    </tr>\n",
       "    <tr>\n",
       "      <th>2</th>\n",
       "      <td>neutral</td>\n",
       "      <td>Low</td>\n",
       "      <td>None</td>\n",
       "      <td>Virgin America</td>\n",
       "      <td>False</td>\n",
       "      <td>@VirginAmerica I didn't today... Must mean I n...</td>\n",
       "      <td>Morning</td>\n",
       "      <td>Medium</td>\n",
       "    </tr>\n",
       "    <tr>\n",
       "      <th>3</th>\n",
       "      <td>negative</td>\n",
       "      <td>High</td>\n",
       "      <td>Complaints</td>\n",
       "      <td>Virgin America</td>\n",
       "      <td>False</td>\n",
       "      <td>@VirginAmerica it's really aggressive to blast...</td>\n",
       "      <td>Morning</td>\n",
       "      <td>Long</td>\n",
       "    </tr>\n",
       "    <tr>\n",
       "      <th>4</th>\n",
       "      <td>negative</td>\n",
       "      <td>High</td>\n",
       "      <td>None</td>\n",
       "      <td>Virgin America</td>\n",
       "      <td>False</td>\n",
       "      <td>@VirginAmerica and it's a really big bad thing...</td>\n",
       "      <td>Morning</td>\n",
       "      <td>Medium</td>\n",
       "    </tr>\n",
       "  </tbody>\n",
       "</table>\n",
       "</div>"
      ],
      "text/plain": [
       "  airline_sentiment airline_sentiment_confidence negativereason  \\\n",
       "0           neutral                         High           None   \n",
       "1          positive                          Low           None   \n",
       "2           neutral                          Low           None   \n",
       "3          negative                         High     Complaints   \n",
       "4          negative                         High           None   \n",
       "\n",
       "          airline retweet_count  \\\n",
       "0  Virgin America         False   \n",
       "1  Virgin America         False   \n",
       "2  Virgin America         False   \n",
       "3  Virgin America         False   \n",
       "4  Virgin America         False   \n",
       "\n",
       "                                                text tweet_created  \\\n",
       "0                @VirginAmerica What @dhepburn said.       Morning   \n",
       "1  @VirginAmerica plus you've added commercials t...       Morning   \n",
       "2  @VirginAmerica I didn't today... Must mean I n...       Morning   \n",
       "3  @VirginAmerica it's really aggressive to blast...       Morning   \n",
       "4  @VirginAmerica and it's a really big bad thing...       Morning   \n",
       "\n",
       "  tweet_length  \n",
       "0        Short  \n",
       "1       Medium  \n",
       "2       Medium  \n",
       "3         Long  \n",
       "4       Medium  "
      ]
     },
     "execution_count": 12,
     "metadata": {},
     "output_type": "execute_result"
    }
   ],
   "source": [
    "def mapconf(value):\n",
    "    if value < 0.8:\n",
    "        return 'Low'\n",
    "    return 'High'\n",
    "\n",
    "tweet_df['airline_sentiment_confidence'] = tweet_df['airline_sentiment_confidence'].map(mapconf)\n",
    "tweet_df.head()"
   ]
  },
  {
   "cell_type": "markdown",
   "id": "64159e1f",
   "metadata": {},
   "source": [
    "And that's it! With this last step we concluded the part on data preprocessing. It is now time to dive in the model and in the computation of probabilities."
   ]
  },
  {
   "cell_type": "markdown",
   "id": "26d445ea",
   "metadata": {},
   "source": [
    "## 2. Presentation of the model <a class=\"anchor\" id=\"PM\"></a>"
   ]
  },
  {
   "cell_type": "markdown",
   "id": "0d146752",
   "metadata": {},
   "source": [
    "### 2.1 The Bayesian Network <a class=\"anchor\" id=\"PM-1\"></a>"
   ]
  },
  {
   "cell_type": "markdown",
   "id": "0744d4b7",
   "metadata": {},
   "source": [
    "![Network](USAirNet.png)"
   ]
  },
  {
   "cell_type": "markdown",
   "id": "e9e6c625",
   "metadata": {},
   "source": [
    "### 2.2. Explanation of the nodes <a class=\"anchor\" id=\"PM-2\"></a>\n",
    "\n",
    "- __Company:__ Which company the tweet is referred to. \n",
    "    - __Domain:__ American, Delta, Southwest, US Airways, United, Virgin America\n",
    "- __City:__ The city from which the plane starts the trip.\n",
    "    - __Domain:__ New York, Los Angeles, Chicago\n",
    "- __Bad Weather:__ If its raining or not.\n",
    "    - __Domain:__ True, False\n",
    "- __Strike:__ If there is an ongoing strike.\n",
    "    - __Domain:__ True, False\n",
    "- __Complaints:__ If the tweet contains complaints about the experience. Bad seats, bad food, damaged luggage...\n",
    "    - __Domain:__ True, False\n",
    "- __Customer Service:__ If the tweet contains complaints about the customer service.\n",
    "    - __Domain:__ True, False\n",
    "- __Delays:__ If the tweet contains complaints about delays of the flight.\n",
    "    - __Domain:__ True, False\n",
    "- __Sentiment:__ The sentiment of the tweet.\n",
    "    - __Domain:__ Positive, Neutral, Negative\n",
    "- __Retweets:__ If the tweet has been retweeted or not.\n",
    "    - __Domain:__ True, False\n",
    "- __Tweet Time:__ Time of the day in which the tweet has been posted.\n",
    "    - __Domain:__ Morning, Evening, Noon, Night\n",
    "- __Flight, Thank and Cancelled:__ They signal if the corresponding word is present in the text of the tweet.\n",
    "    - __Domain:__ True, False\n",
    "- __Confidence:__ The confidence for the sentiment assigned to the tweet.\n",
    "    - __Domain:__ Low, High"
   ]
  },
  {
   "cell_type": "markdown",
   "id": "86620218",
   "metadata": {},
   "source": [
    "### 2.3. Justifications for the choices made <a class=\"anchor\" id=\"PM-3\"></a>\n",
    "\n",
    "Starting from the top of the network, I will give a justification for the choices I've made.\n",
    "\n",
    "- Starting from the very top, it makes sense to say that a specific company may increase the probability of mishaps. For example, a company may be known for having unconfortable seats, or a very bad customer service.\n",
    "- A company can also influence from which city the plane starts its trip\n",
    "- The city can influence the probability of bad weather\n",
    "- Bad weather condition may influence the probability of delays happening. It shouldn't affect the probability of bad flights or bad customer service.\n",
    "- Strikes may increase the probability of delays happening, or may worsen the customer service's condition due to the shortage of employees. It shouldn't affect the probability of complaints about the flight itself, since this is more related to bad seats, bad mannered staff, bad food, lost luggages...\n",
    "- Complaints, Bad Customer Service and Delays make the sentiment negative. But sometimes even the total absence of a particular reason (rows marked with \"can't tell\" for example) can still produce a negative sentiment. For simplicity I didn't add a node for each possible negative reason, otherwise the network would have become too big.\n",
    "- The sentiment may influence the number of retweets of a particular tweet, in fact people may be more inclined to share with others a really bad experience with a specific company rather than a tweet in which someone says that everything went great.\n",
    "- The time of the tweet may influence the number of retweets. In fact it is more likely that tweets shared at night and very early in the morning don't gain enough traction.\n",
    "- The sentiment may also influence the tweet length. In fact an angry person is more likely to spend a lot of words explaining what happened to them.\n",
    "- The sentiment could influence the probability of the words __cancelled__, __flight__ and __thank__ to appear.\n",
    "- These words can influence the confidence in the sentiment"
   ]
  },
  {
   "cell_type": "markdown",
   "id": "96afb5ff",
   "metadata": {},
   "source": [
    "## 3. Computing Probabilities <a class=\"anchor\" id=\"CP\"></a>"
   ]
  },
  {
   "cell_type": "markdown",
   "id": "39fada0f",
   "metadata": {},
   "source": [
    "### 3.1. Company Probability\n",
    "In the first step, we want to compute the probability for \"Company\", let's see how many companies there are in the dataset:"
   ]
  },
  {
   "cell_type": "code",
   "execution_count": 13,
   "id": "e15b887e",
   "metadata": {},
   "outputs": [
    {
     "name": "stdout",
     "output_type": "stream",
     "text": [
      "There are 6 different companies in the dataset:['American' 'Delta' 'Southwest' 'US Airways' 'United' 'Virgin America']\n"
     ]
    }
   ],
   "source": [
    "airlines = np.unique(tweet_df['airline'])\n",
    "print('There are {} different companies in the dataset:{}'.format(len(airlines), np.unique(airlines)))"
   ]
  },
  {
   "cell_type": "markdown",
   "id": "ad526fae",
   "metadata": {},
   "source": [
    "Good! We now know that company is a variable with __6 different values__. We must the probability of occurence for each one of them."
   ]
  },
  {
   "cell_type": "code",
   "execution_count": 14,
   "id": "ae04e9c8",
   "metadata": {},
   "outputs": [
    {
     "name": "stdout",
     "output_type": "stream",
     "text": [
      "P(airline=American) = 0.19\n",
      "P(airline=Delta) = 0.15\n",
      "P(airline=Southwest) = 0.17\n",
      "P(airline=US Airways) = 0.2\n",
      "P(airline=United) = 0.26\n",
      "P(airline=Virgin America) = 0.03\n",
      "Total sum = 1.0\n"
     ]
    }
   ],
   "source": [
    "total_rows = tweet_df.shape[0]\n",
    "total_sum = 0\n",
    "for comp in airlines:\n",
    "    count = tweet_df[tweet_df['airline']==comp].shape[0]\n",
    "    total_sum += round(count/total_rows, 2)\n",
    "    print('P(airline={}) = {}'.format(comp, round(count/total_rows, 2)))\n",
    "print('Total sum = {}'.format(total_sum))"
   ]
  },
  {
   "cell_type": "markdown",
   "id": "b252763a",
   "metadata": {},
   "source": [
    "That .01 probably is due to rounding errors. The probability table looks like this:\n",
    "\n",
    "|| American | Delta | Southwest | US Airways | United | Virgin America |\n",
    "| --- | --- | --- | --- | --- | --- | --- |\n",
    "| Company | 0.19 | 0.15 | 0.17 | 0.2 | 0.26 | 0.03 |"
   ]
  },
  {
   "cell_type": "markdown",
   "id": "e89c49ac",
   "metadata": {},
   "source": [
    "### 3.2. Strike Probability\n",
    "\n",
    "I tried to do a bit of research on the probability of a strike to happen, but sadly I didn't find any major results. From the articles found online I can assume is fairly improbable. I think the probabilty table will look like this:\n",
    "\n",
    "|| True | False |\n",
    "|---|---|---|\n",
    "| Strike | 0.99 | 0.01 |"
   ]
  },
  {
   "cell_type": "markdown",
   "id": "4d93e6ee",
   "metadata": {},
   "source": [
    "### 3.3. Probability of City Given Company\n",
    "\n",
    "This is the probability of a plane to start the flight on a given city knowing the company that owns that plane. Since this data is very hard to retrieve we'll need to get creative again:\n",
    "\n",
    "|| New York | Los Angeles | Chicago |\n",
    "| --- | --- | --- | --- |\n",
    "| American | 0.8 | 0.05 | 0.15 |\n",
    "| Delta | 0.25 | 0.4 | 0.35 |\n",
    "| Southwest | 0.1 | 0.6 | 0.3 |\n",
    "| US Airways | 0.7 | 0.2 | 0.1 |\n",
    "| United | 0.3 | 0.5 | 0.2 |\n",
    "| Virgin America | 0.15 | 0.35 | 0.5 |"
   ]
  },
  {
   "cell_type": "markdown",
   "id": "6efed2bb",
   "metadata": {},
   "source": [
    "### 3.4 Probability of Bad Weather given City\n",
    "\n",
    "Clearly, every city has a different probability of having bad weather. From this source (https://www.currentresults.com/Weather/US/average-annual-precipitation-by-city.php) we can see that:\n",
    "\n",
    "- __Chicago__ has on average of 127 days of rain in a year.\n",
    "- __Los Angeles__ has on average 34 days of rain in a year.\n",
    "- __New York__ has on average 125 days of rain in a year.\n",
    "\n",
    "This brings us to this probability table (assuming 365 days per year):\n",
    "\n",
    "|| Bad Weather = True | Bad Weather = False |\n",
    "| --- | --- | --- |\n",
    "| Chicago | 0.34 | 0.66 |\n",
    "| Los Angeles | 0.09 | 0.91 |\n",
    "| New York | 0.33 | 0.67 |"
   ]
  },
  {
   "cell_type": "markdown",
   "id": "8eff32ee",
   "metadata": {},
   "source": [
    "### 3.5. Probability of Complaints given Company\n",
    "\n",
    "We can extract this information directly from the dataset:"
   ]
  },
  {
   "cell_type": "code",
   "execution_count": 15,
   "id": "26c03300",
   "metadata": {},
   "outputs": [
    {
     "name": "stdout",
     "output_type": "stream",
     "text": [
      "P(Complaints|Company=American)=0.12\n",
      "P(Complaints|Company=Delta)=0.09\n",
      "P(Complaints|Company=Southwest)=0.1\n",
      "P(Complaints|Company=US Airways)=0.13\n",
      "P(Complaints|Company=United)=0.18\n",
      "P(Complaints|Company=Virgin America)=0.07\n"
     ]
    }
   ],
   "source": [
    "airlines = np.unique(tweet_df['airline'])\n",
    "for airline in airlines:\n",
    "    neg_airline = tweet_df[tweet_df['airline']==airline]\n",
    "    comp_airlines = neg_airline[neg_airline['negativereason']=='Complaints']\n",
    "    print('P(Complaints|Company={})={}'.format(airline, round(len(comp_airlines)/neg_airline.shape[0], 2)))"
   ]
  },
  {
   "cell_type": "markdown",
   "id": "1f37b789",
   "metadata": {},
   "source": [
    "So the CPT is:\n",
    "\n",
    "|| Complaint |\n",
    "| --- | --- |\n",
    "| American | 0.12 |\n",
    "| Delta | 0.09 |\n",
    "| Southwest | 0.1 |\n",
    "| US Airways | 0.13 |\n",
    "| United | 0.18 |\n",
    "| Virgin America | 0.07 |"
   ]
  },
  {
   "cell_type": "markdown",
   "id": "3a95043c",
   "metadata": {},
   "source": [
    "### 3.6. Probability of Customer Service given Company and Strike\n",
    "\n",
    "From the dataset we can extract the probability of a Customer Service problem given the company. Since we don't know if there was a strike or not, we will assume that the data in the dataset has __Strike=False__. We will use this probability as a lower bound. In other words __P(Customer Service|Company=C, Strike=False) < P(Customer Service|Company=C, Strike=True)__.\n",
    "Let's extract __P(Customer Service|Company=C, Strike=False)__ from the dataset:"
   ]
  },
  {
   "cell_type": "code",
   "execution_count": 16,
   "id": "09698093",
   "metadata": {},
   "outputs": [
    {
     "name": "stdout",
     "output_type": "stream",
     "text": [
      "P(Customer Service|Company=American, Strike=False)=0.41\n",
      "P(Customer Service|Company=Delta, Strike=False)=0.13\n",
      "P(Customer Service|Company=Southwest, Strike=False)=0.25\n",
      "P(Customer Service|Company=US Airways, Strike=False)=0.39\n",
      "P(Customer Service|Company=United, Strike=False)=0.26\n",
      "P(Customer Service|Company=Virgin America, Strike=False)=0.21\n"
     ]
    }
   ],
   "source": [
    "for airline in airlines:\n",
    "    neg_airline = tweet_df[tweet_df['airline']==airline]\n",
    "    cs_airlines = neg_airline[neg_airline['negativereason']=='Customer Service']\n",
    "    print('P(Customer Service|Company={}, Strike=False)={}'.format(airline, round(len(cs_airlines)/neg_airline.shape[0], 2)))"
   ]
  },
  {
   "cell_type": "markdown",
   "id": "09ebad17",
   "metadata": {},
   "source": [
    "So the CPT is:\n",
    "\n",
    "| Airline | Strike | Customer Service |\n",
    "| --- | --- | --- |\n",
    "| American | False | 0.41 |\n",
    "| American | True | 0.6 |\n",
    "| Delta | False | 0.13 |\n",
    "| Delta | True | 0.4 |\n",
    "| Southwest | False | 0.25 |\n",
    "| Southwest | True | 0.7 |\n",
    "| US Airways | False | 0.39 |\n",
    "| US Airways | True | 0.55 |\n",
    "| United | False | 0.26 |\n",
    "| United | True | 0.45 |\n",
    "| Virgin America | False | 0.21 |\n",
    "| Virgin America | True | 0.65 |\n",
    "\n",
    "As a reminder, __when Strike is False the probability is extracted from the dataset and used as a lower bound for the case when Strike is True.__"
   ]
  },
  {
   "cell_type": "markdown",
   "id": "103020b8",
   "metadata": {},
   "source": [
    "### 3.7. Probability of Delay given Company, Strike and Bad Weather\n",
    "\n",
    "We apply the same logic as the previous paragraph. We assume that the data in the dataset were recorded with good weather and no ongoing strike so we can use the computed data as a lower bound."
   ]
  },
  {
   "cell_type": "code",
   "execution_count": 17,
   "id": "379e4bee",
   "metadata": {},
   "outputs": [
    {
     "name": "stdout",
     "output_type": "stream",
     "text": [
      "P(Delay|Company=American, Strike=False, Bad Weather=False)=0.1\n",
      "P(Delay|Company=Delta, Strike=False, Bad Weather=False)=0.13\n",
      "P(Delay|Company=Southwest, Strike=False, Bad Weather=False)=0.07\n",
      "P(Delay|Company=US Airways, Strike=False, Bad Weather=False)=0.17\n",
      "P(Delay|Company=United, Strike=False, Bad Weather=False)=0.15\n",
      "P(Delay|Company=Virgin America, Strike=False, Bad Weather=False)=0.04\n"
     ]
    }
   ],
   "source": [
    "for airline in airlines:\n",
    "    neg_airline = tweet_df[tweet_df['airline']==airline]\n",
    "    del_airlines = neg_airline[neg_airline['negativereason']=='Delay']\n",
    "    print('P(Delay|Company={}, Strike=False, Bad Weather=False)={}'.format(airline, round(len(del_airlines)/neg_airline.shape[0], 2)))"
   ]
  },
  {
   "cell_type": "markdown",
   "id": "2a0eb6c8",
   "metadata": {},
   "source": [
    "This is a possible CPT:\n",
    "\n",
    "| Airline | Strike | Bad Weather | Delay |\n",
    "| --- | --- | --- | --- |\n",
    "| American | False | False | 0.1 |\n",
    "| American | True | False | 0.3 |\n",
    "| American | False | True | 0.2 |\n",
    "| American | True | True | 0.44 |\n",
    "| Delta | False | False | 0.13 |\n",
    "| Delta | True | False | 0.5 |\n",
    "| Delta | False | True | 0.3 |\n",
    "| Delta | True | True | 0.85 |\n",
    "| Southwest | False | False | 0.07 |\n",
    "| Southwest | True | False | 0.15 |\n",
    "| Southwest | False | True | 0.25 |\n",
    "| Southwest | True | True | 0.36 |\n",
    "| US Airways | False | False | 0.39 |\n",
    "| US Airways | True | False | 0.6 |\n",
    "| US Airways | False | True | 0.5 |\n",
    "| US Airways | True | True | 0.8 |\n",
    "| United | False | False | 0.26 |\n",
    "| United | True | False | 0.45 |\n",
    "| United | False | True | 0.35 |\n",
    "| United | True | True | 0.64 |\n",
    "| Virgin America | False | False | 0.21 |\n",
    "| Virgin America | True | False | 0.55 |\n",
    "| Virgin America | False | True | 0.3 |\n",
    "| Virgin America | True | True | 0.68 |\n",
    "\n",
    "As before, __the data extracted from the dataset is assumed to be with Bad Weather = False and Strike = False.__"
   ]
  },
  {
   "cell_type": "markdown",
   "id": "0d84583e",
   "metadata": {},
   "source": [
    "### 3.8. Probability of Sentiment\n",
    "\n",
    "Before starting, we have to notice that only one negative reason can be true at any time! This is because the \"negativereason\" column of the dataset does never contain more than one value.\n",
    "Once said so, let's compute the probabilities."
   ]
  },
  {
   "cell_type": "code",
   "execution_count": 18,
   "id": "737ccdea",
   "metadata": {},
   "outputs": [
    {
     "name": "stdout",
     "output_type": "stream",
     "text": [
      "P(Sentiment=negative|Complaints=True)=1.0\n",
      "P(Sentiment=negative|Customer Service=True)=1.0\n",
      "P(Sentiment=negative|Delay=True)=1.0\n",
      "P(Sentiment=neutral|Complaints=True)=0.0\n",
      "P(Sentiment=neutral|Customer Service=True)=0.0\n",
      "P(Sentiment=neutral|Delay=True)=0.0\n",
      "P(Sentiment=positive|Complaints=True)=0.0\n",
      "P(Sentiment=positive|Customer Service=True)=0.0\n",
      "P(Sentiment=positive|Delay=True)=0.0\n"
     ]
    }
   ],
   "source": [
    "sentiments = np.unique(tweet_df['airline_sentiment'])\n",
    "negreason = list(np.unique(tweet_df['negativereason']))\n",
    "negreason.remove('None')\n",
    "for sentiment in sentiments:\n",
    "    for reason in negreason:\n",
    "        n_df = tweet_df[tweet_df['negativereason']==reason]\n",
    "        s_df = n_df[n_df['airline_sentiment']==sentiment]\n",
    "        print('P(Sentiment={}|{}=True)={}'.format(sentiment, reason, round(s_df.shape[0]/n_df.shape[0] ,2)))"
   ]
  },
  {
   "cell_type": "markdown",
   "id": "a4bc7a2c",
   "metadata": {},
   "source": [
    "As we can see, every time a negative reson is True, the sentiment is 100% negative. Let's see what happens instead when no negative reason is active (negativereason = None)."
   ]
  },
  {
   "cell_type": "code",
   "execution_count": 19,
   "id": "b44a6835",
   "metadata": {},
   "outputs": [
    {
     "name": "stdout",
     "output_type": "stream",
     "text": [
      "P(Sentiment=negative|None=True)=0.18\n",
      "P(Sentiment=neutral|None=True)=0.47\n",
      "P(Sentiment=positive|None=True)=0.36\n"
     ]
    }
   ],
   "source": [
    "for sentiment in sentiments:\n",
    "    n_df = tweet_df[tweet_df['negativereason']=='None']\n",
    "    s_df = n_df[n_df['airline_sentiment']==sentiment]\n",
    "    print('P(Sentiment={}|None=True)={}'.format(sentiment, round(s_df.shape[0]/n_df.shape[0] ,2)))"
   ]
  },
  {
   "cell_type": "markdown",
   "id": "0193f48f",
   "metadata": {},
   "source": [
    "Even if there is no evident reason, a tweet can still be labelled as negative. This brings us to the following CPT:\n",
    "\n",
    "| Complaints | Customer Service | Delays | Sentiment = Negative | Sentiment = Neutral | Sentiment = Positive |\n",
    "| --- | --- | --- | --- | --- | --- |\n",
    "| True | False | False | 1 | 0 | 0 |\n",
    "| False | True | False | 1 | 0 | 0 |\n",
    "| False | False | True | 1 | 0 | 0 |\n",
    "| False | False | False | 0.18 | 0.47 | 0.36 |"
   ]
  },
  {
   "cell_type": "markdown",
   "id": "24876d37",
   "metadata": {},
   "source": [
    "### 3.9. Probability of Tweet Time\n",
    "\n",
    "Let's extract from the dataset the probability of Tweet Time:"
   ]
  },
  {
   "cell_type": "code",
   "execution_count": 20,
   "id": "cb44c780",
   "metadata": {
    "scrolled": true
   },
   "outputs": [
    {
     "name": "stdout",
     "output_type": "stream",
     "text": [
      "P(Evening)=0.2\n",
      "P(Morning)=0.36\n",
      "P(Night)=0.1\n",
      "P(Noon)=0.34\n"
     ]
    }
   ],
   "source": [
    "time = np.unique(tweet_df['tweet_created'])\n",
    "for t in time:\n",
    "    ti_df = tweet_df[tweet_df['tweet_created']==t]\n",
    "    print('P({})={}'.format(t, round(ti_df.shape[0]/tweet_df.shape[0] ,2)))"
   ]
  },
  {
   "cell_type": "markdown",
   "id": "acecc906",
   "metadata": {},
   "source": [
    "The probability table will be:\n",
    "\n",
    "|| Morning | Evening | Night | Noon |\n",
    "| --- | --- | --- | --- | --- |\n",
    "|| 0.36 | 0.2 | 0.34 | 0.1 |"
   ]
  },
  {
   "cell_type": "markdown",
   "id": "b88e9957",
   "metadata": {},
   "source": [
    "### 3.10. Probabilty of Retweet given Time and Sentiment\n",
    "\n",
    "This information can be computed directly from the dataset, so let's compute it:"
   ]
  },
  {
   "cell_type": "code",
   "execution_count": 21,
   "id": "dbae136a",
   "metadata": {},
   "outputs": [
    {
     "name": "stdout",
     "output_type": "stream",
     "text": [
      "P(Retweet=True|Sentiment=negative, Time=Evening)=0.08\n",
      "P(Retweet=True|Sentiment=negative, Time=Morning)=0.05\n",
      "P(Retweet=True|Sentiment=negative, Time=Night)=0.04\n",
      "P(Retweet=True|Sentiment=negative, Time=Noon)=0.07\n",
      "P(Retweet=True|Sentiment=neutral, Time=Evening)=0.03\n",
      "P(Retweet=True|Sentiment=neutral, Time=Morning)=0.03\n",
      "P(Retweet=True|Sentiment=neutral, Time=Night)=0.02\n",
      "P(Retweet=True|Sentiment=neutral, Time=Noon)=0.04\n",
      "P(Retweet=True|Sentiment=positive, Time=Evening)=0.03\n",
      "P(Retweet=True|Sentiment=positive, Time=Morning)=0.03\n",
      "P(Retweet=True|Sentiment=positive, Time=Night)=0.02\n",
      "P(Retweet=True|Sentiment=positive, Time=Noon)=0.04\n"
     ]
    }
   ],
   "source": [
    "sentiments = np.unique(tweet_df['airline_sentiment'])\n",
    "time = np.unique(tweet_df['tweet_created'])\n",
    "for s in sentiments:\n",
    "    for t in time:\n",
    "        f_df = tweet_df[(tweet_df['tweet_created']==t) & (tweet_df['airline_sentiment']==s)]\n",
    "        r_df = f_df[f_df['retweet_count']=='True']\n",
    "        print('P(Retweet=True|Sentiment={}, Time={})={}'.format(s, t, round(r_df.shape[0]/f_df.shape[0], 2)))"
   ]
  },
  {
   "cell_type": "markdown",
   "id": "e25cfaa4",
   "metadata": {},
   "source": [
    "It seems that, even if it's fairly unlikely that a tweet has retweets, it's a bit more likely that negative tweets get retweeted more often than positive or neutral tweets. Furthermore it's seems that tweets that get retweeted are posted during the evening or during the morning.\n",
    "The CPT is:\n",
    "\n",
    "| Sentiment | Time | Retweet |\n",
    "| --- | --- | --- |\n",
    "| Negative | Evening | 0.08 |\n",
    "| Negative | Morning | 0.05 |\n",
    "| Negative | Night | 0.04 |\n",
    "| Negative | Noon | 0.07 |\n",
    "| Neutral | Evening | 0.03 |\n",
    "| Neutral | Morning | 0.03 |\n",
    "| Neutral | Night | 0.02 |\n",
    "| Neutral| Noon | 0.04 |\n",
    "| Positive | Evening | 0.03 |\n",
    "| Positive | Morning | 0.03 |\n",
    "| Positive | Night | 0.02 |\n",
    "| Positive | Noon | 0.04 |"
   ]
  },
  {
   "cell_type": "markdown",
   "id": "6c22061c",
   "metadata": {},
   "source": [
    "### 3.11. Probability of length given Sentiment\n",
    "\n",
    "Let's compute it directly from the dataset:"
   ]
  },
  {
   "cell_type": "code",
   "execution_count": 22,
   "id": "cec2b57a",
   "metadata": {},
   "outputs": [
    {
     "name": "stdout",
     "output_type": "stream",
     "text": [
      "P(Length=Long|Sentiment=negative)=0.64\n",
      "P(Length=Long|Sentiment=neutral)=0.33\n",
      "P(Length=Long|Sentiment=positive)=0.34\n",
      "P(Length=Medium|Sentiment=negative)=0.29\n",
      "P(Length=Medium|Sentiment=neutral)=0.44\n",
      "P(Length=Medium|Sentiment=positive)=0.4\n",
      "P(Length=Short|Sentiment=negative)=0.06\n",
      "P(Length=Short|Sentiment=neutral)=0.23\n",
      "P(Length=Short|Sentiment=positive)=0.26\n"
     ]
    }
   ],
   "source": [
    "length = np.unique(tweet_df['tweet_length'])\n",
    "for l in length:\n",
    "    for s in sentiments:\n",
    "        f_df = tweet_df[tweet_df['airline_sentiment']==s]\n",
    "        l_df = f_df[f_df['tweet_length']==l]\n",
    "        print('P(Length={}|Sentiment={})={}'.format(l, s, round(l_df.shape[0]/f_df.shape[0], 2)))"
   ]
  },
  {
   "cell_type": "markdown",
   "id": "591dadc9",
   "metadata": {},
   "source": [
    "Thus we obtain the following CPT:\n",
    "\n",
    "| Sentiment | Length = Long | Length = Medium | Length = Short |\n",
    "| --- | --- | --- | --- |\n",
    "| Negative | 0.64 | 0.29 | 0.06 |\n",
    "| Neutral | 0.33 | 0.44 | 0.23 |\n",
    "| Positive | 0.34 | 0.4 | 0.26 |\n",
    "\n",
    "It seems that a long tweet is likely to be a negative one, while a short one is likely to be neutral or positive."
   ]
  },
  {
   "cell_type": "markdown",
   "id": "f9db6df2",
   "metadata": {},
   "source": [
    "### 3.12. Probability of Flight, Thank and Customer given the Sentiment\n",
    "\n",
    "Also this information can be retrieved directly from the dataset:"
   ]
  },
  {
   "cell_type": "code",
   "execution_count": 23,
   "id": "2f7e37ab",
   "metadata": {},
   "outputs": [
    {
     "name": "stdout",
     "output_type": "stream",
     "text": [
      "P(flight|negative)=0.34\n",
      "P(flight|neutral)=0.24\n",
      "P(flight|positive)=0.18\n",
      "P(thank|negative)=0.04\n",
      "P(thank|neutral)=0.07\n",
      "P(thank|positive)=0.45\n",
      "P(cancelled|negative)=0.1\n",
      "P(cancelled|neutral)=0.03\n",
      "P(cancelled|positive)=0.02\n"
     ]
    }
   ],
   "source": [
    "for word in ['flight', 'thank', 'cancelled']:\n",
    "    for s in sentiments:\n",
    "        f_df = tweet_df[tweet_df['airline_sentiment']==s]\n",
    "        w_df = f_df[f_df['text'].str.contains(word, case=False)]\n",
    "        print('P({}|{})={}'.format(word, s, round(w_df.shape[0]/f_df.shape[0] ,2)))"
   ]
  },
  {
   "cell_type": "markdown",
   "id": "15f57305",
   "metadata": {},
   "source": [
    "So the CPTs are:\n",
    "\n",
    "| Sentiment | Flight |\n",
    "| --- | --- |\n",
    "| Negative | 0.34 |\n",
    "| Neutral | 0.24 |\n",
    "| Positive | 0.18 |\n",
    "\n",
    "| Sentiment | Thank |\n",
    "| --- | --- |\n",
    "| Negative | 0.04 |\n",
    "| Neutral | 0.07 |\n",
    "| Positive | 0.45 |\n",
    "\n",
    "| Sentiment | Cancelled |\n",
    "| --- | --- |\n",
    "| Negative | 0.1 |\n",
    "| Neutral | 0.03 |\n",
    "| Positive | 0.02 |"
   ]
  },
  {
   "cell_type": "markdown",
   "id": "741a174e",
   "metadata": {},
   "source": [
    "### 3.13 Probability of Confidence given Flight, Cancelled and Thank\n",
    "\n",
    "This is a probability computable directly from the dataset, let's do it!"
   ]
  },
  {
   "cell_type": "code",
   "execution_count": 24,
   "id": "17e59317",
   "metadata": {},
   "outputs": [
    {
     "name": "stdout",
     "output_type": "stream",
     "text": [
      "P(High|flight=False, thank=False, cancelled=False)=0.7\n",
      "P(High|flight=True, thank=False, cancelled=False)=0.75\n",
      "P(High|flight=False, thank=True, cancelled=False)=0.65\n",
      "P(High|flight=False, thank=False, cancelled=True)=0\n",
      "P(High|flight=True, thank=True, cancelled=False)=0.71\n",
      "P(High|flight=False, thank=True, cancelled=True)=0\n",
      "P(High|flight=True, thank=False, cancelled=True)=0.82\n",
      "P(High|flight=True, thank=True, cancelled=True)=0.69\n"
     ]
    }
   ],
   "source": [
    "# Each element of assign list is a triple of the form (bool, bool, bool).\n",
    "# If the bool at index I is True, that means that interesting_words[I] must be present in the text\n",
    "# So assign_list is a list of masks! The first element filters for all the texts in which none of the target words are present\n",
    "# And so on...\n",
    "\n",
    "assign_list = [(False, False, False),\n",
    "               (True, False, False),\n",
    "               (False, True, False),\n",
    "               (False, False, True),\n",
    "               (True, True, False),\n",
    "               (False, True, True),\n",
    "               (True, False, True),\n",
    "               (True, True, True)]\n",
    "for fil in assign_list:\n",
    "    # Apply filter fil\n",
    "    f_df = f_df = tweet_df[(tweet_df['text'].str.contains(interesting_words[0], case=False)==fil[0]) & \n",
    "                 (tweet_df['text'].str.contains(interesting_words[1], case=False)==fil[1]) & \n",
    "                 (tweet_df['text'].str.contains(interesting_words[2], case=False)==fil[2])]\n",
    "    # Check the number of high confidence\n",
    "    c_df = f_df[f_df['airline_sentiment_confidence']=='High']\n",
    "    # Compute probability only if f_df has elements in it, otherwise return 0\n",
    "    if f_df.shape[0] != 0:\n",
    "        prob = round(c_df.shape[0]/f_df.shape[0] ,2)\n",
    "    else:\n",
    "        prob = 0\n",
    "    print('P(High|{}={}, {}={}, {}={})={}'.format(interesting_words[0], fil[0],\n",
    "                                                  interesting_words[1], fil[1],\n",
    "                                                  interesting_words[2], fil[2],\n",
    "                                                  prob))"
   ]
  },
  {
   "cell_type": "markdown",
   "id": "d2801627",
   "metadata": {},
   "source": [
    "So our CPT is:\n",
    "\n",
    "| Flight | Thank | Cancelled | Confidence=High |\n",
    "| --- | --- | --- | --- |\n",
    "| False | False | False | 0.7 |\n",
    "| True | False | False | 0.75 |\n",
    "| False | True | False | 0.65 |\n",
    "| False | False | True | 0 |\n",
    "| True | True | False | 0.71 |\n",
    "| False | True | True | 0 |\n",
    "| True | False | True | 0.82 |\n",
    "| True | True | True | 0.69 |"
   ]
  },
  {
   "cell_type": "code",
   "execution_count": null,
   "id": "ef90da3f",
   "metadata": {},
   "outputs": [],
   "source": []
  }
 ],
 "metadata": {
  "kernelspec": {
   "display_name": "Python 3 (ipykernel)",
   "language": "python",
   "name": "python3"
  },
  "language_info": {
   "codemirror_mode": {
    "name": "ipython",
    "version": 3
   },
   "file_extension": ".py",
   "mimetype": "text/x-python",
   "name": "python",
   "nbconvert_exporter": "python",
   "pygments_lexer": "ipython3",
   "version": "3.8.12"
  }
 },
 "nbformat": 4,
 "nbformat_minor": 5
}
