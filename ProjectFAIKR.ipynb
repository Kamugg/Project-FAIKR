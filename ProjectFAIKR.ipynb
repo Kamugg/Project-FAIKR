{
 "cells": [
  {
   "cell_type": "markdown",
   "id": "02a0cca8",
   "metadata": {},
   "source": [
    "# Sentiment Analysis - The Twitter US Airlines Dataset\n",
    "\n",
    "This project revolves around a dataset of tweets redirected to all the major US airlines companies during February 2015. The idea is to try to develop a Bayesian Network around this dataset. The notebook will have 5 major sections:\n",
    "\n",
    "__Data Preprocessing:__ Modifying some columns of the data to make them more useful from our point of view. An example is the discretization of some columns.\n",
    "\n",
    "__Presentation of the Model:__ I will explain the structure of the network and why I built it in this way.\n",
    "\n",
    "__Computation of the Probability Tables:__ Since we have a dataset, a lot of the probability tables can be computed on the dataset itself. This process cannot be applied on every node of the network since I couldn't find some data (for example, the probability of a strike happening).\n",
    "\n",
    "__Creation of the model:__ Creation of the Bayesian network with the pgmpy library.\n",
    "\n",
    "__Queries:__ I'll perform some queries on the model."
   ]
  },
  {
   "cell_type": "markdown",
   "id": "7723fd40",
   "metadata": {},
   "source": [
    "# Table of Contents\n",
    "\n",
    "* [1. Data Preprocessing](#DP)\n",
    "    * [1.1. The Dataset and the columns we'll need](#DP-1)\n",
    "    * [1.2. The negativereason column](#DP-2)\n",
    "    * [1.3. The retweet column](#DP-3)\n",
    "    * [1.4. The tweet_created column](#DP-4)\n",
    "    * [1.5. The tweet_length column](#DP-5)\n",
    "    * [1.6. The frequency of some words](#DP-6)\n",
    "    * [1.7. The airline_sentiment_confidence column](#DP-7)\n",
    "    \n",
    "    \n",
    "* [2. Presentation of the Model](#PM)\n",
    "    * [2.1. The Bayesian Network](#PM-1)\n",
    "    * [2.2. Explanation of the nodes](#PM-2)\n",
    "    * [2.3. Justifications for the choices made](#PM-3)\n",
    "    \n",
    "    \n",
    "* [3. Computing Probabilities](#CP)\n",
    "    * [3.1. Company Probability](#CP-1)\n",
    "    * [3.2. Strike Probability](#CP-2)\n",
    "    * [3.3. City Probability](#CP-3)\n",
    "    * [3.4. Probability of Bad Weather given City](#CP-4)\n",
    "    * [3.5. Probability of Problems given Company, Strike and Bad Weather](#CP-5)\n",
    "    * [3.6. Probability of Sentiment given Problems](#CP-6)\n",
    "    * [3.7. Probability of Tweet Time](#CP-7)\n",
    "    * [3.8. Probability of Retweet given Tweet Time and Sentiment](#CP-8)\n",
    "    * [3.9. Probability of length given Sentiment](#CP-9)\n",
    "    * [3.10. Probability of Flight, Thank and Cancelled given Sentiment](#CP-10)\n",
    "    * [3.11. Probability of Confidence given Flight, Cancelled and Thank](#CP-11)\n",
    "    \n",
    "\n",
    "* [4. Pgmpy Implementation](#PI)\n",
    "    * [4.1. Installation and imports](#PI-1)\n",
    "    * [4.2. Implementing the network's structure](#PI-2)\n",
    "    * [4.3. The Company Table](#PI-3)\n",
    "    * [4.4. The Strike Table](#PI-4)\n",
    "    * [4.5. The City Table](#PI-5)\n",
    "    * [4.6. The Bad Weather Table](#PI-6)\n",
    "    * [4.7. The Problems Table](#PI-7)\n",
    "    * [4.8. The Sentiment Table](#PI-8)\n",
    "    * [4.9. The Tweet Time Table](#PI-9)\n",
    "    * [4.10. The Retweet Table](#PI-10)\n",
    "    * [4.11. The Length Table](#PI-11)\n",
    "    * [4.12. The Flight, Thank and Cancelled Table](#PI-12)\n",
    "    * [4.13. The Confidence Table](#PI-13)\n",
    "    * [4.14 Building the model](#PI-14)\n",
    "\n",
    "\n",
    "* [5. Queries](#Q)\n",
    "    * [5.1. The \"pgmpy translation\"](#Q-1)\n",
    "    * [5.2. Queries](#Q-2)\n",
    "        * [5.2.1. Query 1](#Q-2-1)\n",
    "        * [5.2.2. Query 2](#Q-2-2)\n",
    "        * [5.2.3. Query 3](#Q-2-3)\n",
    "    * [5.3. The Network as a Classifier](#Q-3)\n",
    "    \n",
    "    \n",
    "* [6. Conclusions](#C)"
   ]
  },
  {
   "cell_type": "markdown",
   "id": "2aca36bc",
   "metadata": {},
   "source": [
    "## 1. Data Preprocessing <a class=\"anchor\" id=\"DP\"></a>"
   ]
  },
  {
   "cell_type": "markdown",
   "id": "32ffface",
   "metadata": {},
   "source": [
    "### 1.1. The Dataset and the columns we'll need <a class=\"anchor\" id=\"DP-1\"></a>\n",
    "\n",
    "Let's import the required libraries and the dataset."
   ]
  },
  {
   "cell_type": "code",
   "execution_count": 1,
   "id": "7a6129cb",
   "metadata": {
    "scrolled": true
   },
   "outputs": [
    {
     "name": "stdout",
     "output_type": "stream",
     "text": [
      "The dataset contains 14640 rows and 15 columns\n"
     ]
    },
    {
     "data": {
      "text/html": [
       "<div>\n",
       "<style scoped>\n",
       "    .dataframe tbody tr th:only-of-type {\n",
       "        vertical-align: middle;\n",
       "    }\n",
       "\n",
       "    .dataframe tbody tr th {\n",
       "        vertical-align: top;\n",
       "    }\n",
       "\n",
       "    .dataframe thead th {\n",
       "        text-align: right;\n",
       "    }\n",
       "</style>\n",
       "<table border=\"1\" class=\"dataframe\">\n",
       "  <thead>\n",
       "    <tr style=\"text-align: right;\">\n",
       "      <th></th>\n",
       "      <th>tweet_id</th>\n",
       "      <th>airline_sentiment</th>\n",
       "      <th>airline_sentiment_confidence</th>\n",
       "      <th>negativereason</th>\n",
       "      <th>negativereason_confidence</th>\n",
       "      <th>airline</th>\n",
       "      <th>airline_sentiment_gold</th>\n",
       "      <th>name</th>\n",
       "      <th>negativereason_gold</th>\n",
       "      <th>retweet_count</th>\n",
       "      <th>text</th>\n",
       "      <th>tweet_coord</th>\n",
       "      <th>tweet_created</th>\n",
       "      <th>tweet_location</th>\n",
       "      <th>user_timezone</th>\n",
       "    </tr>\n",
       "  </thead>\n",
       "  <tbody>\n",
       "    <tr>\n",
       "      <th>0</th>\n",
       "      <td>570306133677760513</td>\n",
       "      <td>neutral</td>\n",
       "      <td>1.0000</td>\n",
       "      <td>NaN</td>\n",
       "      <td>NaN</td>\n",
       "      <td>Virgin America</td>\n",
       "      <td>NaN</td>\n",
       "      <td>cairdin</td>\n",
       "      <td>NaN</td>\n",
       "      <td>0</td>\n",
       "      <td>@VirginAmerica What @dhepburn said.</td>\n",
       "      <td>NaN</td>\n",
       "      <td>2015-02-24 11:35:52 -0800</td>\n",
       "      <td>NaN</td>\n",
       "      <td>Eastern Time (US &amp; Canada)</td>\n",
       "    </tr>\n",
       "    <tr>\n",
       "      <th>1</th>\n",
       "      <td>570301130888122368</td>\n",
       "      <td>positive</td>\n",
       "      <td>0.3486</td>\n",
       "      <td>NaN</td>\n",
       "      <td>0.0000</td>\n",
       "      <td>Virgin America</td>\n",
       "      <td>NaN</td>\n",
       "      <td>jnardino</td>\n",
       "      <td>NaN</td>\n",
       "      <td>0</td>\n",
       "      <td>@VirginAmerica plus you've added commercials t...</td>\n",
       "      <td>NaN</td>\n",
       "      <td>2015-02-24 11:15:59 -0800</td>\n",
       "      <td>NaN</td>\n",
       "      <td>Pacific Time (US &amp; Canada)</td>\n",
       "    </tr>\n",
       "    <tr>\n",
       "      <th>2</th>\n",
       "      <td>570301083672813571</td>\n",
       "      <td>neutral</td>\n",
       "      <td>0.6837</td>\n",
       "      <td>NaN</td>\n",
       "      <td>NaN</td>\n",
       "      <td>Virgin America</td>\n",
       "      <td>NaN</td>\n",
       "      <td>yvonnalynn</td>\n",
       "      <td>NaN</td>\n",
       "      <td>0</td>\n",
       "      <td>@VirginAmerica I didn't today... Must mean I n...</td>\n",
       "      <td>NaN</td>\n",
       "      <td>2015-02-24 11:15:48 -0800</td>\n",
       "      <td>Lets Play</td>\n",
       "      <td>Central Time (US &amp; Canada)</td>\n",
       "    </tr>\n",
       "    <tr>\n",
       "      <th>3</th>\n",
       "      <td>570301031407624196</td>\n",
       "      <td>negative</td>\n",
       "      <td>1.0000</td>\n",
       "      <td>Bad Flight</td>\n",
       "      <td>0.7033</td>\n",
       "      <td>Virgin America</td>\n",
       "      <td>NaN</td>\n",
       "      <td>jnardino</td>\n",
       "      <td>NaN</td>\n",
       "      <td>0</td>\n",
       "      <td>@VirginAmerica it's really aggressive to blast...</td>\n",
       "      <td>NaN</td>\n",
       "      <td>2015-02-24 11:15:36 -0800</td>\n",
       "      <td>NaN</td>\n",
       "      <td>Pacific Time (US &amp; Canada)</td>\n",
       "    </tr>\n",
       "    <tr>\n",
       "      <th>4</th>\n",
       "      <td>570300817074462722</td>\n",
       "      <td>negative</td>\n",
       "      <td>1.0000</td>\n",
       "      <td>Can't Tell</td>\n",
       "      <td>1.0000</td>\n",
       "      <td>Virgin America</td>\n",
       "      <td>NaN</td>\n",
       "      <td>jnardino</td>\n",
       "      <td>NaN</td>\n",
       "      <td>0</td>\n",
       "      <td>@VirginAmerica and it's a really big bad thing...</td>\n",
       "      <td>NaN</td>\n",
       "      <td>2015-02-24 11:14:45 -0800</td>\n",
       "      <td>NaN</td>\n",
       "      <td>Pacific Time (US &amp; Canada)</td>\n",
       "    </tr>\n",
       "  </tbody>\n",
       "</table>\n",
       "</div>"
      ],
      "text/plain": [
       "             tweet_id airline_sentiment  airline_sentiment_confidence  \\\n",
       "0  570306133677760513           neutral                        1.0000   \n",
       "1  570301130888122368          positive                        0.3486   \n",
       "2  570301083672813571           neutral                        0.6837   \n",
       "3  570301031407624196          negative                        1.0000   \n",
       "4  570300817074462722          negative                        1.0000   \n",
       "\n",
       "  negativereason  negativereason_confidence         airline  \\\n",
       "0            NaN                        NaN  Virgin America   \n",
       "1            NaN                     0.0000  Virgin America   \n",
       "2            NaN                        NaN  Virgin America   \n",
       "3     Bad Flight                     0.7033  Virgin America   \n",
       "4     Can't Tell                     1.0000  Virgin America   \n",
       "\n",
       "  airline_sentiment_gold        name negativereason_gold  retweet_count  \\\n",
       "0                    NaN     cairdin                 NaN              0   \n",
       "1                    NaN    jnardino                 NaN              0   \n",
       "2                    NaN  yvonnalynn                 NaN              0   \n",
       "3                    NaN    jnardino                 NaN              0   \n",
       "4                    NaN    jnardino                 NaN              0   \n",
       "\n",
       "                                                text tweet_coord  \\\n",
       "0                @VirginAmerica What @dhepburn said.         NaN   \n",
       "1  @VirginAmerica plus you've added commercials t...         NaN   \n",
       "2  @VirginAmerica I didn't today... Must mean I n...         NaN   \n",
       "3  @VirginAmerica it's really aggressive to blast...         NaN   \n",
       "4  @VirginAmerica and it's a really big bad thing...         NaN   \n",
       "\n",
       "               tweet_created tweet_location               user_timezone  \n",
       "0  2015-02-24 11:35:52 -0800            NaN  Eastern Time (US & Canada)  \n",
       "1  2015-02-24 11:15:59 -0800            NaN  Pacific Time (US & Canada)  \n",
       "2  2015-02-24 11:15:48 -0800      Lets Play  Central Time (US & Canada)  \n",
       "3  2015-02-24 11:15:36 -0800            NaN  Pacific Time (US & Canada)  \n",
       "4  2015-02-24 11:14:45 -0800            NaN  Pacific Time (US & Canada)  "
      ]
     },
     "execution_count": 1,
     "metadata": {},
     "output_type": "execute_result"
    }
   ],
   "source": [
    "import pandas as pd\n",
    "import numpy as np\n",
    "import matplotlib.pyplot as plt # To plot histograms\n",
    "%matplotlib inline\n",
    "\n",
    "tweet_df = pd.read_csv('Tweets.csv')\n",
    "print('The dataset contains {} rows and {} columns'.format(tweet_df.shape[0], tweet_df.shape[1]))\n",
    "tweet_df.head()"
   ]
  },
  {
   "cell_type": "markdown",
   "id": "ac37d991",
   "metadata": {},
   "source": [
    "As we can see, a lot of the columns are not really required, like tweet_id, name etcetera. Let's start by getting rid of them."
   ]
  },
  {
   "cell_type": "code",
   "execution_count": 2,
   "id": "d1822ca6",
   "metadata": {},
   "outputs": [
    {
     "data": {
      "text/html": [
       "<div>\n",
       "<style scoped>\n",
       "    .dataframe tbody tr th:only-of-type {\n",
       "        vertical-align: middle;\n",
       "    }\n",
       "\n",
       "    .dataframe tbody tr th {\n",
       "        vertical-align: top;\n",
       "    }\n",
       "\n",
       "    .dataframe thead th {\n",
       "        text-align: right;\n",
       "    }\n",
       "</style>\n",
       "<table border=\"1\" class=\"dataframe\">\n",
       "  <thead>\n",
       "    <tr style=\"text-align: right;\">\n",
       "      <th></th>\n",
       "      <th>airline_sentiment</th>\n",
       "      <th>airline_sentiment_confidence</th>\n",
       "      <th>negativereason</th>\n",
       "      <th>airline</th>\n",
       "      <th>retweet_count</th>\n",
       "      <th>text</th>\n",
       "      <th>tweet_created</th>\n",
       "    </tr>\n",
       "  </thead>\n",
       "  <tbody>\n",
       "    <tr>\n",
       "      <th>0</th>\n",
       "      <td>neutral</td>\n",
       "      <td>1.0000</td>\n",
       "      <td>NaN</td>\n",
       "      <td>Virgin America</td>\n",
       "      <td>0</td>\n",
       "      <td>@VirginAmerica What @dhepburn said.</td>\n",
       "      <td>2015-02-24 11:35:52 -0800</td>\n",
       "    </tr>\n",
       "    <tr>\n",
       "      <th>1</th>\n",
       "      <td>positive</td>\n",
       "      <td>0.3486</td>\n",
       "      <td>NaN</td>\n",
       "      <td>Virgin America</td>\n",
       "      <td>0</td>\n",
       "      <td>@VirginAmerica plus you've added commercials t...</td>\n",
       "      <td>2015-02-24 11:15:59 -0800</td>\n",
       "    </tr>\n",
       "    <tr>\n",
       "      <th>2</th>\n",
       "      <td>neutral</td>\n",
       "      <td>0.6837</td>\n",
       "      <td>NaN</td>\n",
       "      <td>Virgin America</td>\n",
       "      <td>0</td>\n",
       "      <td>@VirginAmerica I didn't today... Must mean I n...</td>\n",
       "      <td>2015-02-24 11:15:48 -0800</td>\n",
       "    </tr>\n",
       "    <tr>\n",
       "      <th>3</th>\n",
       "      <td>negative</td>\n",
       "      <td>1.0000</td>\n",
       "      <td>Bad Flight</td>\n",
       "      <td>Virgin America</td>\n",
       "      <td>0</td>\n",
       "      <td>@VirginAmerica it's really aggressive to blast...</td>\n",
       "      <td>2015-02-24 11:15:36 -0800</td>\n",
       "    </tr>\n",
       "    <tr>\n",
       "      <th>4</th>\n",
       "      <td>negative</td>\n",
       "      <td>1.0000</td>\n",
       "      <td>Can't Tell</td>\n",
       "      <td>Virgin America</td>\n",
       "      <td>0</td>\n",
       "      <td>@VirginAmerica and it's a really big bad thing...</td>\n",
       "      <td>2015-02-24 11:14:45 -0800</td>\n",
       "    </tr>\n",
       "  </tbody>\n",
       "</table>\n",
       "</div>"
      ],
      "text/plain": [
       "  airline_sentiment  airline_sentiment_confidence negativereason  \\\n",
       "0           neutral                        1.0000            NaN   \n",
       "1          positive                        0.3486            NaN   \n",
       "2           neutral                        0.6837            NaN   \n",
       "3          negative                        1.0000     Bad Flight   \n",
       "4          negative                        1.0000     Can't Tell   \n",
       "\n",
       "          airline  retweet_count  \\\n",
       "0  Virgin America              0   \n",
       "1  Virgin America              0   \n",
       "2  Virgin America              0   \n",
       "3  Virgin America              0   \n",
       "4  Virgin America              0   \n",
       "\n",
       "                                                text  \\\n",
       "0                @VirginAmerica What @dhepburn said.   \n",
       "1  @VirginAmerica plus you've added commercials t...   \n",
       "2  @VirginAmerica I didn't today... Must mean I n...   \n",
       "3  @VirginAmerica it's really aggressive to blast...   \n",
       "4  @VirginAmerica and it's a really big bad thing...   \n",
       "\n",
       "               tweet_created  \n",
       "0  2015-02-24 11:35:52 -0800  \n",
       "1  2015-02-24 11:15:59 -0800  \n",
       "2  2015-02-24 11:15:48 -0800  \n",
       "3  2015-02-24 11:15:36 -0800  \n",
       "4  2015-02-24 11:14:45 -0800  "
      ]
     },
     "execution_count": 2,
     "metadata": {},
     "output_type": "execute_result"
    }
   ],
   "source": [
    "useless_columns = ['tweet_id',\n",
    "                   'negativereason_confidence',\n",
    "                   'airline_sentiment_gold',\n",
    "                   'name',\n",
    "                   'negativereason_gold',\n",
    "                   'tweet_coord',\n",
    "                   'tweet_location',\n",
    "                   'user_timezone']\n",
    "tweet_df = tweet_df.drop(useless_columns, axis=1)\n",
    "tweet_df.head()"
   ]
  },
  {
   "cell_type": "markdown",
   "id": "3c166bee",
   "metadata": {},
   "source": [
    "### 1.2. The negativereason column <a class=\"anchor\" id=\"DP-2\"></a>\n",
    "\n",
    "Very well! In the next step we want to examine how many unique negativereasons there are (first we remove NaNs to avoid errors):"
   ]
  },
  {
   "cell_type": "code",
   "execution_count": 3,
   "id": "217129ab",
   "metadata": {},
   "outputs": [
    {
     "name": "stdout",
     "output_type": "stream",
     "text": [
      "All the negative reasons are:\n",
      "['Bad Flight' \"Can't Tell\" 'Cancelled Flight' 'Customer Service Issue'\n",
      " 'Damaged Luggage' 'Flight Attendant Complaints' 'Flight Booking Problems'\n",
      " 'Late Flight' 'Lost Luggage' 'longlines']\n"
     ]
    }
   ],
   "source": [
    "print('All the negative reasons are:\\n{}'.format(np.unique(tweet_df[~pd.isna(tweet_df['negativereason'])]['negativereason'])))"
   ]
  },
  {
   "cell_type": "markdown",
   "id": "bb2106e9",
   "metadata": {},
   "source": [
    "All right. To not make the netork too complex we want to apply this mapping to the negativereason column:\n",
    "\n",
    "- __Customer Service__ will contain __Customer Service Issue__, __Cancelled Flight__ and __Flight Booking Problem__\n",
    "- __Complaints__ will contain __Bad Flight__, __Damaged Luggage__, __Lost Luggage__ and __Flight Attendant Complaints__\n",
    "- __Delay__ will contain __longlines__ and __Late Flight__\n",
    "- __None__ will contain __NaN__ and __Can't Tell__\n",
    "\n",
    "Said that, let's build the mapping function."
   ]
  },
  {
   "cell_type": "code",
   "execution_count": 4,
   "id": "9f366e8a",
   "metadata": {},
   "outputs": [
    {
     "data": {
      "text/html": [
       "<div>\n",
       "<style scoped>\n",
       "    .dataframe tbody tr th:only-of-type {\n",
       "        vertical-align: middle;\n",
       "    }\n",
       "\n",
       "    .dataframe tbody tr th {\n",
       "        vertical-align: top;\n",
       "    }\n",
       "\n",
       "    .dataframe thead th {\n",
       "        text-align: right;\n",
       "    }\n",
       "</style>\n",
       "<table border=\"1\" class=\"dataframe\">\n",
       "  <thead>\n",
       "    <tr style=\"text-align: right;\">\n",
       "      <th></th>\n",
       "      <th>airline_sentiment</th>\n",
       "      <th>airline_sentiment_confidence</th>\n",
       "      <th>negativereason</th>\n",
       "      <th>airline</th>\n",
       "      <th>retweet_count</th>\n",
       "      <th>text</th>\n",
       "      <th>tweet_created</th>\n",
       "    </tr>\n",
       "  </thead>\n",
       "  <tbody>\n",
       "    <tr>\n",
       "      <th>0</th>\n",
       "      <td>neutral</td>\n",
       "      <td>1.0000</td>\n",
       "      <td>None</td>\n",
       "      <td>Virgin America</td>\n",
       "      <td>0</td>\n",
       "      <td>@VirginAmerica What @dhepburn said.</td>\n",
       "      <td>2015-02-24 11:35:52 -0800</td>\n",
       "    </tr>\n",
       "    <tr>\n",
       "      <th>1</th>\n",
       "      <td>positive</td>\n",
       "      <td>0.3486</td>\n",
       "      <td>None</td>\n",
       "      <td>Virgin America</td>\n",
       "      <td>0</td>\n",
       "      <td>@VirginAmerica plus you've added commercials t...</td>\n",
       "      <td>2015-02-24 11:15:59 -0800</td>\n",
       "    </tr>\n",
       "    <tr>\n",
       "      <th>2</th>\n",
       "      <td>neutral</td>\n",
       "      <td>0.6837</td>\n",
       "      <td>None</td>\n",
       "      <td>Virgin America</td>\n",
       "      <td>0</td>\n",
       "      <td>@VirginAmerica I didn't today... Must mean I n...</td>\n",
       "      <td>2015-02-24 11:15:48 -0800</td>\n",
       "    </tr>\n",
       "    <tr>\n",
       "      <th>3</th>\n",
       "      <td>negative</td>\n",
       "      <td>1.0000</td>\n",
       "      <td>Complaints</td>\n",
       "      <td>Virgin America</td>\n",
       "      <td>0</td>\n",
       "      <td>@VirginAmerica it's really aggressive to blast...</td>\n",
       "      <td>2015-02-24 11:15:36 -0800</td>\n",
       "    </tr>\n",
       "    <tr>\n",
       "      <th>4</th>\n",
       "      <td>negative</td>\n",
       "      <td>1.0000</td>\n",
       "      <td>None</td>\n",
       "      <td>Virgin America</td>\n",
       "      <td>0</td>\n",
       "      <td>@VirginAmerica and it's a really big bad thing...</td>\n",
       "      <td>2015-02-24 11:14:45 -0800</td>\n",
       "    </tr>\n",
       "  </tbody>\n",
       "</table>\n",
       "</div>"
      ],
      "text/plain": [
       "  airline_sentiment  airline_sentiment_confidence negativereason  \\\n",
       "0           neutral                        1.0000           None   \n",
       "1          positive                        0.3486           None   \n",
       "2           neutral                        0.6837           None   \n",
       "3          negative                        1.0000     Complaints   \n",
       "4          negative                        1.0000           None   \n",
       "\n",
       "          airline  retweet_count  \\\n",
       "0  Virgin America              0   \n",
       "1  Virgin America              0   \n",
       "2  Virgin America              0   \n",
       "3  Virgin America              0   \n",
       "4  Virgin America              0   \n",
       "\n",
       "                                                text  \\\n",
       "0                @VirginAmerica What @dhepburn said.   \n",
       "1  @VirginAmerica plus you've added commercials t...   \n",
       "2  @VirginAmerica I didn't today... Must mean I n...   \n",
       "3  @VirginAmerica it's really aggressive to blast...   \n",
       "4  @VirginAmerica and it's a really big bad thing...   \n",
       "\n",
       "               tweet_created  \n",
       "0  2015-02-24 11:35:52 -0800  \n",
       "1  2015-02-24 11:15:59 -0800  \n",
       "2  2015-02-24 11:15:48 -0800  \n",
       "3  2015-02-24 11:15:36 -0800  \n",
       "4  2015-02-24 11:14:45 -0800  "
      ]
     },
     "execution_count": 4,
     "metadata": {},
     "output_type": "execute_result"
    }
   ],
   "source": [
    "def mapnegreason(value):\n",
    "    if value in ['Customer Service Issue', 'Cancelled Flight', 'Flight Booking Problems']:\n",
    "        return 'Customer Service'\n",
    "    elif value in ['Bad Flight', 'Damaged Luggage', 'Lost Luggage', 'Flight Attendant Complaints']:\n",
    "        return 'Complaints'\n",
    "    elif value in ['longlines', 'Late Flight']:\n",
    "        return 'Delay'\n",
    "    elif pd.isna(value) or value==\"Can't Tell\":\n",
    "        return 'None'\n",
    "    print('Error: {} not found.'.format(value))\n",
    "tweet_df['negativereason'] = tweet_df['negativereason'].map(mapnegreason)\n",
    "tweet_df.head()"
   ]
  },
  {
   "cell_type": "markdown",
   "id": "34a2abce",
   "metadata": {},
   "source": [
    "### 1.3. The retweet column <a class=\"anchor\" id=\"DP-3\"></a>\n",
    "\n",
    "Perfect! I'm now curious to examine the retweet count. From the first rows we see all 0s. Let's see how the values are distributed:"
   ]
  },
  {
   "cell_type": "code",
   "execution_count": 5,
   "id": "418a79a7",
   "metadata": {},
   "outputs": [
    {
     "data": {
      "text/plain": [
       "{0: 13873,\n",
       " 1: 640,\n",
       " 2: 66,\n",
       " 3: 22,\n",
       " 4: 17,\n",
       " 5: 5,\n",
       " 7: 3,\n",
       " 22: 2,\n",
       " 6: 3,\n",
       " 18: 1,\n",
       " 15: 1,\n",
       " 31: 1,\n",
       " 11: 1,\n",
       " 8: 1,\n",
       " 9: 1,\n",
       " 28: 1,\n",
       " 32: 1,\n",
       " 44: 1}"
      ]
     },
     "execution_count": 5,
     "metadata": {},
     "output_type": "execute_result"
    }
   ],
   "source": [
    "retweets = {}\n",
    "for n in tweet_df['retweet_count']:\n",
    "    retweets[n] = retweets.get(n, 0) + 1\n",
    "retweets"
   ]
  },
  {
   "cell_type": "markdown",
   "id": "79b2bd22",
   "metadata": {},
   "source": [
    "As expected, there is a big amount of 0. I think that I can discretize the retweets in just 2 categories:\n",
    "\n",
    "__count = 0:__ False\n",
    "\n",
    "__count > 0:__ True\n",
    "\n",
    "Let's remap the column then!"
   ]
  },
  {
   "cell_type": "code",
   "execution_count": 6,
   "id": "169392cc",
   "metadata": {},
   "outputs": [
    {
     "data": {
      "text/html": [
       "<div>\n",
       "<style scoped>\n",
       "    .dataframe tbody tr th:only-of-type {\n",
       "        vertical-align: middle;\n",
       "    }\n",
       "\n",
       "    .dataframe tbody tr th {\n",
       "        vertical-align: top;\n",
       "    }\n",
       "\n",
       "    .dataframe thead th {\n",
       "        text-align: right;\n",
       "    }\n",
       "</style>\n",
       "<table border=\"1\" class=\"dataframe\">\n",
       "  <thead>\n",
       "    <tr style=\"text-align: right;\">\n",
       "      <th></th>\n",
       "      <th>airline_sentiment</th>\n",
       "      <th>airline_sentiment_confidence</th>\n",
       "      <th>negativereason</th>\n",
       "      <th>airline</th>\n",
       "      <th>retweet_count</th>\n",
       "      <th>text</th>\n",
       "      <th>tweet_created</th>\n",
       "    </tr>\n",
       "  </thead>\n",
       "  <tbody>\n",
       "    <tr>\n",
       "      <th>0</th>\n",
       "      <td>neutral</td>\n",
       "      <td>1.0000</td>\n",
       "      <td>None</td>\n",
       "      <td>Virgin America</td>\n",
       "      <td>False</td>\n",
       "      <td>@VirginAmerica What @dhepburn said.</td>\n",
       "      <td>2015-02-24 11:35:52 -0800</td>\n",
       "    </tr>\n",
       "    <tr>\n",
       "      <th>1</th>\n",
       "      <td>positive</td>\n",
       "      <td>0.3486</td>\n",
       "      <td>None</td>\n",
       "      <td>Virgin America</td>\n",
       "      <td>False</td>\n",
       "      <td>@VirginAmerica plus you've added commercials t...</td>\n",
       "      <td>2015-02-24 11:15:59 -0800</td>\n",
       "    </tr>\n",
       "    <tr>\n",
       "      <th>2</th>\n",
       "      <td>neutral</td>\n",
       "      <td>0.6837</td>\n",
       "      <td>None</td>\n",
       "      <td>Virgin America</td>\n",
       "      <td>False</td>\n",
       "      <td>@VirginAmerica I didn't today... Must mean I n...</td>\n",
       "      <td>2015-02-24 11:15:48 -0800</td>\n",
       "    </tr>\n",
       "    <tr>\n",
       "      <th>3</th>\n",
       "      <td>negative</td>\n",
       "      <td>1.0000</td>\n",
       "      <td>Complaints</td>\n",
       "      <td>Virgin America</td>\n",
       "      <td>False</td>\n",
       "      <td>@VirginAmerica it's really aggressive to blast...</td>\n",
       "      <td>2015-02-24 11:15:36 -0800</td>\n",
       "    </tr>\n",
       "    <tr>\n",
       "      <th>4</th>\n",
       "      <td>negative</td>\n",
       "      <td>1.0000</td>\n",
       "      <td>None</td>\n",
       "      <td>Virgin America</td>\n",
       "      <td>False</td>\n",
       "      <td>@VirginAmerica and it's a really big bad thing...</td>\n",
       "      <td>2015-02-24 11:14:45 -0800</td>\n",
       "    </tr>\n",
       "  </tbody>\n",
       "</table>\n",
       "</div>"
      ],
      "text/plain": [
       "  airline_sentiment  airline_sentiment_confidence negativereason  \\\n",
       "0           neutral                        1.0000           None   \n",
       "1          positive                        0.3486           None   \n",
       "2           neutral                        0.6837           None   \n",
       "3          negative                        1.0000     Complaints   \n",
       "4          negative                        1.0000           None   \n",
       "\n",
       "          airline retweet_count  \\\n",
       "0  Virgin America         False   \n",
       "1  Virgin America         False   \n",
       "2  Virgin America         False   \n",
       "3  Virgin America         False   \n",
       "4  Virgin America         False   \n",
       "\n",
       "                                                text  \\\n",
       "0                @VirginAmerica What @dhepburn said.   \n",
       "1  @VirginAmerica plus you've added commercials t...   \n",
       "2  @VirginAmerica I didn't today... Must mean I n...   \n",
       "3  @VirginAmerica it's really aggressive to blast...   \n",
       "4  @VirginAmerica and it's a really big bad thing...   \n",
       "\n",
       "               tweet_created  \n",
       "0  2015-02-24 11:35:52 -0800  \n",
       "1  2015-02-24 11:15:59 -0800  \n",
       "2  2015-02-24 11:15:48 -0800  \n",
       "3  2015-02-24 11:15:36 -0800  \n",
       "4  2015-02-24 11:14:45 -0800  "
      ]
     },
     "execution_count": 6,
     "metadata": {},
     "output_type": "execute_result"
    }
   ],
   "source": [
    "def retweetsmap(value):\n",
    "    if value == 0:\n",
    "        return 'False'\n",
    "    return 'True'\n",
    "\n",
    "tweet_df['retweet_count'] = tweet_df['retweet_count'].map(retweetsmap)\n",
    "tweet_df.head()"
   ]
  },
  {
   "cell_type": "markdown",
   "id": "eca798cd",
   "metadata": {},
   "source": [
    "### 1.4. The tweet_created column <a class=\"anchor\" id=\"DP-4\"></a>\n",
    "\n",
    "Another important step is remapping the tweet time in a discrete repreentation. In fact the tweet time __could__ explain the number of retweets; for example a tweet sent during the night might receive low attention compared to one sent during the evening. The idea is to apply this mapping:\n",
    "\n",
    "__from 00.00 AM to 06.00 AM:__ Night\n",
    "\n",
    "__from 06.00 AM to 12.00 PM:__ Morning\n",
    "\n",
    "__from 12.00 AM to 18.00 PM:__ Noon\n",
    "\n",
    "__from 18.00 AM to 24.00 PM:__ Evening\n",
    "\n",
    "Let's try to perform the mapping!"
   ]
  },
  {
   "cell_type": "code",
   "execution_count": 7,
   "id": "713e3915",
   "metadata": {},
   "outputs": [
    {
     "data": {
      "text/html": [
       "<div>\n",
       "<style scoped>\n",
       "    .dataframe tbody tr th:only-of-type {\n",
       "        vertical-align: middle;\n",
       "    }\n",
       "\n",
       "    .dataframe tbody tr th {\n",
       "        vertical-align: top;\n",
       "    }\n",
       "\n",
       "    .dataframe thead th {\n",
       "        text-align: right;\n",
       "    }\n",
       "</style>\n",
       "<table border=\"1\" class=\"dataframe\">\n",
       "  <thead>\n",
       "    <tr style=\"text-align: right;\">\n",
       "      <th></th>\n",
       "      <th>airline_sentiment</th>\n",
       "      <th>airline_sentiment_confidence</th>\n",
       "      <th>negativereason</th>\n",
       "      <th>airline</th>\n",
       "      <th>retweet_count</th>\n",
       "      <th>text</th>\n",
       "      <th>tweet_created</th>\n",
       "    </tr>\n",
       "  </thead>\n",
       "  <tbody>\n",
       "    <tr>\n",
       "      <th>0</th>\n",
       "      <td>neutral</td>\n",
       "      <td>1.0000</td>\n",
       "      <td>None</td>\n",
       "      <td>Virgin America</td>\n",
       "      <td>False</td>\n",
       "      <td>@VirginAmerica What @dhepburn said.</td>\n",
       "      <td>Morning</td>\n",
       "    </tr>\n",
       "    <tr>\n",
       "      <th>1</th>\n",
       "      <td>positive</td>\n",
       "      <td>0.3486</td>\n",
       "      <td>None</td>\n",
       "      <td>Virgin America</td>\n",
       "      <td>False</td>\n",
       "      <td>@VirginAmerica plus you've added commercials t...</td>\n",
       "      <td>Morning</td>\n",
       "    </tr>\n",
       "    <tr>\n",
       "      <th>2</th>\n",
       "      <td>neutral</td>\n",
       "      <td>0.6837</td>\n",
       "      <td>None</td>\n",
       "      <td>Virgin America</td>\n",
       "      <td>False</td>\n",
       "      <td>@VirginAmerica I didn't today... Must mean I n...</td>\n",
       "      <td>Morning</td>\n",
       "    </tr>\n",
       "    <tr>\n",
       "      <th>3</th>\n",
       "      <td>negative</td>\n",
       "      <td>1.0000</td>\n",
       "      <td>Complaints</td>\n",
       "      <td>Virgin America</td>\n",
       "      <td>False</td>\n",
       "      <td>@VirginAmerica it's really aggressive to blast...</td>\n",
       "      <td>Morning</td>\n",
       "    </tr>\n",
       "    <tr>\n",
       "      <th>4</th>\n",
       "      <td>negative</td>\n",
       "      <td>1.0000</td>\n",
       "      <td>None</td>\n",
       "      <td>Virgin America</td>\n",
       "      <td>False</td>\n",
       "      <td>@VirginAmerica and it's a really big bad thing...</td>\n",
       "      <td>Morning</td>\n",
       "    </tr>\n",
       "  </tbody>\n",
       "</table>\n",
       "</div>"
      ],
      "text/plain": [
       "  airline_sentiment  airline_sentiment_confidence negativereason  \\\n",
       "0           neutral                        1.0000           None   \n",
       "1          positive                        0.3486           None   \n",
       "2           neutral                        0.6837           None   \n",
       "3          negative                        1.0000     Complaints   \n",
       "4          negative                        1.0000           None   \n",
       "\n",
       "          airline retweet_count  \\\n",
       "0  Virgin America         False   \n",
       "1  Virgin America         False   \n",
       "2  Virgin America         False   \n",
       "3  Virgin America         False   \n",
       "4  Virgin America         False   \n",
       "\n",
       "                                                text tweet_created  \n",
       "0                @VirginAmerica What @dhepburn said.       Morning  \n",
       "1  @VirginAmerica plus you've added commercials t...       Morning  \n",
       "2  @VirginAmerica I didn't today... Must mean I n...       Morning  \n",
       "3  @VirginAmerica it's really aggressive to blast...       Morning  \n",
       "4  @VirginAmerica and it's a really big bad thing...       Morning  "
      ]
     },
     "execution_count": 7,
     "metadata": {},
     "output_type": "execute_result"
    }
   ],
   "source": [
    "from datetime import datetime # To better manage dates\n",
    "\n",
    "def mapdate(datestring):\n",
    "    datestring=datestring[:-6]\n",
    "    date = datetime.fromisoformat(datestring)\n",
    "    if 0 <= date.hour < 6:\n",
    "        return 'Night'\n",
    "    elif 6 <= date.hour < 12:\n",
    "        return 'Morning'\n",
    "    elif 12 <= date.hour < 18:\n",
    "        return 'Noon'\n",
    "    return 'Evening'\n",
    "\n",
    "tweet_df['tweet_created'] = tweet_df['tweet_created'].map(mapdate)\n",
    "tweet_df.head()"
   ]
  },
  {
   "cell_type": "markdown",
   "id": "1dd5c190",
   "metadata": {},
   "source": [
    "### 1.5. The tweet_length column <a class=\"anchor\" id=\"DP-5\"></a>\n",
    "\n",
    "We now want to add a column that encodes the length of a tweet because it __could__ be related to its sentiment.\n",
    "The idea is to define __maxlen__ as the length of the longest tweet in the dataset. We then classify a tweet as:\n",
    "\n",
    "__Short:__ If its length is between 0 and 0.3\\*maxlen.\n",
    "\n",
    "__Medium:__ If its length is between 0.3\\*maxlen and 0.6\\*maxlen.\n",
    "\n",
    "__Long:__ If it doesn't fall in any of the previous categories.\n",
    "\n",
    "Let's add the column then."
   ]
  },
  {
   "cell_type": "code",
   "execution_count": 8,
   "id": "38c2b2b2",
   "metadata": {},
   "outputs": [
    {
     "data": {
      "text/html": [
       "<div>\n",
       "<style scoped>\n",
       "    .dataframe tbody tr th:only-of-type {\n",
       "        vertical-align: middle;\n",
       "    }\n",
       "\n",
       "    .dataframe tbody tr th {\n",
       "        vertical-align: top;\n",
       "    }\n",
       "\n",
       "    .dataframe thead th {\n",
       "        text-align: right;\n",
       "    }\n",
       "</style>\n",
       "<table border=\"1\" class=\"dataframe\">\n",
       "  <thead>\n",
       "    <tr style=\"text-align: right;\">\n",
       "      <th></th>\n",
       "      <th>airline_sentiment</th>\n",
       "      <th>airline_sentiment_confidence</th>\n",
       "      <th>negativereason</th>\n",
       "      <th>airline</th>\n",
       "      <th>retweet_count</th>\n",
       "      <th>text</th>\n",
       "      <th>tweet_created</th>\n",
       "      <th>tweet_length</th>\n",
       "    </tr>\n",
       "  </thead>\n",
       "  <tbody>\n",
       "    <tr>\n",
       "      <th>0</th>\n",
       "      <td>neutral</td>\n",
       "      <td>1.0000</td>\n",
       "      <td>None</td>\n",
       "      <td>Virgin America</td>\n",
       "      <td>False</td>\n",
       "      <td>@VirginAmerica What @dhepburn said.</td>\n",
       "      <td>Morning</td>\n",
       "      <td>Short</td>\n",
       "    </tr>\n",
       "    <tr>\n",
       "      <th>1</th>\n",
       "      <td>positive</td>\n",
       "      <td>0.3486</td>\n",
       "      <td>None</td>\n",
       "      <td>Virgin America</td>\n",
       "      <td>False</td>\n",
       "      <td>@VirginAmerica plus you've added commercials t...</td>\n",
       "      <td>Morning</td>\n",
       "      <td>Medium</td>\n",
       "    </tr>\n",
       "    <tr>\n",
       "      <th>2</th>\n",
       "      <td>neutral</td>\n",
       "      <td>0.6837</td>\n",
       "      <td>None</td>\n",
       "      <td>Virgin America</td>\n",
       "      <td>False</td>\n",
       "      <td>@VirginAmerica I didn't today... Must mean I n...</td>\n",
       "      <td>Morning</td>\n",
       "      <td>Medium</td>\n",
       "    </tr>\n",
       "    <tr>\n",
       "      <th>3</th>\n",
       "      <td>negative</td>\n",
       "      <td>1.0000</td>\n",
       "      <td>Complaints</td>\n",
       "      <td>Virgin America</td>\n",
       "      <td>False</td>\n",
       "      <td>@VirginAmerica it's really aggressive to blast...</td>\n",
       "      <td>Morning</td>\n",
       "      <td>Long</td>\n",
       "    </tr>\n",
       "    <tr>\n",
       "      <th>4</th>\n",
       "      <td>negative</td>\n",
       "      <td>1.0000</td>\n",
       "      <td>None</td>\n",
       "      <td>Virgin America</td>\n",
       "      <td>False</td>\n",
       "      <td>@VirginAmerica and it's a really big bad thing...</td>\n",
       "      <td>Morning</td>\n",
       "      <td>Medium</td>\n",
       "    </tr>\n",
       "  </tbody>\n",
       "</table>\n",
       "</div>"
      ],
      "text/plain": [
       "  airline_sentiment  airline_sentiment_confidence negativereason  \\\n",
       "0           neutral                        1.0000           None   \n",
       "1          positive                        0.3486           None   \n",
       "2           neutral                        0.6837           None   \n",
       "3          negative                        1.0000     Complaints   \n",
       "4          negative                        1.0000           None   \n",
       "\n",
       "          airline retweet_count  \\\n",
       "0  Virgin America         False   \n",
       "1  Virgin America         False   \n",
       "2  Virgin America         False   \n",
       "3  Virgin America         False   \n",
       "4  Virgin America         False   \n",
       "\n",
       "                                                text tweet_created  \\\n",
       "0                @VirginAmerica What @dhepburn said.       Morning   \n",
       "1  @VirginAmerica plus you've added commercials t...       Morning   \n",
       "2  @VirginAmerica I didn't today... Must mean I n...       Morning   \n",
       "3  @VirginAmerica it's really aggressive to blast...       Morning   \n",
       "4  @VirginAmerica and it's a really big bad thing...       Morning   \n",
       "\n",
       "  tweet_length  \n",
       "0        Short  \n",
       "1       Medium  \n",
       "2       Medium  \n",
       "3         Long  \n",
       "4       Medium  "
      ]
     },
     "execution_count": 8,
     "metadata": {},
     "output_type": "execute_result"
    }
   ],
   "source": [
    "maxlen = max(tweet_df['text'].map(lambda x: len(x)))\n",
    "\n",
    "def maplength(tweet):\n",
    "    if 0 <= len(tweet) < int(0.3*maxlen):\n",
    "        return 'Short'\n",
    "    elif int(0.3*maxlen) <= len(tweet) < int(0.6*maxlen):\n",
    "        return 'Medium'\n",
    "    return 'Long'\n",
    "\n",
    "tweet_df['tweet_length'] = tweet_df['text'].map(maplength)\n",
    "tweet_df.head()"
   ]
  },
  {
   "cell_type": "markdown",
   "id": "cd5b9860",
   "metadata": {},
   "source": [
    "### 1.6. The frequency of some words <a class=\"anchor\" id=\"DP-6\"></a>\n",
    "\n",
    "Now I want to analyze the occurence of the words in the tweets. The idea is to find words that could be related to a certain type of sentiment.\n",
    "The first thing we are going to do is extracting a dictionary of the type (word, number_occurences). We will only pick words of length 4 or more, to avoid non-words like \"the\", \"is\" etcetera..."
   ]
  },
  {
   "cell_type": "code",
   "execution_count": 9,
   "id": "c4e32eb5",
   "metadata": {},
   "outputs": [
    {
     "data": {
      "image/png": "[encoded data removed]",
      "text/plain": [
       "<Figure size 432x288 with 1 Axes>"
      ]
     },
     "metadata": {
      "needs_background": "light"
     },
     "output_type": "display_data"
    },
    {
     "data": {
      "image/png": "[encoded data removed]",
      "text/plain": [
       "<Figure size 432x288 with 1 Axes>"
      ]
     },
     "metadata": {
      "needs_background": "light"
     },
     "output_type": "display_data"
    },
    {
     "data": {
      "image/png": "[encoded data removed]",
      "text/plain": [
       "<Figure size 432x288 with 1 Axes>"
      ]
     },
     "metadata": {
      "needs_background": "light"
     },
     "output_type": "display_data"
    }
   ],
   "source": [
    "import re # Imported because its split() method is very useful\n",
    "selected = 20 # Number of the X most frequent words shown\n",
    "minlen = 4 # Minimum length for a word to be added in the dataset\n",
    "for sentiment in ['positive', 'neutral', 'negative']: # For each sentiment\n",
    "    word_dict = {} # Create a dict that will contain pairs (word, number_occurencies)\n",
    "    for tweet in tweet_df[tweet_df['airline_sentiment']==sentiment]['text']: # For each tweet of the current sentiment\n",
    "        for word in re.split(\"'| \", tweet): # Split the words in the tweet for each blankspace and each ' (to get rid of it's, that's etc)\n",
    "            if len(word) > minlen and word[0] != '@': # If a word is longer than minlen and is not a quote (doesn't start with @)\n",
    "                word_dict[word.lower()] = word_dict.get(word.lower(), 0) + 1 # Update frequency count\n",
    "    ordered_dict = dict(sorted(word_dict.items(), key=lambda x: x[1], reverse=True)[:selected]) # Sort the dict\n",
    "    fig, ax = plt.subplots() # Create plot\n",
    "    ax.bar(ordered_dict.keys(), ordered_dict.values()) # Create histogram\n",
    "    ax.set_title('First {} most common words for the {} sentiment'.format(selected, sentiment)) # Set title\n",
    "    plt.xticks(rotation=90) # Rotate xlabel\n",
    "    plt.show() # Show plot"
   ]
  },
  {
   "cell_type": "markdown",
   "id": "32add3b5",
   "metadata": {},
   "source": [
    "For what we can see, __flight__ is a good candidate because it's a word that appears in all the three sentiments, but it's more common in the negative sentiment.\n",
    "Also __thank__ seems to appear mostly in the neutral and positive sentiment, making it a good candidate.\n",
    "And lastly also __cancelled__ is a good candidate because it seems to appear somewhat frequently in both positive and negative tweets.\n",
    "Let's store these words in a variable. We will use them later."
   ]
  },
  {
   "cell_type": "code",
   "execution_count": 10,
   "id": "8d01a5d5",
   "metadata": {},
   "outputs": [],
   "source": [
    "interesting_words = ['flight', 'thank', 'cancelled']"
   ]
  },
  {
   "cell_type": "markdown",
   "id": "5cf69491",
   "metadata": {},
   "source": [
    "### 1.7. The airline_sentiment_confidence column <a class=\"anchor\" id=\"DP-7\"></a>\n",
    "\n",
    "This column seems to encode the confidence that the sentiment is actually correct: some tweets might be ambiguous therefore one can't be 100% sure of the correctness of a label. We are interested in this column because the presence of one of the words that we found earlier __could__ influence the confidence of a sentiment.\n",
    "As a first step, let's see what's the minimum, the maximum and how the values are distributed."
   ]
  },
  {
   "cell_type": "code",
   "execution_count": 11,
   "id": "2564e3de",
   "metadata": {},
   "outputs": [
    {
     "name": "stdout",
     "output_type": "stream",
     "text": [
      "Maximum: 1.0\n",
      "Minimum: 0.335\n"
     ]
    },
    {
     "data": {
      "image/png": "[encoded data removed]",
      "text/plain": [
       "<Figure size 432x288 with 1 Axes>"
      ]
     },
     "metadata": {
      "needs_background": "light"
     },
     "output_type": "display_data"
    }
   ],
   "source": [
    "print('Maximum: {}\\nMinimum: {}'.format(np.max(tweet_df['airline_sentiment_confidence']), np.min(tweet_df['airline_sentiment_confidence'])))\n",
    "tweet_df['airline_sentiment_confidence'].hist();"
   ]
  },
  {
   "cell_type": "markdown",
   "id": "f2e6a0b9",
   "metadata": {},
   "source": [
    "Good! We could apply this mapping:\n",
    "\n",
    "- Every value __below__ 0.8 is labeled as Low Confidence\n",
    "- Everything else is High Confidence\n",
    "\n",
    "Let's do it!"
   ]
  },
  {
   "cell_type": "code",
   "execution_count": 12,
   "id": "4bc613a5",
   "metadata": {},
   "outputs": [
    {
     "data": {
      "text/html": [
       "<div>\n",
       "<style scoped>\n",
       "    .dataframe tbody tr th:only-of-type {\n",
       "        vertical-align: middle;\n",
       "    }\n",
       "\n",
       "    .dataframe tbody tr th {\n",
       "        vertical-align: top;\n",
       "    }\n",
       "\n",
       "    .dataframe thead th {\n",
       "        text-align: right;\n",
       "    }\n",
       "</style>\n",
       "<table border=\"1\" class=\"dataframe\">\n",
       "  <thead>\n",
       "    <tr style=\"text-align: right;\">\n",
       "      <th></th>\n",
       "      <th>airline_sentiment</th>\n",
       "      <th>airline_sentiment_confidence</th>\n",
       "      <th>negativereason</th>\n",
       "      <th>airline</th>\n",
       "      <th>retweet_count</th>\n",
       "      <th>text</th>\n",
       "      <th>tweet_created</th>\n",
       "      <th>tweet_length</th>\n",
       "    </tr>\n",
       "  </thead>\n",
       "  <tbody>\n",
       "    <tr>\n",
       "      <th>0</th>\n",
       "      <td>neutral</td>\n",
       "      <td>High</td>\n",
       "      <td>None</td>\n",
       "      <td>Virgin America</td>\n",
       "      <td>False</td>\n",
       "      <td>@VirginAmerica What @dhepburn said.</td>\n",
       "      <td>Morning</td>\n",
       "      <td>Short</td>\n",
       "    </tr>\n",
       "    <tr>\n",
       "      <th>1</th>\n",
       "      <td>positive</td>\n",
       "      <td>Low</td>\n",
       "      <td>None</td>\n",
       "      <td>Virgin America</td>\n",
       "      <td>False</td>\n",
       "      <td>@VirginAmerica plus you've added commercials t...</td>\n",
       "      <td>Morning</td>\n",
       "      <td>Medium</td>\n",
       "    </tr>\n",
       "    <tr>\n",
       "      <th>2</th>\n",
       "      <td>neutral</td>\n",
       "      <td>Low</td>\n",
       "      <td>None</td>\n",
       "      <td>Virgin America</td>\n",
       "      <td>False</td>\n",
       "      <td>@VirginAmerica I didn't today... Must mean I n...</td>\n",
       "      <td>Morning</td>\n",
       "      <td>Medium</td>\n",
       "    </tr>\n",
       "    <tr>\n",
       "      <th>3</th>\n",
       "      <td>negative</td>\n",
       "      <td>High</td>\n",
       "      <td>Complaints</td>\n",
       "      <td>Virgin America</td>\n",
       "      <td>False</td>\n",
       "      <td>@VirginAmerica it's really aggressive to blast...</td>\n",
       "      <td>Morning</td>\n",
       "      <td>Long</td>\n",
       "    </tr>\n",
       "    <tr>\n",
       "      <th>4</th>\n",
       "      <td>negative</td>\n",
       "      <td>High</td>\n",
       "      <td>None</td>\n",
       "      <td>Virgin America</td>\n",
       "      <td>False</td>\n",
       "      <td>@VirginAmerica and it's a really big bad thing...</td>\n",
       "      <td>Morning</td>\n",
       "      <td>Medium</td>\n",
       "    </tr>\n",
       "  </tbody>\n",
       "</table>\n",
       "</div>"
      ],
      "text/plain": [
       "  airline_sentiment airline_sentiment_confidence negativereason  \\\n",
       "0           neutral                         High           None   \n",
       "1          positive                          Low           None   \n",
       "2           neutral                          Low           None   \n",
       "3          negative                         High     Complaints   \n",
       "4          negative                         High           None   \n",
       "\n",
       "          airline retweet_count  \\\n",
       "0  Virgin America         False   \n",
       "1  Virgin America         False   \n",
       "2  Virgin America         False   \n",
       "3  Virgin America         False   \n",
       "4  Virgin America         False   \n",
       "\n",
       "                                                text tweet_created  \\\n",
       "0                @VirginAmerica What @dhepburn said.       Morning   \n",
       "1  @VirginAmerica plus you've added commercials t...       Morning   \n",
       "2  @VirginAmerica I didn't today... Must mean I n...       Morning   \n",
       "3  @VirginAmerica it's really aggressive to blast...       Morning   \n",
       "4  @VirginAmerica and it's a really big bad thing...       Morning   \n",
       "\n",
       "  tweet_length  \n",
       "0        Short  \n",
       "1       Medium  \n",
       "2       Medium  \n",
       "3         Long  \n",
       "4       Medium  "
      ]
     },
     "execution_count": 12,
     "metadata": {},
     "output_type": "execute_result"
    }
   ],
   "source": [
    "def mapconf(value):\n",
    "    if value < 0.8:\n",
    "        return 'Low'\n",
    "    return 'High'\n",
    "\n",
    "tweet_df['airline_sentiment_confidence'] = tweet_df['airline_sentiment_confidence'].map(mapconf)\n",
    "tweet_df.head()"
   ]
  },
  {
   "cell_type": "markdown",
   "id": "64159e1f",
   "metadata": {},
   "source": [
    "And that's it! With this last step we concluded the part on data preprocessing. It is now time to dive in the model and in the computation of probabilities."
   ]
  },
  {
   "cell_type": "markdown",
   "id": "26d445ea",
   "metadata": {},
   "source": [
    "## 2. Presentation of the model <a class=\"anchor\" id=\"PM\"></a>"
   ]
  },
  {
   "cell_type": "markdown",
   "id": "0d146752",
   "metadata": {},
   "source": [
    "### 2.1 The Bayesian Network <a class=\"anchor\" id=\"PM-1\"></a>"
   ]
  },
  {
   "cell_type": "markdown",
   "id": "0744d4b7",
   "metadata": {},
   "source": [
    "![Network](USAirNet.png)"
   ]
  },
  {
   "cell_type": "markdown",
   "id": "e9e6c625",
   "metadata": {},
   "source": [
    "### 2.2. Explanation of the nodes <a class=\"anchor\" id=\"PM-2\"></a>\n",
    "\n",
    "- __Company:__ Which company the tweet is referred to. \n",
    "    - __Domain:__ American, Delta, Southwest, US Airways, United, Virgin America\n",
    "- __City:__ The city from which the plane starts the trip.\n",
    "    - __Domain:__ New York, Los Angeles, Chicago\n",
    "- __Bad Weather:__ If its raining or not.\n",
    "    - __Domain:__ True, False\n",
    "- __Strike:__ If there is an ongoing strike.\n",
    "    - __Domain:__ True, False\n",
    "- __Problems:__ Represents the problems that might have happened with the flight.\n",
    "    - __Domain:__ Complaints, Customer Service, Delays, None\n",
    "- __Sentiment:__ The sentiment of the tweet.\n",
    "    - __Domain:__ Positive, Neutral, Negative\n",
    "- __Retweets:__ If the tweet has been retweeted or not.\n",
    "    - __Domain:__ True, False\n",
    "- __Tweet Time:__ Time of the day in which the tweet has been posted.\n",
    "    - __Domain:__ Morning, Evening, Noon, Night\n",
    "- __Flight, Thank and Cancelled:__ They signal if the corresponding word is present in the text of the tweet.\n",
    "    - __Domain:__ True, False\n",
    "- __Confidence:__ The confidence for the sentiment assigned to the tweet.\n",
    "    - __Domain:__ Low, High"
   ]
  },
  {
   "cell_type": "markdown",
   "id": "86620218",
   "metadata": {},
   "source": [
    "### 2.3. Justifications for the choices made <a class=\"anchor\" id=\"PM-3\"></a>\n",
    "\n",
    "Starting from the top of the network, I will give a justification for the choices I've made.\n",
    "\n",
    "- Starting from the very top, it makes sense to say that a specific company may increase the probability of mishaps. For example, a company may be known for having unconfortable seats, or a very bad customer service.\n",
    "- The city can influence the probability of bad weather\n",
    "- Bad weather condition may influence the probability of delays happening. It shouldn't affect the probability of bad flights or bad customer service.\n",
    "- Strikes may increase the probability of delays happening, or may worsen the customer service's condition due to the shortage of employees. It shouldn't affect the probability of Problems=Complaints about the flight itself, since this is more related to bad seats, bad mannered staff, bad food, lost luggages...\n",
    "- Problems make the sentiment negative. But sometimes even the total absence of a particular reason (Problems=None) can still produce a negative sentiment.\n",
    "- The sentiment may influence the number of retweets of a particular tweet, in fact people may be more inclined to share with others a really bad experience with a specific company rather than a tweet in which someone says that everything went great.\n",
    "- The time of the tweet may influence the number of retweets. In fact it is more likely that tweets shared at night and very early in the morning don't gain enough traction.\n",
    "- The sentiment may also influence the tweet length. In fact an angry person is more likely to spend a lot of words explaining what happened to them.\n",
    "- The sentiment could influence the probability of the words __cancelled__, __flight__ and __thank__ to appear.\n",
    "- These words can influence the confidence in the sentiment."
   ]
  },
  {
   "cell_type": "markdown",
   "id": "96afb5ff",
   "metadata": {},
   "source": [
    "## 3. Computing Probabilities <a class=\"anchor\" id=\"CP\"></a>"
   ]
  },
  {
   "cell_type": "markdown",
   "id": "39fada0f",
   "metadata": {},
   "source": [
    "### 3.1. Company Probability <a class=\"anchor\" id=\"CP-1\"></a> [[jump to pgmpy implementation]](#PI-3)\n",
    "In the first step, we want to compute the probability for \"Company\", let's see how many companies there are in the dataset:"
   ]
  },
  {
   "cell_type": "code",
   "execution_count": 13,
   "id": "e15b887e",
   "metadata": {},
   "outputs": [
    {
     "name": "stdout",
     "output_type": "stream",
     "text": [
      "There are 6 different companies in the dataset:['American' 'Delta' 'Southwest' 'US Airways' 'United' 'Virgin America']\n"
     ]
    }
   ],
   "source": [
    "airlines = np.unique(tweet_df['airline'])\n",
    "print('There are {} different companies in the dataset:{}'.format(len(airlines), np.unique(airlines)))"
   ]
  },
  {
   "cell_type": "markdown",
   "id": "ad526fae",
   "metadata": {},
   "source": [
    "Good! We now know that company is a variable with __6 different values__. We must the probability of occurence for each one of them."
   ]
  },
  {
   "cell_type": "code",
   "execution_count": 14,
   "id": "ae04e9c8",
   "metadata": {},
   "outputs": [
    {
     "name": "stdout",
     "output_type": "stream",
     "text": [
      "P(airline=American) = 0.19\n",
      "P(airline=Delta) = 0.15\n",
      "P(airline=Southwest) = 0.17\n",
      "P(airline=US Airways) = 0.2\n",
      "P(airline=United) = 0.26\n",
      "P(airline=Virgin America) = 0.03\n",
      "Total sum = 1.0\n"
     ]
    }
   ],
   "source": [
    "total_rows = tweet_df.shape[0]\n",
    "total_sum = 0\n",
    "for comp in airlines:\n",
    "    count = tweet_df[tweet_df['airline']==comp].shape[0]\n",
    "    total_sum += round(count/total_rows, 2)\n",
    "    print('P(airline={}) = {}'.format(comp, round(count/total_rows, 2)))\n",
    "print('Total sum = {}'.format(total_sum))"
   ]
  },
  {
   "cell_type": "markdown",
   "id": "b252763a",
   "metadata": {},
   "source": [
    "That .01 probably is due to rounding errors. The probability table looks like this:\n",
    "\n",
    "|| American | Delta | Southwest | US Airways | United | Virgin America |\n",
    "| --- | --- | --- | --- | --- | --- | --- |\n",
    "| Company | 0.19 | 0.15 | 0.17 | 0.2 | 0.26 | 0.03 |"
   ]
  },
  {
   "cell_type": "markdown",
   "id": "e89c49ac",
   "metadata": {},
   "source": [
    "### 3.2. Strike Probability <a class=\"anchor\" id=\"CP-2\"></a> [[jump to pgmpy implementation]](#PI-4)\n",
    "\n",
    "I tried to do a bit of research on the probability of a strike to happen, but sadly I didn't find any major results. From the articles found online I can assume is fairly improbable. I think the probabilty table will look like this:\n",
    "\n",
    "|| True | False |\n",
    "|---|---|---|\n",
    "| Strike | 0.99 | 0.01 |"
   ]
  },
  {
   "cell_type": "markdown",
   "id": "4d93e6ee",
   "metadata": {},
   "source": [
    "### 3.3. City Probability <a class=\"anchor\" id=\"CP-3\"></a> [[jump to pgmpy implementation]](#PI-5)\n",
    "\n",
    "This is the probability of a plane to start the flight on a given city. Since this data is very hard to retrieve we'll need to get creative again. For this node I took 3 among the most known US cities:\n",
    "\n",
    "|| New York | Los Angeles | Chicago |\n",
    "| --- | --- | --- | --- |\n",
    "| City | 0.45 | 0.35 | 0.2 |"
   ]
  },
  {
   "cell_type": "markdown",
   "id": "6efed2bb",
   "metadata": {},
   "source": [
    "### 3.4 Probability of Bad Weather given City <a class=\"anchor\" id=\"CP-4\"></a>[[jump to pgmpy implementation]](#PI-6)\n",
    "\n",
    "Clearly, every city has a different probability of having bad weather. From this source (https://www.currentresults.com/Weather/US/average-annual-precipitation-by-city.php) we can see that:\n",
    "\n",
    "- __Chicago__ has on average of 127 days of rain in a year.\n",
    "- __Los Angeles__ has on average 34 days of rain in a year.\n",
    "- __New York__ has on average 125 days of rain in a year.\n",
    "\n",
    "This brings us to this probability table (assuming 365 days per year):\n",
    "\n",
    "|| Bad Weather = True | Bad Weather = False |\n",
    "| --- | --- | --- |\n",
    "| Chicago | 0.34 | 0.66 |\n",
    "| Los Angeles | 0.09 | 0.91 |\n",
    "| New York | 0.33 | 0.67 |"
   ]
  },
  {
   "cell_type": "markdown",
   "id": "8eff32ee",
   "metadata": {},
   "source": [
    "### 3.5. Probability of Problems given Company, Strike and Bad Weather <a class=\"anchor\" id=\"CP-5\"></a> [[jump to pgmpy implementation]](#PI-7)\n",
    "\n",
    "We can partially extract this information directly from the dataset. For simplicity we assume that the data in the dataset have __Strike=False__ and __Bad Weather=False__, in this way we can use the extracted probabilities as a lower bound for the cases in which Strike or Bad Weather are not False. "
   ]
  },
  {
   "cell_type": "code",
   "execution_count": 15,
   "id": "26c03300",
   "metadata": {},
   "outputs": [
    {
     "name": "stdout",
     "output_type": "stream",
     "text": [
      "P(Problems=Complaints|Company=American, Strike=False, Bad Weather=False)=0.12\n",
      "P(Problems=Customer Service|Company=American, Strike=False, Bad Weather=False)=0.41\n",
      "P(Problems=Delay|Company=American, Strike=False, Bad Weather=False)=0.1\n",
      "P(Problems=None|Company=American, Strike=False, Bad Weather=False)=0.36\n",
      "P(Problems=Complaints|Company=Delta, Strike=False, Bad Weather=False)=0.09\n",
      "P(Problems=Customer Service|Company=Delta, Strike=False, Bad Weather=False)=0.13\n",
      "P(Problems=Delay|Company=Delta, Strike=False, Bad Weather=False)=0.13\n",
      "P(Problems=None|Company=Delta, Strike=False, Bad Weather=False)=0.65\n",
      "P(Problems=Complaints|Company=Southwest, Strike=False, Bad Weather=False)=0.1\n",
      "P(Problems=Customer Service|Company=Southwest, Strike=False, Bad Weather=False)=0.25\n",
      "P(Problems=Delay|Company=Southwest, Strike=False, Bad Weather=False)=0.07\n",
      "P(Problems=None|Company=Southwest, Strike=False, Bad Weather=False)=0.58\n",
      "P(Problems=Complaints|Company=US Airways, Strike=False, Bad Weather=False)=0.13\n",
      "P(Problems=Customer Service|Company=US Airways, Strike=False, Bad Weather=False)=0.39\n",
      "P(Problems=Delay|Company=US Airways, Strike=False, Bad Weather=False)=0.17\n",
      "P(Problems=None|Company=US Airways, Strike=False, Bad Weather=False)=0.31\n",
      "P(Problems=Complaints|Company=United, Strike=False, Bad Weather=False)=0.18\n",
      "P(Problems=Customer Service|Company=United, Strike=False, Bad Weather=False)=0.26\n",
      "P(Problems=Delay|Company=United, Strike=False, Bad Weather=False)=0.15\n",
      "P(Problems=None|Company=United, Strike=False, Bad Weather=False)=0.41\n",
      "P(Problems=Complaints|Company=Virgin America, Strike=False, Bad Weather=False)=0.07\n",
      "P(Problems=Customer Service|Company=Virgin America, Strike=False, Bad Weather=False)=0.21\n",
      "P(Problems=Delay|Company=Virgin America, Strike=False, Bad Weather=False)=0.04\n",
      "P(Problems=None|Company=Virgin America, Strike=False, Bad Weather=False)=0.68\n"
     ]
    }
   ],
   "source": [
    "airlines = np.unique(tweet_df['airline'])\n",
    "for airline in airlines:\n",
    "    for p in np.unique(tweet_df['negativereason']):\n",
    "        f_df = tweet_df[tweet_df['airline']==airline]\n",
    "        p_df = f_df[f_df['negativereason']==p]\n",
    "        print('P(Problems={}|Company={}, Strike=False, Bad Weather=False)={}'.format(p, airline, round(p_df.shape[0]/f_df.shape[0], 2)))"
   ]
  },
  {
   "cell_type": "markdown",
   "id": "1f37b789",
   "metadata": {},
   "source": [
    "So the CPT is:\n",
    "\n",
    "| Company | Strike | Bad Weather | Complaints | Customer Service | Delay | None |\n",
    "| --- | --- | --- | --- | --- | --- | --- |\n",
    "| American | False | False | 0.12 | 0.41 | 0.11 | 0.36 |\n",
    "| American | True | False | 0.12 | 0.5 | 0.3 | 0.08 |\n",
    "| American | False | True | 0.12 | 0.41 | 0.4 | 0.07 |\n",
    "| American | True | True | 0.12 | 0.4 | 0.48 | 0 |\n",
    "| Delta | False | False | 0.09 | 0.13 | 0.13 | 0.65 |\n",
    "| Delta | True | False | 0.09 | 0.25 | 0.2 | 0.46 |\n",
    "| Delta | False | True | 0.09 | 0.13 | 0.3 | 0.48 |\n",
    "| Delta | True | True | 0.09 | 0.35 | 0.4 | 0.16 |\n",
    "| Southwest | False | False | 0.1 | 0.25 | 0.07 | 0.58 |\n",
    "| Southwest | True | False | 0.1 | 0.35 | 0.15 | 0.4 |\n",
    "| Southwest | False | True | 0.1 | 0.25 | 0.3 | 0.35 |\n",
    "| Southwest | True | True | 0.1 | 0.4 | 0.35 | 0.15 |\n",
    "| US Airways | False | False | 0.13 | 0.39 | 0.17 | 0.31 |\n",
    "| US Airways | True | False | 0.13 | 0.5 | 0.2 | 0.17 |\n",
    "| US Airways | False | True | 0.13 | 0.39 | 0.3 | 0.18 |\n",
    "| US Airways | True | True | 0.13 | 0.5 | 0.33 | 0.04 |\n",
    "| United | False | False | 0.18 | 0.26 | 0.15 | 0.41 |\n",
    "| United | True | False | 0.18 | 0.37 | 0.22 | 0.23 |\n",
    "| United | False | True | 0.18 | 0.26 | 0.3 | 0.26 |\n",
    "| United | True | True | 0.18 | 0.4 | 0.37 | 0.05 |\n",
    "| Virgin America | False | False | 0.07 | 0.21 | 0.04 | 0.78 |\n",
    "| Virgin America | True | False | 0.07 | 0.32 | 0.1 | 0.51 |\n",
    "| Virgin America | False | True | 0.07 | 0.21 | 0.22 | 0.5 |\n",
    "| Virgin America | True | True | 0.07 | 0.4 | 0.3 | 0.23 |\n",
    "\n",
    "As a reminder, the fields where Strike or Bad Weather are True are invented, and as a lower bound I used the probabilities when they are both False (computed from the dataset)."
   ]
  },
  {
   "cell_type": "markdown",
   "id": "0d84583e",
   "metadata": {},
   "source": [
    "### 3.6. Probability of Sentiment given Problems <a class=\"anchor\" id=\"CP-6\"></a> [[jump to pgmpy implementation]](#PI-8)\n",
    "\n",
    "Computable directly from the dataset. Let's dive into it:"
   ]
  },
  {
   "cell_type": "code",
   "execution_count": 16,
   "id": "737ccdea",
   "metadata": {},
   "outputs": [
    {
     "name": "stdout",
     "output_type": "stream",
     "text": [
      "P(Sentiment=negative|Complaints=True)=1.0\n",
      "P(Sentiment=negative|Customer Service=True)=1.0\n",
      "P(Sentiment=negative|Delay=True)=1.0\n",
      "P(Sentiment=negative|None=True)=0.18\n",
      "P(Sentiment=neutral|Complaints=True)=0.0\n",
      "P(Sentiment=neutral|Customer Service=True)=0.0\n",
      "P(Sentiment=neutral|Delay=True)=0.0\n",
      "P(Sentiment=neutral|None=True)=0.47\n",
      "P(Sentiment=positive|Complaints=True)=0.0\n",
      "P(Sentiment=positive|Customer Service=True)=0.0\n",
      "P(Sentiment=positive|Delay=True)=0.0\n",
      "P(Sentiment=positive|None=True)=0.36\n"
     ]
    }
   ],
   "source": [
    "sentiments = np.unique(tweet_df['airline_sentiment'])\n",
    "negreason = list(np.unique(tweet_df['negativereason']))\n",
    "for sentiment in sentiments:\n",
    "    for reason in negreason:\n",
    "        n_df = tweet_df[tweet_df['negativereason']==reason]\n",
    "        s_df = n_df[n_df['airline_sentiment']==sentiment]\n",
    "        print('P(Sentiment={}|{}=True)={}'.format(sentiment, reason, round(s_df.shape[0]/n_df.shape[0] ,2)))"
   ]
  },
  {
   "cell_type": "markdown",
   "id": "0193f48f",
   "metadata": {},
   "source": [
    "As we can see, every time a negative reason is not None, the sentiment is 100% negative.\n",
    "On the other hand even if there is no evident reason, a tweet can still be labelled as negative. \n",
    "This brings us to the following CPT:\n",
    "\n",
    "| Problems | Sentiment = Negative | Sentiment = Neutral | Sentiment = Positive |\n",
    "| --- | --- | --- | --- |\n",
    "| Complaints | 1 | 0 | 0 |\n",
    "| Customer Service | 1 | 0 | 0 |\n",
    "| Delays | 1 | 0 | 0 |\n",
    "| None | 0.18 | 0.47 | 0.36 |"
   ]
  },
  {
   "cell_type": "markdown",
   "id": "24876d37",
   "metadata": {},
   "source": [
    "### 3.7. Probability of Tweet Time <a class=\"anchor\" id=\"CP-7\"></a>[[jump to pgmpy implementation]](#PI-9)\n",
    "\n",
    "Let's extract from the dataset the probability of Tweet Time:"
   ]
  },
  {
   "cell_type": "code",
   "execution_count": 17,
   "id": "cb44c780",
   "metadata": {
    "scrolled": true
   },
   "outputs": [
    {
     "name": "stdout",
     "output_type": "stream",
     "text": [
      "P(Evening)=0.2\n",
      "P(Morning)=0.36\n",
      "P(Night)=0.1\n",
      "P(Noon)=0.34\n"
     ]
    }
   ],
   "source": [
    "time = np.unique(tweet_df['tweet_created'])\n",
    "for t in time:\n",
    "    ti_df = tweet_df[tweet_df['tweet_created']==t]\n",
    "    print('P({})={}'.format(t, round(ti_df.shape[0]/tweet_df.shape[0] ,2)))"
   ]
  },
  {
   "cell_type": "markdown",
   "id": "acecc906",
   "metadata": {},
   "source": [
    "The probability table will be:\n",
    "\n",
    "|| Morning | Evening | Night | Noon |\n",
    "| --- | --- | --- | --- | --- |\n",
    "|| 0.36 | 0.2 | 0.34 | 0.1 |"
   ]
  },
  {
   "cell_type": "markdown",
   "id": "b88e9957",
   "metadata": {},
   "source": [
    "### 3.8. Probabilty of Retweet given Time and Sentiment <a class=\"anchor\" id=\"CP-8\"></a> [[jump to pgmpy implementation]](#PI-10)\n",
    "\n",
    "This information can be computed directly from the dataset, so let's compute it:"
   ]
  },
  {
   "cell_type": "code",
   "execution_count": 18,
   "id": "dbae136a",
   "metadata": {},
   "outputs": [
    {
     "name": "stdout",
     "output_type": "stream",
     "text": [
      "P(Retweet=True|Sentiment=negative, Time=Evening)=0.08\n",
      "P(Retweet=True|Sentiment=negative, Time=Morning)=0.05\n",
      "P(Retweet=True|Sentiment=negative, Time=Night)=0.04\n",
      "P(Retweet=True|Sentiment=negative, Time=Noon)=0.07\n",
      "P(Retweet=True|Sentiment=neutral, Time=Evening)=0.03\n",
      "P(Retweet=True|Sentiment=neutral, Time=Morning)=0.03\n",
      "P(Retweet=True|Sentiment=neutral, Time=Night)=0.02\n",
      "P(Retweet=True|Sentiment=neutral, Time=Noon)=0.04\n",
      "P(Retweet=True|Sentiment=positive, Time=Evening)=0.03\n",
      "P(Retweet=True|Sentiment=positive, Time=Morning)=0.03\n",
      "P(Retweet=True|Sentiment=positive, Time=Night)=0.02\n",
      "P(Retweet=True|Sentiment=positive, Time=Noon)=0.04\n"
     ]
    }
   ],
   "source": [
    "sentiments = np.unique(tweet_df['airline_sentiment'])\n",
    "time = np.unique(tweet_df['tweet_created'])\n",
    "for s in sentiments:\n",
    "    for t in time:\n",
    "        f_df = tweet_df[(tweet_df['tweet_created']==t) & (tweet_df['airline_sentiment']==s)]\n",
    "        r_df = f_df[f_df['retweet_count']=='True']\n",
    "        print('P(Retweet=True|Sentiment={}, Time={})={}'.format(s, t, round(r_df.shape[0]/f_df.shape[0], 2)))"
   ]
  },
  {
   "cell_type": "markdown",
   "id": "e25cfaa4",
   "metadata": {},
   "source": [
    "It seems that, even if it's fairly unlikely that a tweet has retweets, it's a bit more likely that negative tweets get retweeted more often than positive or neutral tweets. Furthermore it's seems that tweets that get retweeted are posted during the evening or during the morning.\n",
    "The CPT is:\n",
    "\n",
    "| Sentiment | Time | Retweet |\n",
    "| --- | --- | --- |\n",
    "| Negative | Evening | 0.08 |\n",
    "| Negative | Morning | 0.05 |\n",
    "| Negative | Night | 0.04 |\n",
    "| Negative | Noon | 0.07 |\n",
    "| Neutral | Evening | 0.03 |\n",
    "| Neutral | Morning | 0.03 |\n",
    "| Neutral | Night | 0.02 |\n",
    "| Neutral| Noon | 0.04 |\n",
    "| Positive | Evening | 0.03 |\n",
    "| Positive | Morning | 0.03 |\n",
    "| Positive | Night | 0.02 |\n",
    "| Positive | Noon | 0.04 |"
   ]
  },
  {
   "cell_type": "markdown",
   "id": "6c22061c",
   "metadata": {},
   "source": [
    "### 3.9. Probability of Length given Sentiment <a class=\"anchor\" id=\"CP-9\"></a> [[jump to pgmpy implementation]](#PI-11)\n",
    "\n",
    "Let's compute it directly from the dataset:"
   ]
  },
  {
   "cell_type": "code",
   "execution_count": 19,
   "id": "cec2b57a",
   "metadata": {},
   "outputs": [
    {
     "name": "stdout",
     "output_type": "stream",
     "text": [
      "P(Length=Long|Sentiment=negative)=0.64\n",
      "P(Length=Long|Sentiment=neutral)=0.33\n",
      "P(Length=Long|Sentiment=positive)=0.34\n",
      "P(Length=Medium|Sentiment=negative)=0.29\n",
      "P(Length=Medium|Sentiment=neutral)=0.44\n",
      "P(Length=Medium|Sentiment=positive)=0.4\n",
      "P(Length=Short|Sentiment=negative)=0.06\n",
      "P(Length=Short|Sentiment=neutral)=0.23\n",
      "P(Length=Short|Sentiment=positive)=0.26\n"
     ]
    }
   ],
   "source": [
    "length = np.unique(tweet_df['tweet_length'])\n",
    "for l in length:\n",
    "    for s in sentiments:\n",
    "        f_df = tweet_df[tweet_df['airline_sentiment']==s]\n",
    "        l_df = f_df[f_df['tweet_length']==l]\n",
    "        print('P(Length={}|Sentiment={})={}'.format(l, s, round(l_df.shape[0]/f_df.shape[0], 2)))"
   ]
  },
  {
   "cell_type": "markdown",
   "id": "591dadc9",
   "metadata": {},
   "source": [
    "Thus we obtain the following CPT:\n",
    "\n",
    "| Sentiment | Length = Long | Length = Medium | Length = Short |\n",
    "| --- | --- | --- | --- |\n",
    "| Negative | 0.64 | 0.29 | 0.06 |\n",
    "| Neutral | 0.33 | 0.44 | 0.23 |\n",
    "| Positive | 0.34 | 0.4 | 0.26 |\n",
    "\n",
    "It seems that a long tweet is likely to be a negative one, while a short one is likely to be neutral or positive."
   ]
  },
  {
   "cell_type": "markdown",
   "id": "f9db6df2",
   "metadata": {},
   "source": [
    "### 3.10. Probability of Flight, Thank and Cancelled given the Sentiment <a class=\"anchor\" id=\"CP-10\"></a> [[jump to pgmpy implementation]](#PI-12)\n",
    "\n",
    "Also this information can be retrieved directly from the dataset:"
   ]
  },
  {
   "cell_type": "code",
   "execution_count": 20,
   "id": "2f7e37ab",
   "metadata": {},
   "outputs": [
    {
     "name": "stdout",
     "output_type": "stream",
     "text": [
      "P(flight|negative)=0.34\n",
      "P(flight|neutral)=0.24\n",
      "P(flight|positive)=0.18\n",
      "P(thank|negative)=0.04\n",
      "P(thank|neutral)=0.07\n",
      "P(thank|positive)=0.45\n",
      "P(cancelled|negative)=0.1\n",
      "P(cancelled|neutral)=0.03\n",
      "P(cancelled|positive)=0.02\n"
     ]
    }
   ],
   "source": [
    "for word in interesting_words:\n",
    "    for s in sentiments:\n",
    "        f_df = tweet_df[tweet_df['airline_sentiment']==s]\n",
    "        w_df = f_df[f_df['text'].str.contains(word, case=False)]\n",
    "        print('P({}|{})={}'.format(word, s, round(w_df.shape[0]/f_df.shape[0] ,2)))"
   ]
  },
  {
   "cell_type": "markdown",
   "id": "15f57305",
   "metadata": {},
   "source": [
    "So the CPTs are:\n",
    "\n",
    "| Sentiment | Flight |\n",
    "| --- | --- |\n",
    "| Negative | 0.34 |\n",
    "| Neutral | 0.24 |\n",
    "| Positive | 0.18 |\n",
    "\n",
    "| Sentiment | Thank |\n",
    "| --- | --- |\n",
    "| Negative | 0.04 |\n",
    "| Neutral | 0.07 |\n",
    "| Positive | 0.45 |\n",
    "\n",
    "| Sentiment | Cancelled |\n",
    "| --- | --- |\n",
    "| Negative | 0.1 |\n",
    "| Neutral | 0.03 |\n",
    "| Positive | 0.02 |"
   ]
  },
  {
   "cell_type": "markdown",
   "id": "741a174e",
   "metadata": {},
   "source": [
    "### 3.11. Probability of Confidence given Flight, Cancelled and Thank <a class=\"anchor\" id=\"CP-11\"></a> [[jump to pgmpy implementation]](#PI-13)\n",
    "\n",
    "This is a probability computable directly from the dataset, let's do it!"
   ]
  },
  {
   "cell_type": "code",
   "execution_count": 21,
   "id": "17e59317",
   "metadata": {},
   "outputs": [
    {
     "name": "stdout",
     "output_type": "stream",
     "text": [
      "P(High|flight=False, thank=False, cancelled=False)=0.7\n",
      "P(High|flight=True, thank=False, cancelled=False)=0.75\n",
      "P(High|flight=False, thank=True, cancelled=False)=0.65\n",
      "P(High|flight=False, thank=False, cancelled=True)=0\n",
      "P(High|flight=True, thank=True, cancelled=False)=0.71\n",
      "P(High|flight=False, thank=True, cancelled=True)=0\n",
      "P(High|flight=True, thank=False, cancelled=True)=0.82\n",
      "P(High|flight=True, thank=True, cancelled=True)=0.69\n"
     ]
    }
   ],
   "source": [
    "# Each element of assign list is a triple of the form (bool, bool, bool).\n",
    "# If the bool at index I is True, that means that interesting_words[I] must be present in the text\n",
    "# So assign_list is a list of masks! The first element filters for all the texts in which none of the target words are present\n",
    "# And so on...\n",
    "\n",
    "assign_list = [(False, False, False),\n",
    "               (True, False, False),\n",
    "               (False, True, False),\n",
    "               (False, False, True),\n",
    "               (True, True, False),\n",
    "               (False, True, True),\n",
    "               (True, False, True),\n",
    "               (True, True, True)]\n",
    "for fil in assign_list:\n",
    "    # Apply filter fil\n",
    "    f_df = f_df = tweet_df[(tweet_df['text'].str.contains(interesting_words[0], case=False)==fil[0]) & \n",
    "                 (tweet_df['text'].str.contains(interesting_words[1], case=False)==fil[1]) & \n",
    "                 (tweet_df['text'].str.contains(interesting_words[2], case=False)==fil[2])]\n",
    "    # Check the number of high confidence\n",
    "    c_df = f_df[f_df['airline_sentiment_confidence']=='High']\n",
    "    # Compute probability only if f_df has elements in it, otherwise return 0\n",
    "    if f_df.shape[0] != 0:\n",
    "        prob = round(c_df.shape[0]/f_df.shape[0] ,2)\n",
    "    else:\n",
    "        prob = 0\n",
    "    print('P(High|{}={}, {}={}, {}={})={}'.format(interesting_words[0], fil[0],\n",
    "                                                  interesting_words[1], fil[1],\n",
    "                                                  interesting_words[2], fil[2],\n",
    "                                                  prob))"
   ]
  },
  {
   "cell_type": "markdown",
   "id": "d2801627",
   "metadata": {},
   "source": [
    "So our CPT is:\n",
    "\n",
    "| Flight | Thank | Cancelled | Confidence=High |\n",
    "| --- | --- | --- | --- |\n",
    "| False | False | False | 0.7 |\n",
    "| True | False | False | 0.75 |\n",
    "| False | True | False | 0.65 |\n",
    "| False | False | True | 0 |\n",
    "| True | True | False | 0.71 |\n",
    "| False | True | True | 0 |\n",
    "| True | False | True | 0.82 |\n",
    "| True | True | True | 0.69 |"
   ]
  },
  {
   "cell_type": "markdown",
   "id": "c3b4bce2",
   "metadata": {},
   "source": [
    "## 4. Pgmpy Implementation  <a class=\"anchor\" id=\"PI\"></a>"
   ]
  },
  {
   "cell_type": "markdown",
   "id": "b4efc3c8",
   "metadata": {},
   "source": [
    "### 4.1. Installation and imports  <a class=\"anchor\" id=\"PI-1\"></a>\n",
    "\n",
    "First thing first, we need to install pgmpy and import the features that we'll need:"
   ]
  },
  {
   "cell_type": "code",
   "execution_count": 22,
   "id": "e577ce2e",
   "metadata": {},
   "outputs": [
    {
     "name": "stdout",
     "output_type": "stream",
     "text": [
      "Requirement already satisfied: pgmpy in c:\\users\\eugen\\anaconda3\\lib\\site-packages (0.1.17)\n",
      "Requirement already satisfied: numpy in c:\\users\\eugen\\anaconda3\\lib\\site-packages (from pgmpy) (1.21.2)\n",
      "Requirement already satisfied: joblib in c:\\users\\eugen\\anaconda3\\lib\\site-packages (from pgmpy) (1.1.0)\n",
      "Requirement already satisfied: scipy in c:\\users\\eugen\\anaconda3\\lib\\site-packages (from pgmpy) (1.7.1)\n",
      "Requirement already satisfied: pyparsing in c:\\users\\eugen\\anaconda3\\lib\\site-packages (from pgmpy) (3.0.4)\n",
      "Requirement already satisfied: scikit-learn in c:\\users\\eugen\\anaconda3\\lib\\site-packages (from pgmpy) (1.0.1)\n",
      "Requirement already satisfied: pandas in c:\\users\\eugen\\anaconda3\\lib\\site-packages (from pgmpy) (1.3.4)\n",
      "Requirement already satisfied: tqdm in c:\\users\\eugen\\anaconda3\\lib\\site-packages (from pgmpy) (4.62.3)\n",
      "Requirement already satisfied: statsmodels in c:\\users\\eugen\\anaconda3\\lib\\site-packages (from pgmpy) (0.13.0)\n",
      "Requirement already satisfied: torch in c:\\users\\eugen\\anaconda3\\lib\\site-packages (from pgmpy) (1.10.2)\n",
      "Requirement already satisfied: networkx in c:\\users\\eugen\\anaconda3\\lib\\site-packages (from pgmpy) (2.6.3)\n",
      "Requirement already satisfied: python-dateutil>=2.7.3 in c:\\users\\eugen\\anaconda3\\lib\\site-packages (from pandas->pgmpy) (2.8.2)\n",
      "Requirement already satisfied: pytz>=2017.3 in c:\\users\\eugen\\anaconda3\\lib\\site-packages (from pandas->pgmpy) (2021.3)\n",
      "Requirement already satisfied: six>=1.5 in c:\\users\\eugen\\anaconda3\\lib\\site-packages (from python-dateutil>=2.7.3->pandas->pgmpy) (1.16.0)\n",
      "Requirement already satisfied: threadpoolctl>=2.0.0 in c:\\users\\eugen\\anaconda3\\lib\\site-packages (from scikit-learn->pgmpy) (2.2.0)\n",
      "Requirement already satisfied: patsy>=0.5.2 in c:\\users\\eugen\\anaconda3\\lib\\site-packages (from statsmodels->pgmpy) (0.5.2)\n",
      "Requirement already satisfied: typing-extensions in c:\\users\\eugen\\anaconda3\\lib\\site-packages (from torch->pgmpy) (3.10.0.2)\n",
      "Requirement already satisfied: colorama in c:\\users\\eugen\\anaconda3\\lib\\site-packages (from tqdm->pgmpy) (0.4.4)\n"
     ]
    }
   ],
   "source": [
    "!pip install pgmpy\n",
    "from pgmpy.models import BayesianNetwork\n",
    "from pgmpy.factors.discrete import TabularCPD\n",
    "from pgmpy.inference import VariableElimination"
   ]
  },
  {
   "cell_type": "markdown",
   "id": "af24b44d",
   "metadata": {},
   "source": [
    "### 4.2. Implementing the network's structure <a class=\"anchor\" id=\"PI-2\"></a>\n",
    "\n",
    "First step, let's define the structure of the model."
   ]
  },
  {
   "cell_type": "code",
   "execution_count": 23,
   "id": "039cd964",
   "metadata": {},
   "outputs": [],
   "source": [
    "airline_model = BayesianNetwork([('City', 'Bad Weather'), \n",
    "                                 ('Bad Weather', 'Problems'),\n",
    "                                 ('Company', 'Problems'),\n",
    "                                 ('Strike', 'Problems'),\n",
    "                                 ('Problems', 'Sentiment'),\n",
    "                                 ('Sentiment', 'Retweets'),\n",
    "                                 ('Tweet Time', 'Retweets'),\n",
    "                                 ('Sentiment', 'Tweet Length'),\n",
    "                                 ('Sentiment', 'Flight'),\n",
    "                                 ('Sentiment', 'Thank'),\n",
    "                                 ('Sentiment', 'Cancelled'),\n",
    "                                 ('Flight', 'Confidence'),\n",
    "                                 ('Thank', 'Confidence'),\n",
    "                                 ('Cancelled', 'Confidence')])"
   ]
  },
  {
   "cell_type": "markdown",
   "id": "b037d354",
   "metadata": {},
   "source": [
    "### 4.3. The Company Table <a class=\"anchor\" id=\"PI-3\"></a> [[jump to table]](#CP-1)"
   ]
  },
  {
   "cell_type": "code",
   "execution_count": 24,
   "id": "82562c49",
   "metadata": {},
   "outputs": [
    {
     "name": "stdout",
     "output_type": "stream",
     "text": [
      "+------------+------+\n",
      "| Company(0) | 0.19 |\n",
      "+------------+------+\n",
      "| Company(1) | 0.15 |\n",
      "+------------+------+\n",
      "| Company(2) | 0.17 |\n",
      "+------------+------+\n",
      "| Company(3) | 0.2  |\n",
      "+------------+------+\n",
      "| Company(4) | 0.26 |\n",
      "+------------+------+\n",
      "| Company(5) | 0.03 |\n",
      "+------------+------+\n"
     ]
    }
   ],
   "source": [
    "company_cpd=TabularCPD('Company', 6, [[.19], [.15], [.17], [.2], [.26], [.03]])\n",
    "print(company_cpd)"
   ]
  },
  {
   "cell_type": "markdown",
   "id": "e7981e80",
   "metadata": {},
   "source": [
    "### 4.4. The Strike Table <a class=\"anchor\" id=\"PI-4\"></a> [[jump to table]](#CP-2)"
   ]
  },
  {
   "cell_type": "code",
   "execution_count": 25,
   "id": "db94a2b8",
   "metadata": {},
   "outputs": [
    {
     "name": "stdout",
     "output_type": "stream",
     "text": [
      "+-----------+------+\n",
      "| Strike(0) | 0.99 |\n",
      "+-----------+------+\n",
      "| Strike(1) | 0.01 |\n",
      "+-----------+------+\n"
     ]
    }
   ],
   "source": [
    "strike_cpd=TabularCPD('Strike', 2, [[.99], [.01]])\n",
    "print(strike_cpd)"
   ]
  },
  {
   "cell_type": "markdown",
   "id": "a648fc03",
   "metadata": {},
   "source": [
    "### 4.5. The City Table <a class=\"anchor\" id=\"PI-5\"></a> [[jump to table]](#CP-3)"
   ]
  },
  {
   "cell_type": "code",
   "execution_count": 26,
   "id": "7f4dd7f1",
   "metadata": {},
   "outputs": [
    {
     "name": "stdout",
     "output_type": "stream",
     "text": [
      "+---------+------+\n",
      "| City(0) | 0.45 |\n",
      "+---------+------+\n",
      "| City(1) | 0.35 |\n",
      "+---------+------+\n",
      "| City(2) | 0.2  |\n",
      "+---------+------+\n"
     ]
    }
   ],
   "source": [
    "city_cpd=TabularCPD('City', 3, [[.45], [.35], [.2]])\n",
    "print(city_cpd)"
   ]
  },
  {
   "cell_type": "markdown",
   "id": "55d1a867",
   "metadata": {},
   "source": [
    "### 4.6. The Bad Weather Table <a class=\"anchor\" id=\"PI-6\"></a> [[jump to table]](#CP-4)"
   ]
  },
  {
   "cell_type": "code",
   "execution_count": 27,
   "id": "9e129b7a",
   "metadata": {},
   "outputs": [
    {
     "name": "stdout",
     "output_type": "stream",
     "text": [
      "+----------------+---------+---------+---------+\n",
      "| City           | City(0) | City(1) | City(2) |\n",
      "+----------------+---------+---------+---------+\n",
      "| Bad Weather(0) | 0.67    | 0.91    | 0.66    |\n",
      "+----------------+---------+---------+---------+\n",
      "| Bad Weather(1) | 0.33    | 0.09    | 0.34    |\n",
      "+----------------+---------+---------+---------+\n"
     ]
    }
   ],
   "source": [
    "bad_weather_cpd=TabularCPD('Bad Weather',\n",
    "                           2,\n",
    "                           [[.67, .91, .66],\n",
    "                            [.33, .09, .34]],\n",
    "                           evidence=['City'],\n",
    "                           evidence_card=[3])\n",
    "print(bad_weather_cpd)"
   ]
  },
  {
   "cell_type": "markdown",
   "id": "0a0eb50f",
   "metadata": {},
   "source": [
    "### 4.7. The Problems Table <a class=\"anchor\" id=\"PI-7\"></a> [[jump to table]](#CP-5)"
   ]
  },
  {
   "cell_type": "code",
   "execution_count": 28,
   "id": "1037340d",
   "metadata": {},
   "outputs": [
    {
     "name": "stdout",
     "output_type": "stream",
     "text": [
      "+-------------+----------------+----------------+-----+----------------+----------------+----------------+\n",
      "| Company     | Company(0)     | Company(0)     | ... | Company(5)     | Company(5)     | Company(5)     |\n",
      "+-------------+----------------+----------------+-----+----------------+----------------+----------------+\n",
      "| Bad Weather | Bad Weather(0) | Bad Weather(0) | ... | Bad Weather(0) | Bad Weather(1) | Bad Weather(1) |\n",
      "+-------------+----------------+----------------+-----+----------------+----------------+----------------+\n",
      "| Strike      | Strike(0)      | Strike(1)      | ... | Strike(1)      | Strike(0)      | Strike(1)      |\n",
      "+-------------+----------------+----------------+-----+----------------+----------------+----------------+\n",
      "| Problems(0) | 0.12           | 0.12           | ... | 0.07           | 0.07           | 0.07           |\n",
      "+-------------+----------------+----------------+-----+----------------+----------------+----------------+\n",
      "| Problems(1) | 0.4            | 0.5            | ... | 0.32           | 0.21           | 0.4            |\n",
      "+-------------+----------------+----------------+-----+----------------+----------------+----------------+\n",
      "| Problems(2) | 0.12           | 0.3            | ... | 0.1            | 0.22           | 0.3            |\n",
      "+-------------+----------------+----------------+-----+----------------+----------------+----------------+\n",
      "| Problems(3) | 0.36           | 0.08           | ... | 0.51           | 0.5            | 0.23           |\n",
      "+-------------+----------------+----------------+-----+----------------+----------------+----------------+\n"
     ]
    }
   ],
   "source": [
    "problems_cpd=TabularCPD('Problems',\n",
    "                         4,\n",
    "                         [[.12, .12, .12, .12, .09, .09, .09, .09, .1, .1, .1, .1, .13, .13, .13, .13, .18, .18, .18, .18, .07, .07, .07, .07], \n",
    "                          [.40, .5, .41, .4, .13, .25, .13, .35, .25, .35, .25, .4, .39, .5, .39, .5, .26, .37, .26, .4, .21, .32, .21, .4], \n",
    "                          [.12, .3, .4, .48, .13, .2, .3, .4, .07, .15, .3, .35, .17,.2, .3, .33, .15, .22, .3, .37, .04, .1, .22, .3], \n",
    "                          [.36, .08, .07, 0, .65, .46, .48, .16, .58, .4, .35, .15, .31, .17, .18, .04, .41, .23, .26, .05, .68, .51, .5, .23]],\n",
    "                           evidence=['Company', 'Bad Weather', 'Strike'],\n",
    "                           evidence_card=[6, 2, 2])\n",
    "print(problems_cpd)"
   ]
  },
  {
   "cell_type": "markdown",
   "id": "14f28536",
   "metadata": {},
   "source": [
    "### 4.8. The Sentiment Table <a class=\"anchor\" id=\"PI-8\"></a> [[jump to table]](#CP-6)"
   ]
  },
  {
   "cell_type": "code",
   "execution_count": 29,
   "id": "a8698e24",
   "metadata": {},
   "outputs": [
    {
     "name": "stdout",
     "output_type": "stream",
     "text": [
      "+--------------+-------------+-------------+-------------+-------------+\n",
      "| Problems     | Problems(0) | Problems(1) | Problems(2) | Problems(3) |\n",
      "+--------------+-------------+-------------+-------------+-------------+\n",
      "| Sentiment(0) | 1.0         | 1.0         | 1.0         | 0.18        |\n",
      "+--------------+-------------+-------------+-------------+-------------+\n",
      "| Sentiment(1) | 0.0         | 0.0         | 0.0         | 0.47        |\n",
      "+--------------+-------------+-------------+-------------+-------------+\n",
      "| Sentiment(2) | 0.0         | 0.0         | 0.0         | 0.36        |\n",
      "+--------------+-------------+-------------+-------------+-------------+\n"
     ]
    }
   ],
   "source": [
    "sentiment_cpd=TabularCPD('Sentiment',\n",
    "                           3,\n",
    "                           [[1, 1, 1, .18], [0, 0, 0, .47], [0, 0, 0, .36]],\n",
    "                           evidence=['Problems'],\n",
    "                           evidence_card=[4])\n",
    "print(sentiment_cpd)"
   ]
  },
  {
   "cell_type": "markdown",
   "id": "0c657e0f",
   "metadata": {},
   "source": [
    "### 4.9. The Tweet Time Table <a class=\"anchor\" id=\"PI-9\"></a> [[jump to table]](#CP-7)"
   ]
  },
  {
   "cell_type": "code",
   "execution_count": 30,
   "id": "7fb2f984",
   "metadata": {},
   "outputs": [
    {
     "name": "stdout",
     "output_type": "stream",
     "text": [
      "+---------------+------+\n",
      "| Tweet Time(0) | 0.36 |\n",
      "+---------------+------+\n",
      "| Tweet Time(1) | 0.1  |\n",
      "+---------------+------+\n",
      "| Tweet Time(2) | 0.2  |\n",
      "+---------------+------+\n",
      "| Tweet Time(3) | 0.34 |\n",
      "+---------------+------+\n"
     ]
    }
   ],
   "source": [
    "ttime_cpd=TabularCPD('Tweet Time', 4, [[.36], [.1], [.2], [.34]])\n",
    "print(ttime_cpd)"
   ]
  },
  {
   "cell_type": "markdown",
   "id": "f5b6b52c",
   "metadata": {},
   "source": [
    "### 4.10. The Retweet Table <a class=\"anchor\" id=\"PI-10\"></a> [[jump to table]](#CP-8)"
   ]
  },
  {
   "cell_type": "code",
   "execution_count": 31,
   "id": "18c13e39",
   "metadata": {},
   "outputs": [
    {
     "name": "stdout",
     "output_type": "stream",
     "text": [
      "+-------------+---------------+---------------+-----+---------------+---------------+---------------+\n",
      "| Sentiment   | Sentiment(0)  | Sentiment(0)  | ... | Sentiment(2)  | Sentiment(2)  | Sentiment(2)  |\n",
      "+-------------+---------------+---------------+-----+---------------+---------------+---------------+\n",
      "| Tweet Time  | Tweet Time(0) | Tweet Time(1) | ... | Tweet Time(1) | Tweet Time(2) | Tweet Time(3) |\n",
      "+-------------+---------------+---------------+-----+---------------+---------------+---------------+\n",
      "| Retweets(0) | 0.95          | 0.93          | ... | 0.96          | 0.97          | 0.98          |\n",
      "+-------------+---------------+---------------+-----+---------------+---------------+---------------+\n",
      "| Retweets(1) | 0.05          | 0.07          | ... | 0.04          | 0.03          | 0.02          |\n",
      "+-------------+---------------+---------------+-----+---------------+---------------+---------------+\n"
     ]
    }
   ],
   "source": [
    "retweet_cpd=TabularCPD('Retweets', \n",
    "                       2, \n",
    "                       [[.95, .93, .92, .96, .97, .96, .97, .98, .97, .96, .97, .98],\n",
    "                        [.05, .07, .08, .04, .03, .04, .03, .02, .03, .04, .03, .02]],\n",
    "                       evidence=['Sentiment', 'Tweet Time'],\n",
    "                       evidence_card=[3, 4])\n",
    "print(retweet_cpd)"
   ]
  },
  {
   "cell_type": "markdown",
   "id": "e1e69799",
   "metadata": {},
   "source": [
    "### 4.11. The Length Table <a class=\"anchor\" id=\"PI-11\"></a> [[jump to table]](#CP-9)"
   ]
  },
  {
   "cell_type": "code",
   "execution_count": 32,
   "id": "979042ae",
   "metadata": {},
   "outputs": [
    {
     "name": "stdout",
     "output_type": "stream",
     "text": [
      "+-----------------+--------------+--------------+--------------+\n",
      "| Sentiment       | Sentiment(0) | Sentiment(1) | Sentiment(2) |\n",
      "+-----------------+--------------+--------------+--------------+\n",
      "| Tweet Length(0) | 0.64         | 0.33         | 0.34         |\n",
      "+-----------------+--------------+--------------+--------------+\n",
      "| Tweet Length(1) | 0.29         | 0.44         | 0.4          |\n",
      "+-----------------+--------------+--------------+--------------+\n",
      "| Tweet Length(2) | 0.06         | 0.23         | 0.26         |\n",
      "+-----------------+--------------+--------------+--------------+\n"
     ]
    }
   ],
   "source": [
    "length_cpd=TabularCPD('Tweet Length', \n",
    "                       3, \n",
    "                       [[.64, .33, .34], \n",
    "                        [.29, .44, .4],\n",
    "                        [.06, .23, .26]],\n",
    "                       evidence=['Sentiment'],\n",
    "                       evidence_card=[3])\n",
    "print(length_cpd)"
   ]
  },
  {
   "cell_type": "markdown",
   "id": "2e23e1a2",
   "metadata": {},
   "source": [
    "### 4.12. The Flight, Thank and Cancelled Tables <a class=\"anchor\" id=\"PI-12\"></a> [[jump to table]](#CP-10)"
   ]
  },
  {
   "cell_type": "code",
   "execution_count": 33,
   "id": "b28acfa5",
   "metadata": {},
   "outputs": [
    {
     "name": "stdout",
     "output_type": "stream",
     "text": [
      "+-----------+--------------+--------------+--------------+\n",
      "| Sentiment | Sentiment(0) | Sentiment(1) | Sentiment(2) |\n",
      "+-----------+--------------+--------------+--------------+\n",
      "| Flight(0) | 0.66         | 0.76         | 0.82         |\n",
      "+-----------+--------------+--------------+--------------+\n",
      "| Flight(1) | 0.34         | 0.24         | 0.18         |\n",
      "+-----------+--------------+--------------+--------------+\n",
      "+-----------+--------------+--------------+--------------+\n",
      "| Sentiment | Sentiment(0) | Sentiment(1) | Sentiment(2) |\n",
      "+-----------+--------------+--------------+--------------+\n",
      "| Thank(0)  | 0.96         | 0.93         | 0.55         |\n",
      "+-----------+--------------+--------------+--------------+\n",
      "| Thank(1)  | 0.04         | 0.07         | 0.45         |\n",
      "+-----------+--------------+--------------+--------------+\n",
      "+--------------+--------------+--------------+--------------+\n",
      "| Sentiment    | Sentiment(0) | Sentiment(1) | Sentiment(2) |\n",
      "+--------------+--------------+--------------+--------------+\n",
      "| Cancelled(0) | 0.9          | 0.97         | 0.98         |\n",
      "+--------------+--------------+--------------+--------------+\n",
      "| Cancelled(1) | 0.1          | 0.03         | 0.02         |\n",
      "+--------------+--------------+--------------+--------------+\n"
     ]
    }
   ],
   "source": [
    "flight_cpd=TabularCPD('Flight', \n",
    "                       2, \n",
    "                       [[.66, .76, .82],\n",
    "                        [.34, .24, .18]],\n",
    "                       evidence=['Sentiment'],\n",
    "                       evidence_card=[3])\n",
    "thank_cpd=TabularCPD('Thank', \n",
    "                      2, \n",
    "                      [[.96, .93, .55],\n",
    "                       [.04, .07, .45]],\n",
    "                      evidence=['Sentiment'],\n",
    "                      evidence_card=[3])\n",
    "cancelled_cpd=TabularCPD('Cancelled', \n",
    "                         2, \n",
    "                         [[.9, .97, .98],\n",
    "                          [.1, .03, .02]],\n",
    "                         evidence=['Sentiment'],\n",
    "                         evidence_card=[3])\n",
    "print(flight_cpd)\n",
    "print(thank_cpd)\n",
    "print(cancelled_cpd)"
   ]
  },
  {
   "cell_type": "markdown",
   "id": "33faa83c",
   "metadata": {},
   "source": [
    "### 4.13. The Confidence Table <a class=\"anchor\" id=\"PI-13\"></a> [[jump to table]](#CP-11)"
   ]
  },
  {
   "cell_type": "code",
   "execution_count": 34,
   "id": "ab1b56f7",
   "metadata": {
    "scrolled": false
   },
   "outputs": [
    {
     "name": "stdout",
     "output_type": "stream",
     "text": [
      "+---------------+--------------+--------------+-----+--------------+--------------+--------------+\n",
      "| Flight        | Flight(0)    | Flight(0)    | ... | Flight(1)    | Flight(1)    | Flight(1)    |\n",
      "+---------------+--------------+--------------+-----+--------------+--------------+--------------+\n",
      "| Thank         | Thank(0)     | Thank(0)     | ... | Thank(0)     | Thank(1)     | Thank(1)     |\n",
      "+---------------+--------------+--------------+-----+--------------+--------------+--------------+\n",
      "| Cancelled     | Cancelled(0) | Cancelled(1) | ... | Cancelled(1) | Cancelled(0) | Cancelled(1) |\n",
      "+---------------+--------------+--------------+-----+--------------+--------------+--------------+\n",
      "| Confidence(0) | 0.7          | 0.0          | ... | 0.82         | 0.71         | 0.69         |\n",
      "+---------------+--------------+--------------+-----+--------------+--------------+--------------+\n",
      "| Confidence(1) | 0.3          | 1.0          | ... | 0.18         | 0.29         | 0.31         |\n",
      "+---------------+--------------+--------------+-----+--------------+--------------+--------------+\n"
     ]
    }
   ],
   "source": [
    "confidence_cpd=TabularCPD('Confidence',\n",
    "                          2, \n",
    "                          [[.7, 0, .65, 0, .75, .82, .71, .69], \n",
    "                           [.3, 1, .35, 1, .25, .18, .29, .31]],\n",
    "                          evidence=['Flight', 'Thank', 'Cancelled'],\n",
    "                          evidence_card=[2, 2, 2])\n",
    "print(confidence_cpd)"
   ]
  },
  {
   "cell_type": "markdown",
   "id": "409f2e06",
   "metadata": {},
   "source": [
    "### 4.14. Building the model <a class=\"anchor\" id=\"PI-14\"></a>"
   ]
  },
  {
   "cell_type": "markdown",
   "id": "599235e8",
   "metadata": {},
   "source": [
    "First thing first, let's add all the tables to the model."
   ]
  },
  {
   "cell_type": "code",
   "execution_count": 35,
   "id": "2b2145d3",
   "metadata": {},
   "outputs": [],
   "source": [
    "airline_model.add_cpds(company_cpd,\n",
    "                       strike_cpd,\n",
    "                       city_cpd,\n",
    "                       bad_weather_cpd,\n",
    "                       problems_cpd,\n",
    "                       sentiment_cpd,\n",
    "                       ttime_cpd,\n",
    "                       retweet_cpd,\n",
    "                       length_cpd,\n",
    "                       flight_cpd,\n",
    "                       thank_cpd,\n",
    "                       cancelled_cpd,\n",
    "                       confidence_cpd)"
   ]
  },
  {
   "cell_type": "markdown",
   "id": "d2ca68a5",
   "metadata": {},
   "source": [
    "Let's check that everything is fine:"
   ]
  },
  {
   "cell_type": "code",
   "execution_count": 36,
   "id": "a5d600aa",
   "metadata": {},
   "outputs": [
    {
     "name": "stdout",
     "output_type": "stream",
     "text": [
      "No errors found within the model\n"
     ]
    }
   ],
   "source": [
    "if airline_model.check_model():\n",
    "    print('No errors found within the model')"
   ]
  },
  {
   "cell_type": "markdown",
   "id": "57742283",
   "metadata": {},
   "source": [
    "And that's it! Now we can start to perform some queries."
   ]
  },
  {
   "cell_type": "markdown",
   "id": "487b58dc",
   "metadata": {},
   "source": [
    "## 5. Queries <a class=\"anchor\" id=\"Q\"></a>\n",
    "\n",
    "In this section we perform queries on the net to experiment with the data we have extracted."
   ]
  },
  {
   "cell_type": "markdown",
   "id": "2103236c",
   "metadata": {},
   "source": [
    "### 5.1. The \"pgmpy translation\" <a class=\"anchor\" id=\"Q-1\"></a>\n",
    "\n",
    "Pgmpy maps the domain of a variable into numbers going from 0 to the cardinality of said variable. Since for example the probability of company being Southwest given a positive sentiment is written as P(Company=2|Sentiment=2) could be confusing, I will build a dictionary of dictionaries with this structure:\n",
    "\n",
    "- The first dictionary will contain pairs (Variable: dict) for each variable\n",
    "- The dictionaries inside the pairs will contain pairs of the form (Variable Value: Pgmpy Value). An example could be ('Virgin America: 4)\n",
    "\n",
    "In this way P(Company=2|Sentiment=2) will be written like: P(Company=d\\['Company'\\]\\['Southwest'\\] | Sentiment=d\\['Sentiment'\\]\\['Positive'\\])"
   ]
  },
  {
   "cell_type": "code",
   "execution_count": 37,
   "id": "d0b57fd4",
   "metadata": {},
   "outputs": [],
   "source": [
    "t_d = {\n",
    "    'Company': {\n",
    "        'American': 0,\n",
    "        'Delta': 1,\n",
    "        'Southwest': 2,\n",
    "        'US Airways': 3,\n",
    "        'United': 4,\n",
    "        'Virgin America': 5\n",
    "    },\n",
    "    'Strike': {\n",
    "        'False': 0,\n",
    "        'True': 1\n",
    "    },\n",
    "    'City': {\n",
    "        'New York': 0,\n",
    "        'Los Angeles': 1,\n",
    "        'Chicago': 2\n",
    "    },\n",
    "    'Bad Weather': {\n",
    "        'False': 0,\n",
    "        'True': 1\n",
    "    },\n",
    "    'Problems': {\n",
    "        'Complaints': 0,\n",
    "        'Customer Service': 1,\n",
    "        'Delays': 2,\n",
    "        'None': 3\n",
    "    },\n",
    "    'Sentiment': {\n",
    "        'Negative': 0,\n",
    "        'Neutral': 1,\n",
    "        'Positive': 2\n",
    "    },\n",
    "    'Tweet Time': {\n",
    "        'Morning': 0,\n",
    "        'Noon': 1,\n",
    "        'Evening': 2,\n",
    "        'Night': 3\n",
    "    },\n",
    "    'Retweets': {\n",
    "        'False': 0,\n",
    "        'True': 1\n",
    "    },\n",
    "    'Tweet Length': {\n",
    "        'Long': 0,\n",
    "        'Medium': 1,\n",
    "        'Short': 2\n",
    "    },\n",
    "    'Flight': {\n",
    "        'False': 0,\n",
    "        'True': 1\n",
    "    },\n",
    "    'Thank': {\n",
    "        'False': 0,\n",
    "        'True': 1\n",
    "    },\n",
    "    'Cancelled': {\n",
    "        'False': 0,\n",
    "        'True': 1\n",
    "    },\n",
    "    'Confidence': {\n",
    "        'High': 0,\n",
    "        'Low': 1\n",
    "    }\n",
    "}"
   ]
  },
  {
   "cell_type": "markdown",
   "id": "32493cf2",
   "metadata": {},
   "source": [
    "Perfect. We can now start computing some queries."
   ]
  },
  {
   "cell_type": "markdown",
   "id": "384d65bc",
   "metadata": {},
   "source": [
    "### 5.2. Queries <a class=\"anchor\" id=\"Q-2\"></a>"
   ]
  },
  {
   "cell_type": "markdown",
   "id": "2975bf6d",
   "metadata": {},
   "source": [
    "First, let's create the inference object that we'll use for the queries:"
   ]
  },
  {
   "cell_type": "code",
   "execution_count": 38,
   "id": "ebed63f4",
   "metadata": {},
   "outputs": [],
   "source": [
    "airline_inf = VariableElimination(airline_model)"
   ]
  },
  {
   "cell_type": "markdown",
   "id": "73130a37",
   "metadata": {},
   "source": [
    "#### 5.2.1. Query 1 <a class=\"anchor\" id=\"Q-2-1\"></a>"
   ]
  },
  {
   "cell_type": "markdown",
   "id": "75f3fb0d",
   "metadata": {},
   "source": [
    "Let's say that we know that a tweet has the word 'Flight' in it, what's the probability that the user didn't experience any problems?"
   ]
  },
  {
   "cell_type": "code",
   "execution_count": 39,
   "id": "49253b8e",
   "metadata": {},
   "outputs": [
    {
     "data": {
      "application/vnd.jupyter.widget-view+json": {
       "model_id": "5aab43b703f64666a8b2b8c1f7622c5a",
       "version_major": 2,
       "version_minor": 0
      },
      "text/plain": [
       "  0%|          | 0/5 [00:00<?, ?it/s]"
      ]
     },
     "metadata": {},
     "output_type": "display_data"
    },
    {
     "data": {
      "application/vnd.jupyter.widget-view+json": {
       "model_id": "f8e1d19776334ab399ec64d374b34f76",
       "version_major": 2,
       "version_minor": 0
      },
      "text/plain": [
       "  0%|          | 0/5 [00:00<?, ?it/s]"
      ]
     },
     "metadata": {},
     "output_type": "display_data"
    },
    {
     "name": "stdout",
     "output_type": "stream",
     "text": [
      "+-------------+-----------------+\n",
      "| Problems    |   phi(Problems) |\n",
      "+=============+=================+\n",
      "| Problems(0) |          0.1457 |\n",
      "+-------------+-----------------+\n",
      "| Problems(1) |          0.3314 |\n",
      "+-------------+-----------------+\n",
      "| Problems(2) |          0.1999 |\n",
      "+-------------+-----------------+\n",
      "| Problems(3) |          0.3229 |\n",
      "+-------------+-----------------+\n"
     ]
    }
   ],
   "source": [
    "evidence = {'Flight': t_d['Flight']['True']}\n",
    "q1 = airline_inf.query(['Problems'], evidence)\n",
    "print(q1)"
   ]
  },
  {
   "cell_type": "markdown",
   "id": "2ab55f9f",
   "metadata": {},
   "source": [
    "It's likely that the user had some problems!\n",
    "Let's now say that the word 'Cancelled' is in the tweet. This should lower the probability of Problems=None."
   ]
  },
  {
   "cell_type": "code",
   "execution_count": 40,
   "id": "2383a97d",
   "metadata": {},
   "outputs": [
    {
     "data": {
      "application/vnd.jupyter.widget-view+json": {
       "model_id": "88017a696163434d863d79eee683fda6",
       "version_major": 2,
       "version_minor": 0
      },
      "text/plain": [
       "  0%|          | 0/5 [00:00<?, ?it/s]"
      ]
     },
     "metadata": {},
     "output_type": "display_data"
    },
    {
     "data": {
      "application/vnd.jupyter.widget-view+json": {
       "model_id": "54ef149c3d674983be22bcb807f55e7a",
       "version_major": 2,
       "version_minor": 0
      },
      "text/plain": [
       "  0%|          | 0/5 [00:00<?, ?it/s]"
      ]
     },
     "metadata": {},
     "output_type": "display_data"
    },
    {
     "name": "stdout",
     "output_type": "stream",
     "text": [
      "+-------------+-----------------+\n",
      "| Problems    |   phi(Problems) |\n",
      "+=============+=================+\n",
      "| Problems(0) |          0.1771 |\n",
      "+-------------+-----------------+\n",
      "| Problems(1) |          0.4026 |\n",
      "+-------------+-----------------+\n",
      "| Problems(2) |          0.2429 |\n",
      "+-------------+-----------------+\n",
      "| Problems(3) |          0.1774 |\n",
      "+-------------+-----------------+\n"
     ]
    }
   ],
   "source": [
    "evidence['Cancelled'] = t_d['Cancelled']['True']\n",
    "q2 = airline_inf.query(['Problems'], evidence)\n",
    "print(q2)"
   ]
  },
  {
   "cell_type": "markdown",
   "id": "e54370a6",
   "metadata": {},
   "source": [
    "Yes! As expected the probability of Problems=None is lowered, it went from 0.32 to 0.17.\n",
    "Now let's say that we also know that the word 'Thank' is not in tweet. This should lower the probability even more:"
   ]
  },
  {
   "cell_type": "code",
   "execution_count": 41,
   "id": "b0175041",
   "metadata": {},
   "outputs": [
    {
     "data": {
      "application/vnd.jupyter.widget-view+json": {
       "model_id": "6889a05f31ba4e17b69c6e8b9ed0df78",
       "version_major": 2,
       "version_minor": 0
      },
      "text/plain": [
       "  0%|          | 0/5 [00:00<?, ?it/s]"
      ]
     },
     "metadata": {},
     "output_type": "display_data"
    },
    {
     "data": {
      "application/vnd.jupyter.widget-view+json": {
       "model_id": "aadaf21afa17480d99162b6f0bff2e79",
       "version_major": 2,
       "version_minor": 0
      },
      "text/plain": [
       "  0%|          | 0/5 [00:00<?, ?it/s]"
      ]
     },
     "metadata": {},
     "output_type": "display_data"
    },
    {
     "name": "stdout",
     "output_type": "stream",
     "text": [
      "+-------------+-----------------+\n",
      "| Problems    |   phi(Problems) |\n",
      "+=============+=================+\n",
      "| Problems(0) |          0.1790 |\n",
      "+-------------+-----------------+\n",
      "| Problems(1) |          0.4070 |\n",
      "+-------------+-----------------+\n",
      "| Problems(2) |          0.2456 |\n",
      "+-------------+-----------------+\n",
      "| Problems(3) |          0.1684 |\n",
      "+-------------+-----------------+\n"
     ]
    }
   ],
   "source": [
    "evidence['Thank'] = t_d['Thank']['False']\n",
    "q3 = airline_inf.query(['Problems'], evidence)\n",
    "print(q3)"
   ]
  },
  {
   "cell_type": "markdown",
   "id": "1de07510",
   "metadata": {},
   "source": [
    "The probability is lower, but not by a significant amount.\n",
    "Now what if the tweet is a short one? From [what we've seen](#CP-9) short tweets are more likely to be neutral or positive!"
   ]
  },
  {
   "cell_type": "code",
   "execution_count": 42,
   "id": "434cc93e",
   "metadata": {},
   "outputs": [
    {
     "data": {
      "application/vnd.jupyter.widget-view+json": {
       "model_id": "5f71051a0bb94b6e9091cb4a9f0cee14",
       "version_major": 2,
       "version_minor": 0
      },
      "text/plain": [
       "  0%|          | 0/5 [00:00<?, ?it/s]"
      ]
     },
     "metadata": {},
     "output_type": "display_data"
    },
    {
     "data": {
      "application/vnd.jupyter.widget-view+json": {
       "model_id": "f2d08447a295476ebe11ccbf0028fc0e",
       "version_major": 2,
       "version_minor": 0
      },
      "text/plain": [
       "  0%|          | 0/5 [00:00<?, ?it/s]"
      ]
     },
     "metadata": {},
     "output_type": "display_data"
    },
    {
     "name": "stdout",
     "output_type": "stream",
     "text": [
      "+-------------+-----------------+\n",
      "| Problems    |   phi(Problems) |\n",
      "+=============+=================+\n",
      "| Problems(0) |          0.1497 |\n",
      "+-------------+-----------------+\n",
      "| Problems(1) |          0.3405 |\n",
      "+-------------+-----------------+\n",
      "| Problems(2) |          0.2054 |\n",
      "+-------------+-----------------+\n",
      "| Problems(3) |          0.3044 |\n",
      "+-------------+-----------------+\n"
     ]
    }
   ],
   "source": [
    "evidence['Tweet Length'] = t_d['Tweet Length']['Short']\n",
    "q4 = airline_inf.query(['Problems'], evidence)\n",
    "print(q4)"
   ]
  },
  {
   "cell_type": "markdown",
   "id": "57ad85f3",
   "metadata": {},
   "source": [
    "Wow, the probability of Problems=None jumped again to 0.3!\n",
    "\n",
    "Now, does knowing the time at which the tweet was posted affect in any way the probability of Problems? In theory it shouldn't since the node Retweets is not in the evidence and thus there shouldn't be no active trail between Tweet time and Problems.\n",
    "\n",
    "Let's define a function to check if there are active trails between two nodes given the evidence and then let's apply it"
   ]
  },
  {
   "cell_type": "code",
   "execution_count": 43,
   "id": "49cbbcd7",
   "metadata": {},
   "outputs": [],
   "source": [
    "def is_active(query, evidence, unknown):\n",
    "    active = airline_model.active_trail_nodes([query], observed=list(evidence.keys()))\n",
    "    if unknown in active[query]:\n",
    "        print('There is an active trail between {} and {}'.format(query, unknown))\n",
    "    else:\n",
    "        print('There are no active trails between {} and {}'.format(query, unknown))"
   ]
  },
  {
   "cell_type": "code",
   "execution_count": 44,
   "id": "817df5b6",
   "metadata": {},
   "outputs": [
    {
     "name": "stdout",
     "output_type": "stream",
     "text": [
      "There are no active trails between Problems and Tweet Time\n"
     ]
    }
   ],
   "source": [
    "is_active('Problems', evidence, 'Tweet Time')"
   ]
  },
  {
   "cell_type": "markdown",
   "id": "747bf75c",
   "metadata": {},
   "source": [
    "Very good! Let's still compute the probability:"
   ]
  },
  {
   "cell_type": "code",
   "execution_count": 45,
   "id": "4b645436",
   "metadata": {},
   "outputs": [
    {
     "data": {
      "application/vnd.jupyter.widget-view+json": {
       "model_id": "5926619299034e68a33a8c5d0bc76903",
       "version_major": 2,
       "version_minor": 0
      },
      "text/plain": [
       "  0%|          | 0/5 [00:00<?, ?it/s]"
      ]
     },
     "metadata": {},
     "output_type": "display_data"
    },
    {
     "data": {
      "application/vnd.jupyter.widget-view+json": {
       "model_id": "6e66d5823eed44bba6653a23b401f7bd",
       "version_major": 2,
       "version_minor": 0
      },
      "text/plain": [
       "  0%|          | 0/5 [00:00<?, ?it/s]"
      ]
     },
     "metadata": {},
     "output_type": "display_data"
    },
    {
     "name": "stdout",
     "output_type": "stream",
     "text": [
      "+-------------+-----------------+\n",
      "| Problems    |   phi(Problems) |\n",
      "+=============+=================+\n",
      "| Problems(0) |          0.1497 |\n",
      "+-------------+-----------------+\n",
      "| Problems(1) |          0.3405 |\n",
      "+-------------+-----------------+\n",
      "| Problems(2) |          0.2054 |\n",
      "+-------------+-----------------+\n",
      "| Problems(3) |          0.3044 |\n",
      "+-------------+-----------------+\n"
     ]
    }
   ],
   "source": [
    "evidence['Tweet Time'] = t_d['Tweet Time']['Morning']\n",
    "q5 = airline_inf.query(['Problems'], evidence)\n",
    "print(q5)"
   ]
  },
  {
   "cell_type": "markdown",
   "id": "9b05087a",
   "metadata": {},
   "source": [
    "As expected, the cpds between the fourth and fifth query are identical.\n",
    "\n",
    "Let's remove Tweet Time from the evidence and let's see how Retweets=True influences Problems."
   ]
  },
  {
   "cell_type": "code",
   "execution_count": 46,
   "id": "8f70c9fd",
   "metadata": {},
   "outputs": [
    {
     "data": {
      "application/vnd.jupyter.widget-view+json": {
       "model_id": "f7afa4834a9f48078025cfcf2d505c58",
       "version_major": 2,
       "version_minor": 0
      },
      "text/plain": [
       "  0%|          | 0/6 [00:00<?, ?it/s]"
      ]
     },
     "metadata": {},
     "output_type": "display_data"
    },
    {
     "data": {
      "application/vnd.jupyter.widget-view+json": {
       "model_id": "98f4d703cfe347878a1413d85eccee7b",
       "version_major": 2,
       "version_minor": 0
      },
      "text/plain": [
       "  0%|          | 0/6 [00:00<?, ?it/s]"
      ]
     },
     "metadata": {},
     "output_type": "display_data"
    },
    {
     "name": "stdout",
     "output_type": "stream",
     "text": [
      "+-------------+-----------------+\n",
      "| Problems    |   phi(Problems) |\n",
      "+=============+=================+\n",
      "| Problems(0) |          0.1680 |\n",
      "+-------------+-----------------+\n",
      "| Problems(1) |          0.3819 |\n",
      "+-------------+-----------------+\n",
      "| Problems(2) |          0.2304 |\n",
      "+-------------+-----------------+\n",
      "| Problems(3) |          0.2197 |\n",
      "+-------------+-----------------+\n"
     ]
    }
   ],
   "source": [
    "evidence.pop('Tweet Time')\n",
    "evidence['Retweets'] = t_d['Retweets']['True']\n",
    "q6 = airline_inf.query(['Problems'], evidence)\n",
    "print(q6)"
   ]
  },
  {
   "cell_type": "markdown",
   "id": "59ee0cc3",
   "metadata": {},
   "source": [
    "Apparently having retweets increases the probability of problems. What if there are no retweets?"
   ]
  },
  {
   "cell_type": "code",
   "execution_count": 47,
   "id": "0f6d788c",
   "metadata": {},
   "outputs": [
    {
     "data": {
      "application/vnd.jupyter.widget-view+json": {
       "model_id": "d8cad25eaa6e40c9b49863e013e621c9",
       "version_major": 2,
       "version_minor": 0
      },
      "text/plain": [
       "  0%|          | 0/6 [00:00<?, ?it/s]"
      ]
     },
     "metadata": {},
     "output_type": "display_data"
    },
    {
     "data": {
      "application/vnd.jupyter.widget-view+json": {
       "model_id": "a8993808929049bf9a9b9933e9ff8609",
       "version_major": 2,
       "version_minor": 0
      },
      "text/plain": [
       "  0%|          | 0/6 [00:00<?, ?it/s]"
      ]
     },
     "metadata": {},
     "output_type": "display_data"
    },
    {
     "name": "stdout",
     "output_type": "stream",
     "text": [
      "+-------------+-----------------+\n",
      "| Problems    |   phi(Problems) |\n",
      "+=============+=================+\n",
      "| Problems(0) |          0.1488 |\n",
      "+-------------+-----------------+\n",
      "| Problems(1) |          0.3384 |\n",
      "+-------------+-----------------+\n",
      "| Problems(2) |          0.2041 |\n",
      "+-------------+-----------------+\n",
      "| Problems(3) |          0.3087 |\n",
      "+-------------+-----------------+\n"
     ]
    }
   ],
   "source": [
    "evidence['Retweets'] = t_d['Retweets']['False']\n",
    "q7 = airline_inf.query(['Problems'], evidence)\n",
    "print(q7)"
   ]
  },
  {
   "cell_type": "markdown",
   "id": "054b11e4",
   "metadata": {},
   "source": [
    "Apparently knowing that there aren't retweets doesn't add meaningful informations.\n",
    "\n",
    "Anyway, let's set again Retweets=True and let's observe the influence that Tweet Time has on Problems. To better visualize it let's develop a small function that plots the probabilities of the values of a variable while varying the evidence."
   ]
  },
  {
   "cell_type": "code",
   "execution_count": 48,
   "id": "1a4a1d34",
   "metadata": {},
   "outputs": [],
   "source": [
    "def plot_probs(target, var, ev):\n",
    "    var_val = list(t_d[var].keys())\n",
    "    tar_probs = {value: [] for value in list(t_d[target].keys())}\n",
    "    for value in var_val:\n",
    "        ev[var] = t_d[var][value]\n",
    "        query = airline_inf.query([target], evidence)\n",
    "        for t_val in list(tar_probs.keys()):\n",
    "            tar_probs[t_val].append(query.get_value(**{target: t_d[target][t_val]}))\n",
    "    for t_val in list(tar_probs.keys()):\n",
    "        plt.plot(var_val, tar_probs[t_val], '-o',label=t_val)\n",
    "    ev.pop(var)\n",
    "    plt.legend()\n",
    "    plt.show()"
   ]
  },
  {
   "cell_type": "markdown",
   "id": "d5bb7ec4",
   "metadata": {},
   "source": [
    "Perfect, now let's set Retweets=True and let's run the function:"
   ]
  },
  {
   "cell_type": "code",
   "execution_count": 49,
   "id": "dfc37de7",
   "metadata": {},
   "outputs": [
    {
     "data": {
      "application/vnd.jupyter.widget-view+json": {
       "model_id": "9b5e8749a710458381337841b49f0854",
       "version_major": 2,
       "version_minor": 0
      },
      "text/plain": [
       "  0%|          | 0/5 [00:00<?, ?it/s]"
      ]
     },
     "metadata": {},
     "output_type": "display_data"
    },
    {
     "data": {
      "application/vnd.jupyter.widget-view+json": {
       "model_id": "1c6f25ff99714a3296c265f6d1c93dda",
       "version_major": 2,
       "version_minor": 0
      },
      "text/plain": [
       "  0%|          | 0/5 [00:00<?, ?it/s]"
      ]
     },
     "metadata": {},
     "output_type": "display_data"
    },
    {
     "data": {
      "application/vnd.jupyter.widget-view+json": {
       "model_id": "03d62e4b01cc4dc7b2a09d95c4291b69",
       "version_major": 2,
       "version_minor": 0
      },
      "text/plain": [
       "  0%|          | 0/5 [00:00<?, ?it/s]"
      ]
     },
     "metadata": {},
     "output_type": "display_data"
    },
    {
     "data": {
      "application/vnd.jupyter.widget-view+json": {
       "model_id": "34b38f65297b4af9aa57d68e93c0aa57",
       "version_major": 2,
       "version_minor": 0
      },
      "text/plain": [
       "  0%|          | 0/5 [00:00<?, ?it/s]"
      ]
     },
     "metadata": {},
     "output_type": "display_data"
    },
    {
     "data": {
      "application/vnd.jupyter.widget-view+json": {
       "model_id": "80601b916ce242849c93601fe832e053",
       "version_major": 2,
       "version_minor": 0
      },
      "text/plain": [
       "  0%|          | 0/5 [00:00<?, ?it/s]"
      ]
     },
     "metadata": {},
     "output_type": "display_data"
    },
    {
     "data": {
      "application/vnd.jupyter.widget-view+json": {
       "model_id": "e4e360cddee94994b4df83207123644c",
       "version_major": 2,
       "version_minor": 0
      },
      "text/plain": [
       "  0%|          | 0/5 [00:00<?, ?it/s]"
      ]
     },
     "metadata": {},
     "output_type": "display_data"
    },
    {
     "data": {
      "application/vnd.jupyter.widget-view+json": {
       "model_id": "60eceb2bc1da428980042eb61a2fa710",
       "version_major": 2,
       "version_minor": 0
      },
      "text/plain": [
       "  0%|          | 0/5 [00:00<?, ?it/s]"
      ]
     },
     "metadata": {},
     "output_type": "display_data"
    },
    {
     "data": {
      "application/vnd.jupyter.widget-view+json": {
       "model_id": "a38e8d99e5d8413cb3f6c503c5a366d0",
       "version_major": 2,
       "version_minor": 0
      },
      "text/plain": [
       "  0%|          | 0/5 [00:00<?, ?it/s]"
      ]
     },
     "metadata": {},
     "output_type": "display_data"
    },
    {
     "data": {
      "image/png": "[encoded data removed]",
      "text/plain": [
       "<Figure size 432x288 with 1 Axes>"
      ]
     },
     "metadata": {
      "needs_background": "light"
     },
     "output_type": "display_data"
    }
   ],
   "source": [
    "evidence['Retweets'] = t_d['Retweets']['True']\n",
    "plot_probs('Problems', 'Tweet Time', evidence)"
   ]
  },
  {
   "cell_type": "markdown",
   "id": "5143af24",
   "metadata": {},
   "source": [
    "It's seems that the time of the tweet mostly affects the probability of None while the other values remain mostly unchanged."
   ]
  },
  {
   "cell_type": "markdown",
   "id": "05c43566",
   "metadata": {},
   "source": [
    "#### 5.2.2. Query 2 <a class=\"anchor\" id=\"Q-2-2\"></a>"
   ]
  },
  {
   "cell_type": "markdown",
   "id": "d7986245",
   "metadata": {},
   "source": [
    "Now let's say that we are interested in predicting the Sentiment. We know that Flight is in the tweet, but Thank and Cancelled aren't. "
   ]
  },
  {
   "cell_type": "code",
   "execution_count": 50,
   "id": "f16ff2a8",
   "metadata": {},
   "outputs": [
    {
     "data": {
      "application/vnd.jupyter.widget-view+json": {
       "model_id": "8d8715fbd4b74904b335fd88ff665f07",
       "version_major": 2,
       "version_minor": 0
      },
      "text/plain": [
       "  0%|          | 0/5 [00:00<?, ?it/s]"
      ]
     },
     "metadata": {},
     "output_type": "display_data"
    },
    {
     "data": {
      "application/vnd.jupyter.widget-view+json": {
       "model_id": "5de9197287944d678ad352f59b3fe7d0",
       "version_major": 2,
       "version_minor": 0
      },
      "text/plain": [
       "  0%|          | 0/5 [00:00<?, ?it/s]"
      ]
     },
     "metadata": {},
     "output_type": "display_data"
    },
    {
     "name": "stdout",
     "output_type": "stream",
     "text": [
      "+--------------+------------------+\n",
      "| Sentiment    |   phi(Sentiment) |\n",
      "+==============+==================+\n",
      "| Sentiment(0) |           0.7803 |\n",
      "+--------------+------------------+\n",
      "| Sentiment(1) |           0.1636 |\n",
      "+--------------+------------------+\n",
      "| Sentiment(2) |           0.0561 |\n",
      "+--------------+------------------+\n"
     ]
    }
   ],
   "source": [
    "evidence = {\n",
    "    'Flight': t_d['Flight']['True'],\n",
    "    'Thank': t_d['Thank']['False'],\n",
    "    'Cancelled': t_d['Cancelled']['False']\n",
    "}\n",
    "q8 = airline_inf.query(['Sentiment'], evidence)\n",
    "print(q8)"
   ]
  },
  {
   "cell_type": "markdown",
   "id": "3356ad63",
   "metadata": {},
   "source": [
    "Let's say that we know that there were no __evident__ problems expressed in the tweet"
   ]
  },
  {
   "cell_type": "code",
   "execution_count": 51,
   "id": "e00fee5c",
   "metadata": {},
   "outputs": [
    {
     "data": {
      "application/vnd.jupyter.widget-view+json": {
       "model_id": "0f7992fb6eca458fb768c2bf7f023c85",
       "version_major": 2,
       "version_minor": 0
      },
      "text/plain": [
       "0it [00:00, ?it/s]"
      ]
     },
     "metadata": {},
     "output_type": "display_data"
    },
    {
     "data": {
      "application/vnd.jupyter.widget-view+json": {
       "model_id": "9790617e56bb48d6bdc74a9a5536a54f",
       "version_major": 2,
       "version_minor": 0
      },
      "text/plain": [
       "0it [00:00, ?it/s]"
      ]
     },
     "metadata": {},
     "output_type": "display_data"
    },
    {
     "name": "stdout",
     "output_type": "stream",
     "text": [
      "+--------------+------------------+\n",
      "| Sentiment    |   phi(Sentiment) |\n",
      "+==============+==================+\n",
      "| Sentiment(0) |           0.2789 |\n",
      "+--------------+------------------+\n",
      "| Sentiment(1) |           0.5368 |\n",
      "+--------------+------------------+\n",
      "| Sentiment(2) |           0.1843 |\n",
      "+--------------+------------------+\n"
     ]
    }
   ],
   "source": [
    "evidence['Problems'] = t_d['Problems']['None']\n",
    "q9 = airline_inf.query(['Sentiment'], evidence)\n",
    "print(q9)"
   ]
  },
  {
   "cell_type": "markdown",
   "id": "7947e33c",
   "metadata": {},
   "source": [
    "As expected the probability of a negative sentiment is lower.\n",
    "\n",
    "If we observe that the tweet is a long one, the probability of a negative sentiment should increase again:"
   ]
  },
  {
   "cell_type": "code",
   "execution_count": 52,
   "id": "efaafc5b",
   "metadata": {},
   "outputs": [
    {
     "data": {
      "application/vnd.jupyter.widget-view+json": {
       "model_id": "d6b9ef9916164ae39938ce026665c516",
       "version_major": 2,
       "version_minor": 0
      },
      "text/plain": [
       "0it [00:00, ?it/s]"
      ]
     },
     "metadata": {},
     "output_type": "display_data"
    },
    {
     "data": {
      "application/vnd.jupyter.widget-view+json": {
       "model_id": "4a178715b2154bcd8798f51cb68ede31",
       "version_major": 2,
       "version_minor": 0
      },
      "text/plain": [
       "0it [00:00, ?it/s]"
      ]
     },
     "metadata": {},
     "output_type": "display_data"
    },
    {
     "name": "stdout",
     "output_type": "stream",
     "text": [
      "+--------------+------------------+\n",
      "| Sentiment    |   phi(Sentiment) |\n",
      "+==============+==================+\n",
      "| Sentiment(0) |           0.4268 |\n",
      "+--------------+------------------+\n",
      "| Sentiment(1) |           0.4235 |\n",
      "+--------------+------------------+\n",
      "| Sentiment(2) |           0.1498 |\n",
      "+--------------+------------------+\n"
     ]
    }
   ],
   "source": [
    "evidence['Tweet Length'] = t_d['Tweet Length']['Long']\n",
    "q10 = airline_inf.query(['Sentiment'], evidence)\n",
    "print(q10)"
   ]
  },
  {
   "cell_type": "markdown",
   "id": "a4157abd",
   "metadata": {},
   "source": [
    "As expected.\n",
    "\n",
    "Now what happens if we say that the tweet has retweets? In theory the probability of a negative sentiment should increase."
   ]
  },
  {
   "cell_type": "code",
   "execution_count": 53,
   "id": "7937855b",
   "metadata": {},
   "outputs": [
    {
     "data": {
      "application/vnd.jupyter.widget-view+json": {
       "model_id": "d417c597907f48a1b73caf55309668a1",
       "version_major": 2,
       "version_minor": 0
      },
      "text/plain": [
       "  0%|          | 0/1 [00:00<?, ?it/s]"
      ]
     },
     "metadata": {},
     "output_type": "display_data"
    },
    {
     "data": {
      "application/vnd.jupyter.widget-view+json": {
       "model_id": "849fc41a7a6945bcbc31ebdf9c3e899c",
       "version_major": 2,
       "version_minor": 0
      },
      "text/plain": [
       "  0%|          | 0/1 [00:00<?, ?it/s]"
      ]
     },
     "metadata": {},
     "output_type": "display_data"
    },
    {
     "name": "stdout",
     "output_type": "stream",
     "text": [
      "+--------------+------------------+\n",
      "| Sentiment    |   phi(Sentiment) |\n",
      "+==============+==================+\n",
      "| Sentiment(0) |           0.5956 |\n",
      "+--------------+------------------+\n",
      "| Sentiment(1) |           0.2987 |\n",
      "+--------------+------------------+\n",
      "| Sentiment(2) |           0.1057 |\n",
      "+--------------+------------------+\n"
     ]
    }
   ],
   "source": [
    "evidence['Retweets'] = t_d['Retweets']['True']\n",
    "q11 = airline_inf.query(['Sentiment'], evidence)\n",
    "print(q11)"
   ]
  },
  {
   "cell_type": "markdown",
   "id": "3452c7a1",
   "metadata": {},
   "source": [
    "Exactly!\n",
    "\n",
    "Now let's use the function plot_probs to see what are the effects of Tweet Time on Sentiment"
   ]
  },
  {
   "cell_type": "code",
   "execution_count": 54,
   "id": "e620f21f",
   "metadata": {},
   "outputs": [
    {
     "data": {
      "application/vnd.jupyter.widget-view+json": {
       "model_id": "719921e7bf6f43ac88a5b5e00178f2e7",
       "version_major": 2,
       "version_minor": 0
      },
      "text/plain": [
       "0it [00:00, ?it/s]"
      ]
     },
     "metadata": {},
     "output_type": "display_data"
    },
    {
     "data": {
      "application/vnd.jupyter.widget-view+json": {
       "model_id": "311667aadeeb4d1e8d5a658d0ce43d44",
       "version_major": 2,
       "version_minor": 0
      },
      "text/plain": [
       "0it [00:00, ?it/s]"
      ]
     },
     "metadata": {},
     "output_type": "display_data"
    },
    {
     "data": {
      "application/vnd.jupyter.widget-view+json": {
       "model_id": "8ce223ceb4d142d28a3b42689a189f79",
       "version_major": 2,
       "version_minor": 0
      },
      "text/plain": [
       "0it [00:00, ?it/s]"
      ]
     },
     "metadata": {},
     "output_type": "display_data"
    },
    {
     "data": {
      "application/vnd.jupyter.widget-view+json": {
       "model_id": "978679a940bc47728ee533715d889de3",
       "version_major": 2,
       "version_minor": 0
      },
      "text/plain": [
       "0it [00:00, ?it/s]"
      ]
     },
     "metadata": {},
     "output_type": "display_data"
    },
    {
     "data": {
      "application/vnd.jupyter.widget-view+json": {
       "model_id": "49ffd0b85c334a6591ec41cbe17117f2",
       "version_major": 2,
       "version_minor": 0
      },
      "text/plain": [
       "0it [00:00, ?it/s]"
      ]
     },
     "metadata": {},
     "output_type": "display_data"
    },
    {
     "data": {
      "application/vnd.jupyter.widget-view+json": {
       "model_id": "8d3e7ad2c9714d4ca9b4e073265f759b",
       "version_major": 2,
       "version_minor": 0
      },
      "text/plain": [
       "0it [00:00, ?it/s]"
      ]
     },
     "metadata": {},
     "output_type": "display_data"
    },
    {
     "data": {
      "application/vnd.jupyter.widget-view+json": {
       "model_id": "1ff7e5a8d4a345a0a8d17dfdebb9aa79",
       "version_major": 2,
       "version_minor": 0
      },
      "text/plain": [
       "0it [00:00, ?it/s]"
      ]
     },
     "metadata": {},
     "output_type": "display_data"
    },
    {
     "data": {
      "application/vnd.jupyter.widget-view+json": {
       "model_id": "891c64a8f33a439d82846b074863bc7a",
       "version_major": 2,
       "version_minor": 0
      },
      "text/plain": [
       "0it [00:00, ?it/s]"
      ]
     },
     "metadata": {},
     "output_type": "display_data"
    },
    {
     "data": {
      "image/png": "[encoded data removed]",
      "text/plain": [
       "<Figure size 432x288 with 1 Axes>"
      ]
     },
     "metadata": {
      "needs_background": "light"
     },
     "output_type": "display_data"
    }
   ],
   "source": [
    "plot_probs('Sentiment', 'Tweet Time', evidence)"
   ]
  },
  {
   "cell_type": "markdown",
   "id": "661bfbfe",
   "metadata": {},
   "source": [
    "Apparently Tweet Time = Evening maximizes the chances of a negative sentiment, meanwhile Morning minimizes them."
   ]
  },
  {
   "cell_type": "code",
   "execution_count": 55,
   "id": "9e84f3cc",
   "metadata": {},
   "outputs": [
    {
     "data": {
      "application/vnd.jupyter.widget-view+json": {
       "model_id": "3d5a480928c44f50bba955395b3353c5",
       "version_major": 2,
       "version_minor": 0
      },
      "text/plain": [
       "0it [00:00, ?it/s]"
      ]
     },
     "metadata": {},
     "output_type": "display_data"
    },
    {
     "data": {
      "application/vnd.jupyter.widget-view+json": {
       "model_id": "6e547b478ec14f42a3cffd6552b18fd7",
       "version_major": 2,
       "version_minor": 0
      },
      "text/plain": [
       "0it [00:00, ?it/s]"
      ]
     },
     "metadata": {},
     "output_type": "display_data"
    },
    {
     "name": "stdout",
     "output_type": "stream",
     "text": [
      "+--------------+------------------+\n",
      "| Sentiment    |   phi(Sentiment) |\n",
      "+==============+==================+\n",
      "| Sentiment(0) |           0.6650 |\n",
      "+--------------+------------------+\n",
      "| Sentiment(1) |           0.2475 |\n",
      "+--------------+------------------+\n",
      "| Sentiment(2) |           0.0875 |\n",
      "+--------------+------------------+\n"
     ]
    }
   ],
   "source": [
    "evidence['Tweet Time'] = t_d['Tweet Time']['Evening']\n",
    "q12 = airline_inf.query(['Sentiment'], evidence)\n",
    "print(q12)"
   ]
  },
  {
   "cell_type": "markdown",
   "id": "66dd37cf",
   "metadata": {},
   "source": [
    "By adding Tweet Time to the evidence we completed the Sentiment node's __Markov Blanket__. The Markov Blanket of a node is a subset of the nodes of the Network that if is in the evidence \"shields\" it from the effect of the other nodes of the Network.\n",
    "\n",
    "Let's see if that's true:"
   ]
  },
  {
   "cell_type": "code",
   "execution_count": 56,
   "id": "331043ea",
   "metadata": {},
   "outputs": [
    {
     "name": "stdout",
     "output_type": "stream",
     "text": [
      "There are no active trails between Sentiment and Confidence\n",
      "There are no active trails between Sentiment and Bad Weather\n",
      "There are no active trails between Sentiment and City\n",
      "There are no active trails between Sentiment and Company\n",
      "There are no active trails between Sentiment and Strike\n"
     ]
    }
   ],
   "source": [
    "nodes_outside_blanket = ['Confidence', 'Bad Weather', 'City', 'Company', 'Strike']\n",
    "for node in nodes_outside_blanket:\n",
    "    is_active('Sentiment', evidence, node)"
   ]
  },
  {
   "cell_type": "markdown",
   "id": "2ae5d874",
   "metadata": {},
   "source": [
    "Let's see if what we've said is also reflected in the queries. "
   ]
  },
  {
   "cell_type": "code",
   "execution_count": 57,
   "id": "7c3bbc63",
   "metadata": {},
   "outputs": [
    {
     "data": {
      "application/vnd.jupyter.widget-view+json": {
       "model_id": "86c7bb82146440c58ce4ea0bfac194e8",
       "version_major": 2,
       "version_minor": 0
      },
      "text/plain": [
       "0it [00:00, ?it/s]"
      ]
     },
     "metadata": {},
     "output_type": "display_data"
    },
    {
     "data": {
      "application/vnd.jupyter.widget-view+json": {
       "model_id": "f379f530084e49a8af9486a6ff8ce705",
       "version_major": 2,
       "version_minor": 0
      },
      "text/plain": [
       "0it [00:00, ?it/s]"
      ]
     },
     "metadata": {},
     "output_type": "display_data"
    },
    {
     "name": "stdout",
     "output_type": "stream",
     "text": [
      "+--------------+------------------+\n",
      "| Sentiment    |   phi(Sentiment) |\n",
      "+==============+==================+\n",
      "| Sentiment(0) |           0.6650 |\n",
      "+--------------+------------------+\n",
      "| Sentiment(1) |           0.2475 |\n",
      "+--------------+------------------+\n",
      "| Sentiment(2) |           0.0875 |\n",
      "+--------------+------------------+\n"
     ]
    },
    {
     "data": {
      "application/vnd.jupyter.widget-view+json": {
       "model_id": "f0812b379f574498977cf8dd1ac24ace",
       "version_major": 2,
       "version_minor": 0
      },
      "text/plain": [
       "0it [00:00, ?it/s]"
      ]
     },
     "metadata": {},
     "output_type": "display_data"
    },
    {
     "data": {
      "application/vnd.jupyter.widget-view+json": {
       "model_id": "185d3227979c49f0b8082ba631d8f14c",
       "version_major": 2,
       "version_minor": 0
      },
      "text/plain": [
       "0it [00:00, ?it/s]"
      ]
     },
     "metadata": {},
     "output_type": "display_data"
    },
    {
     "name": "stdout",
     "output_type": "stream",
     "text": [
      "+--------------+------------------+\n",
      "| Sentiment    |   phi(Sentiment) |\n",
      "+==============+==================+\n",
      "| Sentiment(0) |           0.6650 |\n",
      "+--------------+------------------+\n",
      "| Sentiment(1) |           0.2475 |\n",
      "+--------------+------------------+\n",
      "| Sentiment(2) |           0.0875 |\n",
      "+--------------+------------------+\n"
     ]
    },
    {
     "data": {
      "application/vnd.jupyter.widget-view+json": {
       "model_id": "1af61352bebb4a478cec183202c7cd1c",
       "version_major": 2,
       "version_minor": 0
      },
      "text/plain": [
       "0it [00:00, ?it/s]"
      ]
     },
     "metadata": {},
     "output_type": "display_data"
    },
    {
     "data": {
      "application/vnd.jupyter.widget-view+json": {
       "model_id": "24c1a36e3ef142f7bfad90eb69b505e4",
       "version_major": 2,
       "version_minor": 0
      },
      "text/plain": [
       "0it [00:00, ?it/s]"
      ]
     },
     "metadata": {},
     "output_type": "display_data"
    },
    {
     "name": "stdout",
     "output_type": "stream",
     "text": [
      "+--------------+------------------+\n",
      "| Sentiment    |   phi(Sentiment) |\n",
      "+==============+==================+\n",
      "| Sentiment(0) |           0.6650 |\n",
      "+--------------+------------------+\n",
      "| Sentiment(1) |           0.2475 |\n",
      "+--------------+------------------+\n",
      "| Sentiment(2) |           0.0875 |\n",
      "+--------------+------------------+\n"
     ]
    },
    {
     "data": {
      "application/vnd.jupyter.widget-view+json": {
       "model_id": "1bca27d8889d4d88bd3de8c54264c671",
       "version_major": 2,
       "version_minor": 0
      },
      "text/plain": [
       "0it [00:00, ?it/s]"
      ]
     },
     "metadata": {},
     "output_type": "display_data"
    },
    {
     "data": {
      "application/vnd.jupyter.widget-view+json": {
       "model_id": "3355266594c54c969def262cc05b5923",
       "version_major": 2,
       "version_minor": 0
      },
      "text/plain": [
       "0it [00:00, ?it/s]"
      ]
     },
     "metadata": {},
     "output_type": "display_data"
    },
    {
     "name": "stdout",
     "output_type": "stream",
     "text": [
      "+--------------+------------------+\n",
      "| Sentiment    |   phi(Sentiment) |\n",
      "+==============+==================+\n",
      "| Sentiment(0) |           0.6650 |\n",
      "+--------------+------------------+\n",
      "| Sentiment(1) |           0.2475 |\n",
      "+--------------+------------------+\n",
      "| Sentiment(2) |           0.0875 |\n",
      "+--------------+------------------+\n"
     ]
    },
    {
     "data": {
      "application/vnd.jupyter.widget-view+json": {
       "model_id": "45dfb42e0c2a419881afc8e7054137b7",
       "version_major": 2,
       "version_minor": 0
      },
      "text/plain": [
       "0it [00:00, ?it/s]"
      ]
     },
     "metadata": {},
     "output_type": "display_data"
    },
    {
     "data": {
      "application/vnd.jupyter.widget-view+json": {
       "model_id": "37ce01dc1a3c4b4aa89059910b3b23a7",
       "version_major": 2,
       "version_minor": 0
      },
      "text/plain": [
       "0it [00:00, ?it/s]"
      ]
     },
     "metadata": {},
     "output_type": "display_data"
    },
    {
     "name": "stdout",
     "output_type": "stream",
     "text": [
      "+--------------+------------------+\n",
      "| Sentiment    |   phi(Sentiment) |\n",
      "+==============+==================+\n",
      "| Sentiment(0) |           0.6650 |\n",
      "+--------------+------------------+\n",
      "| Sentiment(1) |           0.2475 |\n",
      "+--------------+------------------+\n",
      "| Sentiment(2) |           0.0875 |\n",
      "+--------------+------------------+\n"
     ]
    }
   ],
   "source": [
    "import random\n",
    "for node in nodes_outside_blanket:\n",
    "    evidence[node] = t_d[node][random.choice(list(t_d[node].keys()))]\n",
    "    q = airline_inf.query(['Sentiment'], evidence)\n",
    "    print(q)\n",
    "    evidence.pop(node)    "
   ]
  },
  {
   "cell_type": "markdown",
   "id": "56a039f2",
   "metadata": {},
   "source": [
    "As expected the probability doesn't change."
   ]
  },
  {
   "cell_type": "markdown",
   "id": "e3933460",
   "metadata": {},
   "source": [
    "#### Query 5.2.3. <a class=\"anchor\" id=\"Q-2-3\"></a>"
   ]
  },
  {
   "cell_type": "markdown",
   "id": "f7fe997f",
   "metadata": {},
   "source": [
    "Let's now say that I know that a plane strated his trip from Los Angeles, does this tells us anything about the length of the tweet?\n",
    "\n",
    "Probably yes, since Los Angeles has a low probability of having rainy days this should imply that it's unlikely that the tweet is long."
   ]
  },
  {
   "cell_type": "code",
   "execution_count": 58,
   "id": "23c39c52",
   "metadata": {},
   "outputs": [
    {
     "data": {
      "application/vnd.jupyter.widget-view+json": {
       "model_id": "7fec3eb6ac52475b8d06e953f65b1dd8",
       "version_major": 2,
       "version_minor": 0
      },
      "text/plain": [
       "  0%|          | 0/5 [00:00<?, ?it/s]"
      ]
     },
     "metadata": {},
     "output_type": "display_data"
    },
    {
     "data": {
      "application/vnd.jupyter.widget-view+json": {
       "model_id": "fc98ee248754413cb0a2b120dd4b2b55",
       "version_major": 2,
       "version_minor": 0
      },
      "text/plain": [
       "  0%|          | 0/5 [00:00<?, ?it/s]"
      ]
     },
     "metadata": {},
     "output_type": "display_data"
    },
    {
     "name": "stdout",
     "output_type": "stream",
     "text": [
      "+-----------------+---------------------+\n",
      "| Tweet Length    |   phi(Tweet Length) |\n",
      "+=================+=====================+\n",
      "| Tweet Length(0) |              0.5337 |\n",
      "+-----------------+---------------------+\n",
      "| Tweet Length(1) |              0.3398 |\n",
      "+-----------------+---------------------+\n",
      "| Tweet Length(2) |              0.1265 |\n",
      "+-----------------+---------------------+\n"
     ]
    }
   ],
   "source": [
    "evidence = {'City': t_d['City']['Los Angeles']}\n",
    "q13 = airline_inf.query(['Tweet Length'], evidence)\n",
    "print(q13)"
   ]
  },
  {
   "cell_type": "markdown",
   "id": "d672f984",
   "metadata": {},
   "source": [
    "It's still kind of high, more than .5!\n",
    "\n",
    "Let's now fortify this prediction by also assuming that there is no strike."
   ]
  },
  {
   "cell_type": "code",
   "execution_count": 59,
   "id": "5b871826",
   "metadata": {},
   "outputs": [
    {
     "data": {
      "application/vnd.jupyter.widget-view+json": {
       "model_id": "6122b2c3c75b4aeebe06a0d13cd125fe",
       "version_major": 2,
       "version_minor": 0
      },
      "text/plain": [
       "  0%|          | 0/4 [00:00<?, ?it/s]"
      ]
     },
     "metadata": {},
     "output_type": "display_data"
    },
    {
     "data": {
      "application/vnd.jupyter.widget-view+json": {
       "model_id": "bf0201e1003943388cee5159b1b8f572",
       "version_major": 2,
       "version_minor": 0
      },
      "text/plain": [
       "  0%|          | 0/4 [00:00<?, ?it/s]"
      ]
     },
     "metadata": {},
     "output_type": "display_data"
    },
    {
     "name": "stdout",
     "output_type": "stream",
     "text": [
      "+-----------------+---------------------+\n",
      "| Tweet Length    |   phi(Tweet Length) |\n",
      "+=================+=====================+\n",
      "| Tweet Length(0) |              0.5332 |\n",
      "+-----------------+---------------------+\n",
      "| Tweet Length(1) |              0.3400 |\n",
      "+-----------------+---------------------+\n",
      "| Tweet Length(2) |              0.1268 |\n",
      "+-----------------+---------------------+\n"
     ]
    }
   ],
   "source": [
    "evidence['Strike'] = t_d['Strike']['False']\n",
    "q14 = airline_inf.query(['Tweet Length'], evidence)\n",
    "print(q14)"
   ]
  },
  {
   "cell_type": "markdown",
   "id": "0b18f79c",
   "metadata": {},
   "source": [
    "A barely visible change. Strike almost doesn't affect the length.\n",
    "\n",
    "Now let's say that the company receiving the tweet is US Airways that has a very high chance of causing problems of any sort."
   ]
  },
  {
   "cell_type": "code",
   "execution_count": 60,
   "id": "314db49a",
   "metadata": {},
   "outputs": [
    {
     "data": {
      "application/vnd.jupyter.widget-view+json": {
       "model_id": "4de3644200254336a11bada19dd30171",
       "version_major": 2,
       "version_minor": 0
      },
      "text/plain": [
       "  0%|          | 0/3 [00:00<?, ?it/s]"
      ]
     },
     "metadata": {},
     "output_type": "display_data"
    },
    {
     "data": {
      "application/vnd.jupyter.widget-view+json": {
       "model_id": "9835f0cf0da94266a80eb8986adacc32",
       "version_major": 2,
       "version_minor": 0
      },
      "text/plain": [
       "  0%|          | 0/3 [00:00<?, ?it/s]"
      ]
     },
     "metadata": {},
     "output_type": "display_data"
    },
    {
     "name": "stdout",
     "output_type": "stream",
     "text": [
      "+-----------------+---------------------+\n",
      "| Tweet Length    |   phi(Tweet Length) |\n",
      "+=================+=====================+\n",
      "| Tweet Length(0) |              0.5688 |\n",
      "+-----------------+---------------------+\n",
      "| Tweet Length(1) |              0.3252 |\n",
      "+-----------------+---------------------+\n",
      "| Tweet Length(2) |              0.1060 |\n",
      "+-----------------+---------------------+\n"
     ]
    }
   ],
   "source": [
    "evidence['Company'] = t_d['Company']['US Airways']\n",
    "q15 = airline_inf.query(['Tweet Length'], evidence)\n",
    "print(q15)"
   ]
  },
  {
   "cell_type": "markdown",
   "id": "d25f8b47",
   "metadata": {},
   "source": [
    "The probability of a long tweet is now higher.\n",
    "\n",
    "But let's say that we know for sure that \"thank\" is in the tweet and that the tweet has 0 retweets. Does this change our belief on the length of the tweet?"
   ]
  },
  {
   "cell_type": "code",
   "execution_count": 61,
   "id": "525fb974",
   "metadata": {},
   "outputs": [
    {
     "data": {
      "application/vnd.jupyter.widget-view+json": {
       "model_id": "a9468c92eeb94d22976a1156b47c7d9f",
       "version_major": 2,
       "version_minor": 0
      },
      "text/plain": [
       "  0%|          | 0/4 [00:00<?, ?it/s]"
      ]
     },
     "metadata": {},
     "output_type": "display_data"
    },
    {
     "data": {
      "application/vnd.jupyter.widget-view+json": {
       "model_id": "638ade2615bb4bb0888677e5d5281927",
       "version_major": 2,
       "version_minor": 0
      },
      "text/plain": [
       "  0%|          | 0/4 [00:00<?, ?it/s]"
      ]
     },
     "metadata": {},
     "output_type": "display_data"
    },
    {
     "name": "stdout",
     "output_type": "stream",
     "text": [
      "+-----------------+---------------------+\n",
      "| Tweet Length    |   phi(Tweet Length) |\n",
      "+=================+=====================+\n",
      "| Tweet Length(0) |              0.4411 |\n",
      "+-----------------+---------------------+\n",
      "| Tweet Length(1) |              0.3688 |\n",
      "+-----------------+---------------------+\n",
      "| Tweet Length(2) |              0.1901 |\n",
      "+-----------------+---------------------+\n"
     ]
    }
   ],
   "source": [
    "evidence['Thank'] = t_d['Thank']['True']\n",
    "evidence['Retweets'] = t_d['Retweets']['False']\n",
    "q16 = airline_inf.query(['Tweet Length'], evidence)\n",
    "print(q16)"
   ]
  },
  {
   "cell_type": "markdown",
   "id": "16bfe454",
   "metadata": {},
   "source": [
    "More than a .1 difference!\n",
    "\n",
    "Now if I set Problems to None the probability of a long tweet should decrease again."
   ]
  },
  {
   "cell_type": "code",
   "execution_count": 62,
   "id": "a036a731",
   "metadata": {},
   "outputs": [
    {
     "data": {
      "application/vnd.jupyter.widget-view+json": {
       "model_id": "a9b5b5aa978a43f9a04fca4a0982d527",
       "version_major": 2,
       "version_minor": 0
      },
      "text/plain": [
       "  0%|          | 0/2 [00:00<?, ?it/s]"
      ]
     },
     "metadata": {},
     "output_type": "display_data"
    },
    {
     "data": {
      "application/vnd.jupyter.widget-view+json": {
       "model_id": "2aaf2599e70b437ea0e262385d54dbef",
       "version_major": 2,
       "version_minor": 0
      },
      "text/plain": [
       "  0%|          | 0/2 [00:00<?, ?it/s]"
      ]
     },
     "metadata": {},
     "output_type": "display_data"
    },
    {
     "name": "stdout",
     "output_type": "stream",
     "text": [
      "+-----------------+---------------------+\n",
      "| Tweet Length    |   phi(Tweet Length) |\n",
      "+=================+=====================+\n",
      "| Tweet Length(0) |              0.3489 |\n",
      "+-----------------+---------------------+\n",
      "| Tweet Length(1) |              0.4028 |\n",
      "+-----------------+---------------------+\n",
      "| Tweet Length(2) |              0.2483 |\n",
      "+-----------------+---------------------+\n"
     ]
    }
   ],
   "source": [
    "evidence['Problems'] = t_d['Problems']['None']\n",
    "q17 = airline_inf.query(['Tweet Length'], evidence)\n",
    "print(q17)"
   ]
  },
  {
   "cell_type": "markdown",
   "id": "33ab13da",
   "metadata": {},
   "source": [
    "Notice that by adding Problems into the evidence I'm nullyfying the contribution of City and Company, cause Problems is \"shielding\" Tweet Length from them by deactivating their active trails.\n",
    "\n",
    "Let's prove it:"
   ]
  },
  {
   "cell_type": "code",
   "execution_count": 63,
   "id": "78443c0c",
   "metadata": {},
   "outputs": [
    {
     "name": "stdout",
     "output_type": "stream",
     "text": [
      "There are no active trails between Company and Tweet Length\n",
      "There are no active trails between City and Tweet Length\n"
     ]
    },
    {
     "data": {
      "application/vnd.jupyter.widget-view+json": {
       "model_id": "f1efe05e37d041afbf9a6ce870ef46de",
       "version_major": 2,
       "version_minor": 0
      },
      "text/plain": [
       "  0%|          | 0/2 [00:00<?, ?it/s]"
      ]
     },
     "metadata": {},
     "output_type": "display_data"
    },
    {
     "data": {
      "application/vnd.jupyter.widget-view+json": {
       "model_id": "784154dcc0934b7e853869f265ae1a27",
       "version_major": 2,
       "version_minor": 0
      },
      "text/plain": [
       "  0%|          | 0/2 [00:00<?, ?it/s]"
      ]
     },
     "metadata": {},
     "output_type": "display_data"
    },
    {
     "name": "stdout",
     "output_type": "stream",
     "text": [
      "+-----------------+---------------------+\n",
      "| Tweet Length    |   phi(Tweet Length) |\n",
      "+=================+=====================+\n",
      "| Tweet Length(0) |              0.3489 |\n",
      "+-----------------+---------------------+\n",
      "| Tweet Length(1) |              0.4028 |\n",
      "+-----------------+---------------------+\n",
      "| Tweet Length(2) |              0.2483 |\n",
      "+-----------------+---------------------+\n"
     ]
    }
   ],
   "source": [
    "is_active('Company', evidence, 'Tweet Length')\n",
    "is_active('City', evidence, 'Tweet Length')\n",
    "evidence.pop('Company')\n",
    "evidence.pop('City')\n",
    "q18 = airline_inf.query(['Tweet Length'], evidence)\n",
    "print(q18)"
   ]
  },
  {
   "cell_type": "markdown",
   "id": "ac9a95ed",
   "metadata": {},
   "source": [
    "As expected, the probabilities didn't change"
   ]
  },
  {
   "cell_type": "markdown",
   "id": "9563911d",
   "metadata": {},
   "source": [
    "## 5.3. Sampling\n",
    "\n",
    "I'd like to spend a small section talking about sampling. Sampling is a technique to obtain the distribution of a variable when it's computationally too expensive to perform exact inference. Let's see how reliable it is:"
   ]
  },
  {
   "cell_type": "code",
   "execution_count": 64,
   "id": "138c40b7",
   "metadata": {},
   "outputs": [
    {
     "data": {
      "application/vnd.jupyter.widget-view+json": {
       "model_id": "1562e15d023443ee9c82366c223b2d33",
       "version_major": 2,
       "version_minor": 0
      },
      "text/plain": [
       "  0%|          | 0/10000 [00:00<?, ?it/s]"
      ]
     },
     "metadata": {},
     "output_type": "display_data"
    },
    {
     "data": {
      "application/vnd.jupyter.widget-view+json": {
       "model_id": "bd9e232a578743c0a727883e887297d2",
       "version_major": 2,
       "version_minor": 0
      },
      "text/plain": [
       "  0%|          | 0/6 [00:00<?, ?it/s]"
      ]
     },
     "metadata": {},
     "output_type": "display_data"
    },
    {
     "data": {
      "application/vnd.jupyter.widget-view+json": {
       "model_id": "7fd05dc63fd44163b3b3689a6770e1ae",
       "version_major": 2,
       "version_minor": 0
      },
      "text/plain": [
       "  0%|          | 0/6 [00:00<?, ?it/s]"
      ]
     },
     "metadata": {},
     "output_type": "display_data"
    },
    {
     "name": "stdout",
     "output_type": "stream",
     "text": [
      "Sampling distributions:\n",
      "+-----------------+---------------------+\n",
      "| Tweet Length    |   phi(Tweet Length) |\n",
      "+=================+=====================+\n",
      "| Tweet Length(0) |              0.6274 |\n",
      "+-----------------+---------------------+\n",
      "| Tweet Length(1) |              0.2998 |\n",
      "+-----------------+---------------------+\n",
      "| Tweet Length(2) |              0.0728 |\n",
      "+-----------------+---------------------+\n",
      "Exact Inference Distribution:\n",
      "+-----------------+---------------------+\n",
      "| Tweet Length    |   phi(Tweet Length) |\n",
      "+=================+=====================+\n",
      "| Tweet Length(0) |              0.6282 |\n",
      "+-----------------+---------------------+\n",
      "| Tweet Length(1) |              0.3007 |\n",
      "+-----------------+---------------------+\n",
      "| Tweet Length(2) |              0.0711 |\n",
      "+-----------------+---------------------+\n"
     ]
    }
   ],
   "source": [
    "from pgmpy.inference import ApproxInference\n",
    "\n",
    "airline_app = ApproxInference(airline_model)\n",
    "evidence = {'City': t_d['City']['New York'], 'Cancelled': t_d['Cancelled']['True'], 'Retweets': t_d['Retweets']['True']}\n",
    "app_q=airline_app.query(['Tweet Length'], evidence=evidence)\n",
    "exact_q=airline_inf.query(['Tweet Length'], evidence=evidence)\n",
    "print('Sampling distributions:')\n",
    "print(app_q)\n",
    "print('Exact Inference Distribution:')\n",
    "print(exact_q)"
   ]
  },
  {
   "cell_type": "markdown",
   "id": "2da75f98",
   "metadata": {},
   "source": [
    "The two CPDs are very similar.\n",
    "\n",
    "On the other hand, it must be noted that pgmpy sets the number of samples to 10000 by deafult. While it's indeed  good number of samples, it can be unfeasible in practice to compute 10000 samples due to computation time. It could be interesting to see how similar the CPDs are while varying the number of samples.\n",
    "\n",
    "The first step to do that is to define a function that compares the two probability distributions. We will take a naive approach, we'll compute the euclidean distance between them and normalize it by dividing it for the maximum distance possible that is the square root of the cardinality of the domain of the variable. In other words:\n",
    "\n",
    "$Dissimilarity = \\frac{\\sqrt{\\sum\\limits_{i=1}^{n} (X_{i}^{app}-X_{i}^{exact})^{2}}}{\\sqrt{n}}$\n",
    "\n",
    "So if the two distributions are completely different (one is \\[1, 1, ... ,1\\] and the other one is \\[0, 0, ..., 0\\]) then the value will be 1, if they are equal it will be 0.\n",
    "\n",
    "Let's implement it:"
   ]
  },
  {
   "cell_type": "code",
   "execution_count": 65,
   "id": "df0d50ea",
   "metadata": {},
   "outputs": [],
   "source": [
    "def dissimilarity(variable, cpd1, cpd2):\n",
    "    cardinality = len(t_d[variable].items()) # Cardinality of variable\n",
    "    dist_1 = []\n",
    "    dist_2 = []\n",
    "    for v in t_d[variable].values():\n",
    "        dist_1.append(cpd1.get_value(**{variable: v}))\n",
    "        dist_2.append(cpd2.get_value(**{variable: v}))\n",
    "    return np.linalg.norm(np.array(dist_1)-np.array(dist_2), 2)#/np.sqrt(cardinality)"
   ]
  },
  {
   "cell_type": "markdown",
   "id": "18b66376",
   "metadata": {},
   "source": [
    "Very well, now let's define a function that takes a range as an input, computes the dissimilarity with the number of samples taken from the range and then plots the result."
   ]
  },
  {
   "cell_type": "code",
   "execution_count": 96,
   "id": "b15b702d",
   "metadata": {},
   "outputs": [],
   "source": [
    "import time\n",
    "\n",
    "def plot_diss_time(var, ev, rg):\n",
    "    results = []\n",
    "    ti = []\n",
    "    fig, ax1 = plt.subplots(figsize=(10, 10))\n",
    "    ax2 = ax1.twinx()\n",
    "    for n in rg:\n",
    "        start = time.time()\n",
    "        app_q = airline_app.query(var, n_samples=n, evidence=ev, show_progress=False)\n",
    "        app_time = time.time()-start\n",
    "        start = time.time()\n",
    "        exact_q = airline_inf.query(var, ev, show_progress=False)\n",
    "        exact_time = time.time()-start\n",
    "        ti.append(app_time-exact_time)\n",
    "        results.append(dissimilarity(var[0], app_q, exact_q))\n",
    "        print('Computed case with {} samples.'.format(n))\n",
    "    ax1.plot(rg.astype(str), results, '-o', label='Dissimilarity')\n",
    "    ax2.plot(rg.astype(str), ti, '-o', color='orange', label='Time')\n",
    "    ax1.legend(bbox_to_anchor=(0.2, 1))\n",
    "    ax2.legend()\n",
    "    plt.show()"
   ]
  },
  {
   "cell_type": "markdown",
   "id": "bea1471d",
   "metadata": {},
   "source": [
    "Let's test it:"
   ]
  },
  {
   "cell_type": "code",
   "execution_count": 97,
   "id": "31637752",
   "metadata": {},
   "outputs": [
    {
     "name": "stdout",
     "output_type": "stream",
     "text": [
      "Computed case with 50 samples.\n",
      "Computed case with 75 samples.\n",
      "Computed case with 100 samples.\n",
      "Computed case with 150 samples.\n",
      "Computed case with 200 samples.\n",
      "Computed case with 300 samples.\n",
      "Computed case with 400 samples.\n",
      "Computed case with 500 samples.\n",
      "Computed case with 600 samples.\n",
      "Computed case with 700 samples.\n",
      "Computed case with 800 samples.\n",
      "Computed case with 900 samples.\n",
      "Computed case with 1000 samples.\n",
      "Computed case with 5000 samples.\n",
      "Computed case with 10000 samples.\n",
      "Computed case with 20000 samples.\n"
     ]
    },
    {
     "data": {
      "image/png": "[encoded data removed]",
      "text/plain": [
       "<Figure size 720x720 with 2 Axes>"
      ]
     },
     "metadata": {
      "needs_background": "light"
     },
     "output_type": "display_data"
    }
   ],
   "source": [
    "vals = [50, 75, 100, 150, 200, 300, 400, 500, 600, 700, 800, 900, 1000, 5000, 10000, 20000]\n",
    "plot_diss_time(['Tweet Length'], {'City': t_d['City']['New York'], 'Retweets': t_d['Retweets']['True']}, np.array(vals))"
   ]
  },
  {
   "cell_type": "markdown",
   "id": "934ac42b",
   "metadata": {},
   "source": [
    "As expected, while the dissimilarity quickly decreases with the number of samples, the computational time grows exponentially.\n",
    "\n",
    "All to say that even if the sampling method is a good method to obtain the probability distribution of a variable given the evidence, we need to find a good tradeoff between number of samples and approximation's precision. "
   ]
  },
  {
   "cell_type": "markdown",
   "id": "41502fcd",
   "metadata": {},
   "source": [
    "### 5.4. The Network as a Classifier <a class=\"anchor\" id=\"Q-3\"></a>"
   ]
  },
  {
   "cell_type": "markdown",
   "id": "ee840020",
   "metadata": {},
   "source": [
    "I thought it could be interesting to try to use the network as a classifier to label __Sentiment__ and __Problems__. The algorithm should work as follows:\n",
    "- There will be a function __extract_features__ that, given a row of the dataset, will extract __Thank__, __Cancelled__, __Flight__, __Retweets__, __Tweet Time__, __Tweet Length__ and __Company__. __Strike__, __City__ and __Bad Weather__ are not added because I invented the values, so i cannot extract them from the dataset. Meanwhile __Confidence__ is not in the evidence because it isn't in the __Markov Blanket__ of both Sentiment and Problems (given the evidence).\n",
    "- The extracted values are added to the evidence\n",
    "- The network is queried with \\[\\'Sentiment\\', \\'Problems\\'\\] and the pair with higher probability value is picked\n",
    "- The choosen pair is compared with the ground truth\n",
    "\n",
    "Let's start with the extract_features function:"
   ]
  },
  {
   "cell_type": "code",
   "execution_count": null,
   "id": "d58c825f",
   "metadata": {},
   "outputs": [],
   "source": [
    "def extract_features(row_dict):\n",
    "    evidence = {} \n",
    "    \n",
    "    # Extract from the fields of the datum the features we need\n",
    "    \n",
    "    evidence['Company'] = t_d['Company'][row_dict['airline']]\n",
    "    evidence['Retweets'] = t_d['Retweets'][row_dict['retweet_count']]\n",
    "    evidence['Tweet Length'] = t_d['Tweet Length'][row_dict['tweet_length']]\n",
    "    evidence['Tweet Time'] = t_d['Tweet Time'][row_dict['tweet_created']]\n",
    "    \n",
    "    # Search in the text field our \"keywords\"\n",
    "    \n",
    "    for word in ['Thank', 'Flight', 'Cancelled']:\n",
    "        if word.lower() in row_dict['text'].lower():\n",
    "            evidence[word] = t_d[word]['True']\n",
    "        else:\n",
    "            evidence[word] = t_d[word]['False']\n",
    "            \n",
    "    # Dict to convert Sentiment and Problems into 0, 1, etc\n",
    "    \n",
    "    conv_dict = {'Sentiment': {\n",
    "                    'negative': 0,\n",
    "                    'neutral': 1,\n",
    "                    'positive': 2\n",
    "                },\n",
    "                 'Problems': {\n",
    "                     'Complaints': 0,\n",
    "                     'Customer Service': 1,\n",
    "                     'Delay': 2,\n",
    "                     'None': 3\n",
    "                 }\n",
    "            }\n",
    "    \n",
    "    # Ground truth\n",
    "    \n",
    "    truth = {\n",
    "        'Sentiment': conv_dict['Sentiment'][row_dict['airline_sentiment']],\n",
    "        'Problems': conv_dict['Problems'][row_dict['negativereason']]\n",
    "    }\n",
    "    return evidence, truth"
   ]
  },
  {
   "cell_type": "markdown",
   "id": "f3788f70",
   "metadata": {},
   "source": [
    "__classify__ works in this way:\n",
    "- Takes as input an integer n.\n",
    "- Extracts from the dataset n random samples.\n",
    "- Extract evidence from each one of them.\n",
    "- Classifies them.\n",
    "- Returns a triplet of the form (#correct_guesses_sentiment. #correct_guesses_problems, #correct_guesses_both)"
   ]
  },
  {
   "cell_type": "code",
   "execution_count": null,
   "id": "b5e76066",
   "metadata": {},
   "outputs": [],
   "source": [
    "import itertools\n",
    "\n",
    "def classify(n):\n",
    "    rows = random.sample(tweet_df.to_dict(orient='records'), n) # n dictionaries. Each dictionary is a row of the dataset\n",
    "    possible_vals = list(itertools.product((0, 1, 2), (0, 1, 2, 3))) # Combination of all the possible values for (sentiment, problems)\n",
    "    correct = [0, 0, 0] # Number of correct guesses for (Sentiment, Problems, Both)\n",
    "    for row in rows:\n",
    "        ev, truth = extract_features(row) # Extract features\n",
    "        query = airline_inf.query(['Sentiment', 'Problems'], ev, show_progress=False) # Run query\n",
    "        max_val = ((-1, -1), 0) # Stores maximum value. ((sentiment_value, problems_value), probability)\n",
    "        for pair in possible_vals: # Find maximum value\n",
    "            prob = query.get_value(**{'Sentiment': pair[0], 'Problems': pair[1]})\n",
    "            if prob >= max_val[1]:\n",
    "                max_val = (pair, prob)\n",
    "        \n",
    "        # Update correct accordingly\n",
    "        \n",
    "        if max_val[0][0] == truth['Sentiment'] and max_val[0][1] == truth['Problems']:\n",
    "            correct[0] += 1\n",
    "            correct[1] += 1\n",
    "            correct[2] += 1\n",
    "        elif max_val[0][0] == truth['Sentiment']:\n",
    "            correct[0] += 1\n",
    "        elif max_val[0][1] == truth['Problems']:\n",
    "            correct[1] += 1\n",
    "    return correct"
   ]
  },
  {
   "cell_type": "markdown",
   "id": "241cece2",
   "metadata": {},
   "source": [
    "Lastly __plot_accuracy__:\n",
    "- Takes as input n_experiments, b_size\n",
    "- For each experiments in n_experiments:\n",
    "    - Calls classify(b_size)\n",
    "    - Stores results\n",
    "    - Plots results"
   ]
  },
  {
   "cell_type": "code",
   "execution_count": null,
   "id": "695728e2",
   "metadata": {},
   "outputs": [],
   "source": [
    "def plot_accuracy(n_experiments, b_size):\n",
    "    sentiment_results = [] # Will contain results for each category\n",
    "    problems_results = []\n",
    "    both_results = []\n",
    "    for exp in range(n_experiments):\n",
    "        results = classify(b_size) # Classify\n",
    "        sentiment_results.append(results[0]/b_size) # Stores results\n",
    "        problems_results.append(results[1]/b_size)\n",
    "        both_results.append(results[2]/b_size)\n",
    "        print('Completed experiment {}.'.format(exp+1))\n",
    "    plt.plot(sentiment_results, label='Sentiment')\n",
    "    plt.axhline(np.mean(sentiment_results), color='r', linestyle='--') # Plots the results\n",
    "    plt.plot(problems_results, label='Problems')\n",
    "    plt.axhline(np.mean(problems_results), color='r', linestyle='--')\n",
    "    plt.plot(both_results, label='Both')\n",
    "    plt.axhline(np.mean(both_results), color='r', linestyle='--')\n",
    "    plt.legend()\n",
    "    plt.show()"
   ]
  },
  {
   "cell_type": "markdown",
   "id": "1c3687c3",
   "metadata": {},
   "source": [
    "We are finally ready to call __plot_accuracy__ and see what are the results!"
   ]
  },
  {
   "cell_type": "code",
   "execution_count": null,
   "id": "ae9b4470",
   "metadata": {},
   "outputs": [],
   "source": [
    "plot_accuracy(5, 100)"
   ]
  },
  {
   "cell_type": "markdown",
   "id": "b049d125",
   "metadata": {},
   "source": [
    "Sadly the results are not as good as I hoped. \n",
    "\n",
    "The Sentiment's accuracy is the only one barely acceptable with an average of 0.67.\n",
    "\n",
    "The Problem's accuracy shows an average barely bigger than 0.5, not good.\n",
    "\n",
    "Lastly the accuracy for both classifications to be correct is below 0.5. Again, not that good.\n",
    "\n",
    "Anyway no matter the results it was a fun thing to test out, maybe with a different network structure or with more features the results could improve! "
   ]
  },
  {
   "cell_type": "markdown",
   "id": "df80c26b",
   "metadata": {},
   "source": [
    "## 6. Conclusions <a class=\"anchor\" id=\"C\"></a>"
   ]
  },
  {
   "cell_type": "code",
   "execution_count": null,
   "id": "04f0c98a",
   "metadata": {},
   "outputs": [],
   "source": [
    "# TODO"
   ]
  }
 ],
 "metadata": {
  "kernelspec": {
   "display_name": "Python 3 (ipykernel)",
   "language": "python",
   "name": "python3"
  },
  "language_info": {
   "codemirror_mode": {
    "name": "ipython",
    "version": 3
   },
   "file_extension": ".py",
   "mimetype": "text/x-python",
   "name": "python",
   "nbconvert_exporter": "python",
   "pygments_lexer": "ipython3",
   "version": "3.8.12"
  }
 },
 "nbformat": 4,
 "nbformat_minor": 5
}
